{
 "cells": [
  {
   "cell_type": "code",
   "execution_count": 1,
   "id": "7a646d67-1fc0-464e-83cc-5a42b758177a",
   "metadata": {},
   "outputs": [
    {
     "name": "stderr",
     "output_type": "stream",
     "text": [
      "2024-02-07 14:53:43.392879: I external/local_tsl/tsl/cuda/cudart_stub.cc:31] Could not find cuda drivers on your machine, GPU will not be used.\n",
      "2024-02-07 14:53:43.439326: E external/local_xla/xla/stream_executor/cuda/cuda_dnn.cc:9261] Unable to register cuDNN factory: Attempting to register factory for plugin cuDNN when one has already been registered\n",
      "2024-02-07 14:53:43.439375: E external/local_xla/xla/stream_executor/cuda/cuda_fft.cc:607] Unable to register cuFFT factory: Attempting to register factory for plugin cuFFT when one has already been registered\n",
      "2024-02-07 14:53:43.440760: E external/local_xla/xla/stream_executor/cuda/cuda_blas.cc:1515] Unable to register cuBLAS factory: Attempting to register factory for plugin cuBLAS when one has already been registered\n",
      "2024-02-07 14:53:43.447667: I external/local_tsl/tsl/cuda/cudart_stub.cc:31] Could not find cuda drivers on your machine, GPU will not be used.\n",
      "2024-02-07 14:53:43.448124: I tensorflow/core/platform/cpu_feature_guard.cc:182] This TensorFlow binary is optimized to use available CPU instructions in performance-critical operations.\n",
      "To enable the following instructions: AVX2 FMA, in other operations, rebuild TensorFlow with the appropriate compiler flags.\n",
      "2024-02-07 14:53:44.452919: W tensorflow/compiler/tf2tensorrt/utils/py_utils.cc:38] TF-TRT Warning: Could not find TensorRT\n"
     ]
    }
   ],
   "source": [
    "# imports utiles\n",
    "%matplotlib widget \n",
    "import numpy as np\n",
    "import matplotlib.pyplot as plt\n",
    "from matplotlib import cm\n",
    "from pprint import pprint\n",
    "import regex\n",
    "import random\n",
    "\n",
    "from sklearn.preprocessing import LabelEncoder\n",
    "from tensorflow.keras.utils import to_categorical"
   ]
  },
  {
   "cell_type": "markdown",
   "id": "6ad6e037-7112-4dc5-b94a-2b4ac94198bf",
   "metadata": {},
   "source": [
    "# Lecture du jeu de données\n",
    "\n",
    "Dans le corpus, on compte simplement la fréquence des bigrammes 'en' et 'th'"
   ]
  },
  {
   "cell_type": "code",
   "execution_count": 2,
   "id": "3bf288b5-47bc-4cfc-b351-7cf15736975f",
   "metadata": {},
   "outputs": [],
   "source": [
    "def load_french_data():\n",
    "    fr_data = []\n",
    "    with open(\"fr_corpus.txt\") as f:\n",
    "        text = f.read()\n",
    "        text = regex.split(r'(?<!M)\\.', text)\n",
    "        # print(len(text))\n",
    "        for line in text:\n",
    "        \n",
    "            n_es = line.count(\"es\")\n",
    "            n_ch = line.count(\"ch\")\n",
    "            l = len(line)\n",
    "            if l != 0:\n",
    "               # instance = {\"label\":label, \"th\": n_th / l, \"en\": n_en /l}\n",
    "                instance = {\"label\":\"fr\", \"es\": n_es / l, \"ch\": n_ch / l}\n",
    "                fr_data.append(instance)\n",
    "    \n",
    "    return fr_data"
   ]
  },
  {
   "cell_type": "code",
   "execution_count": 3,
   "id": "3762c6fa-16a9-4a1b-9e01-bab4a0d18ea7",
   "metadata": {},
   "outputs": [
    {
     "name": "stdout",
     "output_type": "stream",
     "text": [
      "18675\n"
     ]
    }
   ],
   "source": [
    "fr_data = load_french_data()\n",
    "print(len(fr_data))\n",
    "# pprint(fr_data[:20])"
   ]
  },
  {
   "cell_type": "code",
   "execution_count": 4,
   "id": "adc2e9ff-236a-423e-a755-36648e54db97",
   "metadata": {},
   "outputs": [],
   "source": [
    "def load_data():\n",
    "    data = []\n",
    "    with open(\"corpus.txt\") as file:\n",
    "        for line in file:\n",
    "            label, text = line.strip().split(\" \",1)\n",
    "            \n",
    "            # n_th = text.count(\"th\")\n",
    "            # n_en = text.count(\"en\")\n",
    "            \n",
    "            # essai d'autre bigramme\n",
    "            n_es = text.count(\"es\")\n",
    "            n_ch = text.count(\"ch\")\n",
    "            l = len(text)\n",
    "            # instance = {\"label\":label, \"th\": n_th / l, \"en\": n_en /l}\n",
    "            instance = {\"label\":label, \"es\": n_es / l, \"ch\": n_ch / l}\n",
    "            data.append(instance)\n",
    "    print(f'{len(data)}')\n",
    "    return data\n",
    "\n"
   ]
  },
  {
   "cell_type": "markdown",
   "id": "335b0d9c-6cb8-4b3d-a0de-6265c12b6c93",
   "metadata": {},
   "source": [
    "## Concatener les donner et selectionner avec random\n"
   ]
  },
  {
   "cell_type": "markdown",
   "id": "3149b885-7dbb-4db7-9bd7-2157c5359683",
   "metadata": {},
   "source": [
    "### Changer taille des données"
   ]
  },
  {
   "cell_type": "code",
   "execution_count": 5,
   "id": "c5aff273-2fd9-42fb-9b8f-77962dd26383",
   "metadata": {},
   "outputs": [
    {
     "name": "stdout",
     "output_type": "stream",
     "text": [
      "33671\n"
     ]
    }
   ],
   "source": [
    "# changer taille de corpus\n",
    "mix_data = load_data()\n",
    "part_data = mix_data + fr_data\n",
    "\n",
    "# selectionner taille de données \n",
    "random.seed(42)\n",
    "data = random.sample(part_data, 20000)\n",
    "\n",
    "# print(len(data))\n",
    "# pprint(data[:10])"
   ]
  },
  {
   "cell_type": "markdown",
   "id": "471840a0-ea0d-4a7a-a535-868282b59e45",
   "metadata": {},
   "source": [
    "## Normalisation\n",
    "\n",
    "une pratique courante qui facilite souvent l'apprentissage consiste à normaliser les valeurs en entrée d'un réseau.\n",
    "\n",
    "Ci-dessous, j'utilise un z-score ([standardisation](https://en.wikipedia.org/wiki/Standard_score))\n",
    "\n",
    "$$ z = \\frac{x - \\mu}{\\sigma} $$"
   ]
  },
  {
   "cell_type": "code",
   "execution_count": 6,
   "id": "03a0a3b8-a652-489c-945a-f8305d22102d",
   "metadata": {},
   "outputs": [],
   "source": [
    "# Tester avec ou sans standardisation\n",
    "\n",
    "def normalise_data(dataset):\n",
    "    for k in dataset[0].keys():\n",
    "        if k != 'label':\n",
    "            mean = np.mean([d[k] for d in dataset])\n",
    "            std = np.std([d[k] for d in dataset])\n",
    "            for d in dataset:\n",
    "                d[k] = (d[k]- mean) / std\n",
    "                \n",
    "normalise_data(data) # replacing by z-score "
   ]
  },
  {
   "cell_type": "code",
   "execution_count": 7,
   "id": "41dc8b84-379c-42d9-a018-b4f12b00ada5",
   "metadata": {},
   "outputs": [
    {
     "name": "stdout",
     "output_type": "stream",
     "text": [
      "[{'ch': -0.7613646070277057, 'es': 0.3833856023287892, 'label': 'fr'},\n",
      " {'ch': -0.7613646070277057, 'es': -0.34301614817722553, 'label': 'eng'},\n",
      " {'ch': -0.23849703493719587, 'es': -0.6810502517757024, 'label': 'deu'},\n",
      " {'ch': -0.7613646070277057, 'es': 0.7319306873528084, 'label': 'fr'},\n",
      " {'ch': -0.1623176535730156, 'es': -1.1666767104664724, 'label': 'deu'},\n",
      " {'ch': 1.8132869101921671, 'es': 0.10866867630397438, 'label': 'deu'},\n",
      " {'ch': -0.7613646070277057, 'es': 0.6597010580879444, 'label': 'eng'},\n",
      " {'ch': -0.7613646070277057, 'es': -1.1666767104664724, 'label': 'eng'},\n",
      " {'ch': -0.26975542239912853, 'es': -1.1666767104664724, 'label': 'fr'},\n",
      " {'ch': 0.5090860948214263, 'es': 0.24927908762627776, 'label': 'deu'}]\n"
     ]
    }
   ],
   "source": [
    "pprint(data[:10])"
   ]
  },
  {
   "cell_type": "markdown",
   "id": "8f788b98-83c2-40bc-b92a-4bd3e6ae20aa",
   "metadata": {},
   "source": [
    "# Perceptron en python\n",
    "\n",
    "la fonction de classification prend en argument l'instance $i$ à classifier et les paramètres $W$ du modèle .\n",
    "\n",
    " $$f(v;W) = vW$$\n",
    " $$f(v) = v[0]*W_0 + v[1]*W_1 $$\n",
    "\n",
    "Pour faciliter la visualisation, on n'utilise pas de *biais* (on fixe $b=0$)\n"
   ]
  },
  {
   "cell_type": "code",
   "execution_count": 8,
   "id": "7e9a4fde-06e4-44bb-bb9e-0782d5bc899e",
   "metadata": {},
   "outputs": [],
   "source": [
    "# def perceptron_str(instance, params) -> str:\n",
    "#     # activation = params['th'] * instance['th'] + params['en'] * instance['en']\n",
    "#     activation = params['es'] * instance['es'] + params['ch'] * instance['ch']\n",
    "    \n",
    "#     z = 1/(1 + np.exp(-activation))  # sigmoïde\n",
    "#     return \"eng\" if z > 0.5 else \"deu\" "
   ]
  },
  {
   "cell_type": "code",
   "execution_count": 9,
   "id": "04589a72-f423-47d1-a3b2-0b1b2dbd7b3f",
   "metadata": {},
   "outputs": [],
   "source": [
    "# def perceptron_float(instance, params) -> float:\n",
    "#     # activation = params['th'] * instance['th'] + params['en'] * instance['en'] # dot product\n",
    "#     activation = params['es'] * instance['es'] + params['ch'] * instance['ch']\n",
    "#     z = 1/(1 + np.exp(-activation))  # sigmoïde \n",
    "#     return z"
   ]
  },
  {
   "cell_type": "markdown",
   "id": "4c19e0dc-4b80-4f5b-89d5-f6db17306b66",
   "metadata": {},
   "source": [
    "# Exploration de l'espace des paramètres"
   ]
  },
  {
   "cell_type": "markdown",
   "id": "2036d258-3f20-4b7e-9404-82539d898b58",
   "metadata": {},
   "source": [
    "\n",
    "### Formula MSE - MEAN SQUARED ERROR \n",
    "$$ \\text{MSE} = \\frac{1}{n} \\sum_{i=1}^{n} (\\hat{y}_i - y_i)^2 $$\n",
    "\n",
    "- n is the total number of instances \n",
    "- $\\hat{y} $ is the predicted value of the  $ i^{th} $ instance\n",
    "- $ y_i $ is the true value (label) for the $ i^{th} $ instance\n",
    " \n"
   ]
  },
  {
   "cell_type": "code",
   "execution_count": 10,
   "id": "c87ecd08-902d-4847-b910-a6406cbd4d17",
   "metadata": {},
   "outputs": [],
   "source": [
    "# # génération d'une grille pour couvrir l'ensemble des paramètres possibles\n",
    "# # x -> poids de EN\n",
    "# # y -> poids de TH\n",
    "# X = np.arange(-1, 1, .1)\n",
    "# Y = np.arange(-1, 1, .1)\n",
    "# X, Y = np.meshgrid(X, Y)\n",
    "\n",
    "# dataset = data\n",
    "# total = len(dataset)\n",
    "\n",
    "# # fonction qui évalue un couple de paramètres \n",
    "# def evaluation_acc(x,y)-> float:\n",
    "#     ok = 0\n",
    "#     # params = {'en':x, 'th':y}\n",
    "#     params = {'es':x, 'ch':y}\n",
    "#     for inst in dataset:\n",
    "#         if perceptron_str(inst, params) == inst['label']: # if «en» or «deu»\n",
    "#             ok += 1.0\n",
    "#     return ok / total  # acc 0 or 1\n",
    "\n",
    "# # mean squared error \n",
    "# def evaluation_mse(x,y)-> float: \n",
    "#     mse = 0\n",
    "#     # params = {'en':x, 'th':y}\n",
    "#     params = {'es':x, 'ch':y}\n",
    "#     for inst in dataset: # for each item in dataset compare values\n",
    "#         r = perceptron_float(inst, params)  # returns 'eng' or 'deu'\n",
    "#         gold = 1.0 if inst['label'] == 'eng' else 0.0\n",
    "#         mse += (r - gold)**2 \n",
    "#     return mse / total\n",
    "\n",
    "\n",
    "# # On applique cette fonction à toute la grille \n",
    "# # Z = toutes les exactitudes à différents endroits de l'espace\n",
    "# Z_acc = np.vectorize(evaluation_acc)(X,Y)       \n",
    "# Z_mse = np.vectorize(evaluation_mse)(X,Y)       "
   ]
  },
  {
   "cell_type": "code",
   "execution_count": 11,
   "id": "e5f20b0d-aaf7-43cc-8d10-6a5669fdeac2",
   "metadata": {},
   "outputs": [],
   "source": [
    "# from matplotlib import cm\n",
    "# fig = plt.figure()\n",
    "# ax = fig.add_subplot(projection='3d')\n",
    "# ax.plot_surface(X,Y,Z_acc, alpha=0.8, cmap=cm.coolwarm)\n",
    "# ax.set_xlabel('W EN')\n",
    "# ax.set_ylabel('W TH')\n",
    "# ax.set_zlabel('précision du modèle')\n",
    "# plt.show()"
   ]
  },
  {
   "cell_type": "code",
   "execution_count": 12,
   "id": "5fd005a1-32cd-484f-8de4-58a6d8461ae0",
   "metadata": {},
   "outputs": [],
   "source": [
    "# from matplotlib import cm\n",
    "# fig = plt.figure()\n",
    "# ax = fig.add_subplot(projection='3d')\n",
    "# ax.plot_surface(X,Y,Z_mse, alpha=0.8, cmap=cm.coolwarm)\n",
    "# ax.set_xlabel('W EN')\n",
    "# ax.set_ylabel('W TH')\n",
    "# ax.set_zlabel('erreur moyenne (MSE)')\n",
    "# plt.show()"
   ]
  },
  {
   "cell_type": "markdown",
   "id": "c6be3101-ef7d-4e57-878e-59eb7981d92d",
   "metadata": {},
   "source": [
    "# Version Keras"
   ]
  },
  {
   "cell_type": "code",
   "execution_count": 13,
   "id": "f5a09094-04e9-42ad-9c0c-19b0a82fad56",
   "metadata": {},
   "outputs": [
    {
     "name": "stdout",
     "output_type": "stream",
     "text": [
      "env: TF_FORCE_GPU_ALLOW_GROWTH=true\n"
     ]
    }
   ],
   "source": [
    "%env TF_FORCE_GPU_ALLOW_GROWTH=true\n",
    "import tensorflow as tf\n",
    "import keras"
   ]
  },
  {
   "cell_type": "markdown",
   "id": "45216b41-d94e-4dee-b7fa-1ebda220352c",
   "metadata": {},
   "source": [
    "## Définition d'un modèle équivalent au perceptron\n",
    "- en entrée des instances avec deux valeurs\n",
    "- une simple couche dense\n",
    "- la sigmoïde en fonction d'activation\n",
    "\n",
    "  ### Deux façons de faire :\n",
    "  (séquentielle et fonctionnelle)"
   ]
  },
  {
   "cell_type": "code",
   "execution_count": 14,
   "id": "8c9e9691-f279-4172-aace-a8c18c043c4b",
   "metadata": {},
   "outputs": [],
   "source": [
    "# sequential\n",
    "\n",
    "input_shape = (2,) \n",
    "num_classes = 3  \n",
    "\n",
    "def PerceptronModel():\n",
    "    model = keras.Sequential([\n",
    "        keras.Input(shape=input_shape, name=\"entrée\"),\n",
    "        keras.layers.Dense(2, activation=\"softmax\", name=\"layer1\", use_bias=True), \n",
    "        keras.layers.Dense(1, activation=\"softmax\", name=\"layer2\", use_bias=True),\n",
    "        keras.layers.Dense(num_classes, activation='softmax')\n",
    "    ])\n",
    "    # model.compile(optimizer='sgd', loss='binary_crossentropy', metrics=['accuracy'])\n",
    "    model.compile(optimizer='sgd', loss='categorical_crossentropy', metrics=['accuracy'])\n",
    "    \n",
    "    return model"
   ]
  },
  {
   "cell_type": "code",
   "execution_count": 15,
   "id": "2cadc7df-e6fa-4445-a578-e66cfaefe3f8",
   "metadata": {},
   "outputs": [],
   "source": [
    "# # functional\n",
    "# def PerceptronModel():\n",
    "#     inputs = keras.layers.Input(shape=(2,), name=\"entrée\")\n",
    "#     # use_bias\n",
    "#     neuron = keras.layers.Dense(1, activation=\"sigmoid\", use_bias=True, name=\"couche1\")(inputs) # add dense layer\n",
    "#     model = keras.Model(inputs=inputs, outputs=neuron)\n",
    "#     # model.add \n",
    "    \n",
    "#     model.compile(optimizer='sgd', loss='binary_crossentropy', metrics=[\"accuracy\"]) # change for multiclass\n",
    "#     return model"
   ]
  },
  {
   "cell_type": "markdown",
   "id": "4ffb606d-0f8c-4214-b84c-f8b4462d7a98",
   "metadata": {},
   "source": [
    "## Préparation des données\n",
    "- Pour l'entrainement, on doit transformer nos instances en **array** numpy ou (mieux) en **tenseurs**\n",
    "- en séparant les données (inputs) de leurs labels (output)"
   ]
  },
  {
   "cell_type": "code",
   "execution_count": 16,
   "id": "55500ec2-45e5-442e-b60c-c5454896a355",
   "metadata": {},
   "outputs": [],
   "source": [
    "# # training_data = np.array([[d['th'], d['en']] for d in data])\n",
    "\n",
    "# training_data = np.array([[d['ch'], d['es']] for d in data])\n",
    "# # labels = np.array([0.0 if d['label'] == 'deu' else 1.0 for d in data]) \n",
    "# # for multiclass\n",
    "# label_mapping = {'deu': 0, 'eng': 1, 'fr': 2}\n",
    "# labels = np.array([label_mapping[d['label']] for d in data])\n",
    "\n"
   ]
  },
  {
   "cell_type": "code",
   "execution_count": 17,
   "id": "2bcdeeb6-383c-4112-8e64-c452813cee0f",
   "metadata": {},
   "outputs": [],
   "source": [
    "training_data = np.array([[d['ch'], d['es']] for d in data])\n",
    "# tr_reshape = np.reshape(training_data, (len(training_data), -1))\n",
    "# for multiclass\n",
    "# tr = ([[d['ch'], d['es']] for d in data])\n",
    "label_mapping = {'deu': 0, 'eng': 1, 'fr': 2}\n",
    "labels = np.array([label_mapping[d['label']] for d in data])\n",
    "labels = keras.utils.to_categorical(labels, num_classes = 3)\n",
    "\n",
    "# print(training_data[:20])\n",
    "# print(labels[:20])"
   ]
  },
  {
   "cell_type": "code",
   "execution_count": null,
   "id": "5e7ceac2-f32a-4085-9c18-b30b5c73269d",
   "metadata": {},
   "outputs": [],
   "source": []
  },
  {
   "cell_type": "code",
   "execution_count": 18,
   "id": "415bf212-9cf8-424f-8c76-a173a1cb775f",
   "metadata": {},
   "outputs": [
    {
     "data": {
      "text/plain": [
       "((20000, 2), (20000, 3))"
      ]
     },
     "execution_count": 18,
     "metadata": {},
     "output_type": "execute_result"
    }
   ],
   "source": [
    "# print(num_classes)\n",
    "# print(one_hot_labels.shape)\n",
    "training_data.shape, labels.shape "
   ]
  },
  {
   "cell_type": "markdown",
   "id": "345ded3a-7139-433d-bdf2-d9cab98c1890",
   "metadata": {},
   "source": [
    "### split en train et test"
   ]
  },
  {
   "cell_type": "code",
   "execution_count": 19,
   "id": "60ae1dc5-bce0-4c0f-8edd-8f4e5acaccdb",
   "metadata": {},
   "outputs": [],
   "source": [
    "# split train test\n",
    "from sklearn.model_selection import train_test_split\n",
    "X_train, X_test, y_train, y_test = train_test_split(training_data, labels, test_size=0.2, random_state=42)"
   ]
  },
  {
   "cell_type": "code",
   "execution_count": 20,
   "id": "bdc48996-090a-43f3-a3f2-e4c654d50ab7",
   "metadata": {},
   "outputs": [
    {
     "name": "stdout",
     "output_type": "stream",
     "text": [
      "(16000, 2) (16000, 3)\n",
      "(4000, 2) (4000, 3)\n"
     ]
    }
   ],
   "source": [
    "print(X_train.shape, y_train.shape)\n",
    "print(X_test.shape, y_test.shape)\n"
   ]
  },
  {
   "cell_type": "code",
   "execution_count": null,
   "id": "6a0507cf-af1e-4199-9f34-96ceac04242d",
   "metadata": {},
   "outputs": [],
   "source": []
  },
  {
   "cell_type": "markdown",
   "id": "1de4c43d-288c-4942-8a59-e3a24efa867f",
   "metadata": {},
   "source": [
    "## Création et visualisation d'un modèle"
   ]
  },
  {
   "cell_type": "code",
   "execution_count": 21,
   "id": "f179d6f1-e9d9-4ddf-886a-51dee1eb14b3",
   "metadata": {},
   "outputs": [
    {
     "data": {
      "text/html": [
       "<pre style=\"white-space:pre;overflow-x:auto;line-height:normal;font-family:Menlo,'DejaVu Sans Mono',consolas,'Courier New',monospace\"><span style=\"font-weight: bold\">Model: \"sequential\"</span>\n",
       "</pre>\n"
      ],
      "text/plain": [
       "\u001b[1mModel: \"sequential\"\u001b[0m\n"
      ]
     },
     "metadata": {},
     "output_type": "display_data"
    },
    {
     "data": {
      "text/html": [
       "<pre style=\"white-space:pre;overflow-x:auto;line-height:normal;font-family:Menlo,'DejaVu Sans Mono',consolas,'Courier New',monospace\">┏━━━━━━━━━━━━━━━━━━━━━━━━━━━━━━━━━┳━━━━━━━━━━━━━━━━━━━━━━━━━━━┳━━━━━━━━━━━━┓\n",
       "┃<span style=\"font-weight: bold\"> Layer (type)                    </span>┃<span style=\"font-weight: bold\"> Output Shape              </span>┃<span style=\"font-weight: bold\">    Param # </span>┃\n",
       "┡━━━━━━━━━━━━━━━━━━━━━━━━━━━━━━━━━╇━━━━━━━━━━━━━━━━━━━━━━━━━━━╇━━━━━━━━━━━━┩\n",
       "│ layer1 (<span style=\"color: #0087ff; text-decoration-color: #0087ff\">Dense</span>)                  │ (<span style=\"color: #00d7ff; text-decoration-color: #00d7ff\">None</span>, <span style=\"color: #00af00; text-decoration-color: #00af00\">2</span>)                 │          <span style=\"color: #00af00; text-decoration-color: #00af00\">6</span> │\n",
       "├─────────────────────────────────┼───────────────────────────┼────────────┤\n",
       "│ layer2 (<span style=\"color: #0087ff; text-decoration-color: #0087ff\">Dense</span>)                  │ (<span style=\"color: #00d7ff; text-decoration-color: #00d7ff\">None</span>, <span style=\"color: #00af00; text-decoration-color: #00af00\">1</span>)                 │          <span style=\"color: #00af00; text-decoration-color: #00af00\">3</span> │\n",
       "├─────────────────────────────────┼───────────────────────────┼────────────┤\n",
       "│ dense (<span style=\"color: #0087ff; text-decoration-color: #0087ff\">Dense</span>)                   │ (<span style=\"color: #00d7ff; text-decoration-color: #00d7ff\">None</span>, <span style=\"color: #00af00; text-decoration-color: #00af00\">3</span>)                 │          <span style=\"color: #00af00; text-decoration-color: #00af00\">6</span> │\n",
       "└─────────────────────────────────┴───────────────────────────┴────────────┘\n",
       "</pre>\n"
      ],
      "text/plain": [
       "┏━━━━━━━━━━━━━━━━━━━━━━━━━━━━━━━━━┳━━━━━━━━━━━━━━━━━━━━━━━━━━━┳━━━━━━━━━━━━┓\n",
       "┃\u001b[1m \u001b[0m\u001b[1mLayer (type)                   \u001b[0m\u001b[1m \u001b[0m┃\u001b[1m \u001b[0m\u001b[1mOutput Shape             \u001b[0m\u001b[1m \u001b[0m┃\u001b[1m \u001b[0m\u001b[1m   Param #\u001b[0m\u001b[1m \u001b[0m┃\n",
       "┡━━━━━━━━━━━━━━━━━━━━━━━━━━━━━━━━━╇━━━━━━━━━━━━━━━━━━━━━━━━━━━╇━━━━━━━━━━━━┩\n",
       "│ layer1 (\u001b[38;5;33mDense\u001b[0m)                  │ (\u001b[38;5;45mNone\u001b[0m, \u001b[38;5;34m2\u001b[0m)                 │          \u001b[38;5;34m6\u001b[0m │\n",
       "├─────────────────────────────────┼───────────────────────────┼────────────┤\n",
       "│ layer2 (\u001b[38;5;33mDense\u001b[0m)                  │ (\u001b[38;5;45mNone\u001b[0m, \u001b[38;5;34m1\u001b[0m)                 │          \u001b[38;5;34m3\u001b[0m │\n",
       "├─────────────────────────────────┼───────────────────────────┼────────────┤\n",
       "│ dense (\u001b[38;5;33mDense\u001b[0m)                   │ (\u001b[38;5;45mNone\u001b[0m, \u001b[38;5;34m3\u001b[0m)                 │          \u001b[38;5;34m6\u001b[0m │\n",
       "└─────────────────────────────────┴───────────────────────────┴────────────┘\n"
      ]
     },
     "metadata": {},
     "output_type": "display_data"
    },
    {
     "data": {
      "text/html": [
       "<pre style=\"white-space:pre;overflow-x:auto;line-height:normal;font-family:Menlo,'DejaVu Sans Mono',consolas,'Courier New',monospace\"><span style=\"font-weight: bold\"> Total params: </span><span style=\"color: #00af00; text-decoration-color: #00af00\">15</span> (60.00 B)\n",
       "</pre>\n"
      ],
      "text/plain": [
       "\u001b[1m Total params: \u001b[0m\u001b[38;5;34m15\u001b[0m (60.00 B)\n"
      ]
     },
     "metadata": {},
     "output_type": "display_data"
    },
    {
     "data": {
      "text/html": [
       "<pre style=\"white-space:pre;overflow-x:auto;line-height:normal;font-family:Menlo,'DejaVu Sans Mono',consolas,'Courier New',monospace\"><span style=\"font-weight: bold\"> Trainable params: </span><span style=\"color: #00af00; text-decoration-color: #00af00\">15</span> (60.00 B)\n",
       "</pre>\n"
      ],
      "text/plain": [
       "\u001b[1m Trainable params: \u001b[0m\u001b[38;5;34m15\u001b[0m (60.00 B)\n"
      ]
     },
     "metadata": {},
     "output_type": "display_data"
    },
    {
     "data": {
      "text/html": [
       "<pre style=\"white-space:pre;overflow-x:auto;line-height:normal;font-family:Menlo,'DejaVu Sans Mono',consolas,'Courier New',monospace\"><span style=\"font-weight: bold\"> Non-trainable params: </span><span style=\"color: #00af00; text-decoration-color: #00af00\">0</span> (0.00 B)\n",
       "</pre>\n"
      ],
      "text/plain": [
       "\u001b[1m Non-trainable params: \u001b[0m\u001b[38;5;34m0\u001b[0m (0.00 B)\n"
      ]
     },
     "metadata": {},
     "output_type": "display_data"
    },
    {
     "data": {
      "image/png": "[encoded data removed]",
      "text/plain": [
       "<IPython.core.display.Image object>"
      ]
     },
     "execution_count": 21,
     "metadata": {},
     "output_type": "execute_result"
    }
   ],
   "source": [
    "m = PerceptronModel()\n",
    "m.summary()\n",
    "keras.utils.plot_model(m,show_dtype=True, show_shapes=True, show_layer_names=True, show_layer_activations=True)"
   ]
  },
  {
   "cell_type": "markdown",
   "id": "f6f0752b-572c-427b-8ffa-f6852c32a59e",
   "metadata": {},
   "source": [
    "## Entraînement du modèle\n",
    "\n",
    "(Attention: que ce passe-t-il si on relance plusieurs fois la cellulle suivante ?)"
   ]
  },
  {
   "cell_type": "code",
   "execution_count": 22,
   "id": "4ca4bb21-5e8c-46ea-bf05-cd95d93d1fc6",
   "metadata": {},
   "outputs": [
    {
     "name": "stdout",
     "output_type": "stream",
     "text": [
      "Epoch 1/30\n",
      "\u001b[1m400/400\u001b[0m \u001b[32m━━━━━━━━━━━━━━━━━━━━\u001b[0m\u001b[37m\u001b[0m \u001b[1m1s\u001b[0m 1ms/step - accuracy: 0.3238 - loss: 1.1338 - val_accuracy: 0.3569 - val_loss: 1.0979\n",
      "Epoch 2/30\n",
      "\u001b[1m400/400\u001b[0m \u001b[32m━━━━━━━━━━━━━━━━━━━━\u001b[0m\u001b[37m\u001b[0m \u001b[1m0s\u001b[0m 833us/step - accuracy: 0.3594 - loss: 1.0972 - val_accuracy: 0.3569 - val_loss: 1.0971\n",
      "Epoch 3/30\n",
      "\u001b[1m400/400\u001b[0m \u001b[32m━━━━━━━━━━━━━━━━━━━━\u001b[0m\u001b[37m\u001b[0m \u001b[1m0s\u001b[0m 858us/step - accuracy: 0.3532 - loss: 1.0974 - val_accuracy: 0.3569 - val_loss: 1.0974\n",
      "Epoch 4/30\n",
      "\u001b[1m400/400\u001b[0m \u001b[32m━━━━━━━━━━━━━━━━━━━━\u001b[0m\u001b[37m\u001b[0m \u001b[1m0s\u001b[0m 832us/step - accuracy: 0.3454 - loss: 1.0983 - val_accuracy: 0.3569 - val_loss: 1.0973\n",
      "Epoch 5/30\n",
      "\u001b[1m400/400\u001b[0m \u001b[32m━━━━━━━━━━━━━━━━━━━━\u001b[0m\u001b[37m\u001b[0m \u001b[1m0s\u001b[0m 1ms/step - accuracy: 0.3483 - loss: 1.0979 - val_accuracy: 0.3569 - val_loss: 1.0972\n",
      "Epoch 6/30\n",
      "\u001b[1m400/400\u001b[0m \u001b[32m━━━━━━━━━━━━━━━━━━━━\u001b[0m\u001b[37m\u001b[0m \u001b[1m0s\u001b[0m 840us/step - accuracy: 0.3534 - loss: 1.0978 - val_accuracy: 0.3569 - val_loss: 1.0970\n",
      "Epoch 7/30\n",
      "\u001b[1m400/400\u001b[0m \u001b[32m━━━━━━━━━━━━━━━━━━━━\u001b[0m\u001b[37m\u001b[0m \u001b[1m0s\u001b[0m 850us/step - accuracy: 0.3572 - loss: 1.0968 - val_accuracy: 0.3569 - val_loss: 1.0974\n",
      "Epoch 8/30\n",
      "\u001b[1m400/400\u001b[0m \u001b[32m━━━━━━━━━━━━━━━━━━━━\u001b[0m\u001b[37m\u001b[0m \u001b[1m0s\u001b[0m 893us/step - accuracy: 0.3558 - loss: 1.0975 - val_accuracy: 0.3569 - val_loss: 1.0971\n",
      "Epoch 9/30\n",
      "\u001b[1m400/400\u001b[0m \u001b[32m━━━━━━━━━━━━━━━━━━━━\u001b[0m\u001b[37m\u001b[0m \u001b[1m0s\u001b[0m 854us/step - accuracy: 0.3498 - loss: 1.0976 - val_accuracy: 0.3569 - val_loss: 1.0971\n",
      "Epoch 10/30\n",
      "\u001b[1m400/400\u001b[0m \u001b[32m━━━━━━━━━━━━━━━━━━━━\u001b[0m\u001b[37m\u001b[0m \u001b[1m0s\u001b[0m 880us/step - accuracy: 0.3485 - loss: 1.0981 - val_accuracy: 0.3569 - val_loss: 1.0971\n",
      "Epoch 11/30\n",
      "\u001b[1m400/400\u001b[0m \u001b[32m━━━━━━━━━━━━━━━━━━━━\u001b[0m\u001b[37m\u001b[0m \u001b[1m0s\u001b[0m 880us/step - accuracy: 0.3492 - loss: 1.0974 - val_accuracy: 0.3569 - val_loss: 1.0974\n",
      "Epoch 12/30\n",
      "\u001b[1m400/400\u001b[0m \u001b[32m━━━━━━━━━━━━━━━━━━━━\u001b[0m\u001b[37m\u001b[0m \u001b[1m0s\u001b[0m 841us/step - accuracy: 0.3485 - loss: 1.0981 - val_accuracy: 0.3569 - val_loss: 1.0972\n",
      "Epoch 13/30\n",
      "\u001b[1m400/400\u001b[0m \u001b[32m━━━━━━━━━━━━━━━━━━━━\u001b[0m\u001b[37m\u001b[0m \u001b[1m0s\u001b[0m 915us/step - accuracy: 0.3568 - loss: 1.0974 - val_accuracy: 0.3569 - val_loss: 1.0972\n",
      "Epoch 14/30\n",
      "\u001b[1m400/400\u001b[0m \u001b[32m━━━━━━━━━━━━━━━━━━━━\u001b[0m\u001b[37m\u001b[0m \u001b[1m0s\u001b[0m 795us/step - accuracy: 0.3411 - loss: 1.0984 - val_accuracy: 0.3569 - val_loss: 1.0970\n",
      "Epoch 15/30\n",
      "\u001b[1m400/400\u001b[0m \u001b[32m━━━━━━━━━━━━━━━━━━━━\u001b[0m\u001b[37m\u001b[0m \u001b[1m0s\u001b[0m 746us/step - accuracy: 0.3558 - loss: 1.0975 - val_accuracy: 0.3569 - val_loss: 1.0971\n",
      "Epoch 16/30\n",
      "\u001b[1m400/400\u001b[0m \u001b[32m━━━━━━━━━━━━━━━━━━━━\u001b[0m\u001b[37m\u001b[0m \u001b[1m0s\u001b[0m 779us/step - accuracy: 0.3421 - loss: 1.0987 - val_accuracy: 0.3569 - val_loss: 1.0970\n",
      "Epoch 17/30\n",
      "\u001b[1m400/400\u001b[0m \u001b[32m━━━━━━━━━━━━━━━━━━━━\u001b[0m\u001b[37m\u001b[0m \u001b[1m0s\u001b[0m 774us/step - accuracy: 0.3471 - loss: 1.0982 - val_accuracy: 0.3569 - val_loss: 1.0971\n",
      "Epoch 18/30\n",
      "\u001b[1m400/400\u001b[0m \u001b[32m━━━━━━━━━━━━━━━━━━━━\u001b[0m\u001b[37m\u001b[0m \u001b[1m0s\u001b[0m 786us/step - accuracy: 0.3535 - loss: 1.0976 - val_accuracy: 0.3569 - val_loss: 1.0972\n",
      "Epoch 19/30\n",
      "\u001b[1m400/400\u001b[0m \u001b[32m━━━━━━━━━━━━━━━━━━━━\u001b[0m\u001b[37m\u001b[0m \u001b[1m0s\u001b[0m 853us/step - accuracy: 0.3601 - loss: 1.0972 - val_accuracy: 0.3569 - val_loss: 1.0971\n",
      "Epoch 20/30\n",
      "\u001b[1m400/400\u001b[0m \u001b[32m━━━━━━━━━━━━━━━━━━━━\u001b[0m\u001b[37m\u001b[0m \u001b[1m0s\u001b[0m 839us/step - accuracy: 0.3495 - loss: 1.0980 - val_accuracy: 0.3569 - val_loss: 1.0971\n",
      "Epoch 21/30\n",
      "\u001b[1m400/400\u001b[0m \u001b[32m━━━━━━━━━━━━━━━━━━━━\u001b[0m\u001b[37m\u001b[0m \u001b[1m0s\u001b[0m 871us/step - accuracy: 0.3486 - loss: 1.0982 - val_accuracy: 0.3569 - val_loss: 1.0971\n",
      "Epoch 22/30\n",
      "\u001b[1m400/400\u001b[0m \u001b[32m━━━━━━━━━━━━━━━━━━━━\u001b[0m\u001b[37m\u001b[0m \u001b[1m0s\u001b[0m 790us/step - accuracy: 0.3465 - loss: 1.0983 - val_accuracy: 0.3569 - val_loss: 1.0970\n",
      "Epoch 23/30\n",
      "\u001b[1m400/400\u001b[0m \u001b[32m━━━━━━━━━━━━━━━━━━━━\u001b[0m\u001b[37m\u001b[0m \u001b[1m0s\u001b[0m 787us/step - accuracy: 0.3547 - loss: 1.0978 - val_accuracy: 0.3569 - val_loss: 1.0972\n",
      "Epoch 24/30\n",
      "\u001b[1m400/400\u001b[0m \u001b[32m━━━━━━━━━━━━━━━━━━━━\u001b[0m\u001b[37m\u001b[0m \u001b[1m0s\u001b[0m 791us/step - accuracy: 0.3533 - loss: 1.0975 - val_accuracy: 0.3569 - val_loss: 1.0973\n",
      "Epoch 25/30\n",
      "\u001b[1m400/400\u001b[0m \u001b[32m━━━━━━━━━━━━━━━━━━━━\u001b[0m\u001b[37m\u001b[0m \u001b[1m0s\u001b[0m 814us/step - accuracy: 0.3521 - loss: 1.0979 - val_accuracy: 0.3569 - val_loss: 1.0971\n",
      "Epoch 26/30\n",
      "\u001b[1m400/400\u001b[0m \u001b[32m━━━━━━━━━━━━━━━━━━━━\u001b[0m\u001b[37m\u001b[0m \u001b[1m0s\u001b[0m 916us/step - accuracy: 0.3478 - loss: 1.0981 - val_accuracy: 0.3569 - val_loss: 1.0971\n",
      "Epoch 27/30\n",
      "\u001b[1m400/400\u001b[0m \u001b[32m━━━━━━━━━━━━━━━━━━━━\u001b[0m\u001b[37m\u001b[0m \u001b[1m0s\u001b[0m 781us/step - accuracy: 0.3504 - loss: 1.0978 - val_accuracy: 0.3569 - val_loss: 1.0972\n",
      "Epoch 28/30\n",
      "\u001b[1m400/400\u001b[0m \u001b[32m━━━━━━━━━━━━━━━━━━━━\u001b[0m\u001b[37m\u001b[0m \u001b[1m0s\u001b[0m 787us/step - accuracy: 0.3550 - loss: 1.0977 - val_accuracy: 0.3569 - val_loss: 1.0971\n",
      "Epoch 29/30\n",
      "\u001b[1m400/400\u001b[0m \u001b[32m━━━━━━━━━━━━━━━━━━━━\u001b[0m\u001b[37m\u001b[0m \u001b[1m0s\u001b[0m 795us/step - accuracy: 0.3539 - loss: 1.0976 - val_accuracy: 0.3569 - val_loss: 1.0972\n",
      "Epoch 30/30\n",
      "\u001b[1m400/400\u001b[0m \u001b[32m━━━━━━━━━━━━━━━━━━━━\u001b[0m\u001b[37m\u001b[0m \u001b[1m0s\u001b[0m 802us/step - accuracy: 0.3470 - loss: 1.0982 - val_accuracy: 0.3569 - val_loss: 1.0971\n"
     ]
    },
    {
     "data": {
      "text/plain": [
       "<keras.src.callbacks.history.History at 0x7f5201bfb7d0>"
      ]
     },
     "execution_count": 22,
     "metadata": {},
     "output_type": "execute_result"
    }
   ],
   "source": [
    "# m.fit(x=training_data, y=labels, epochs=10, batch_size=4, validation_split=0.2)\n",
    "\n",
    "# Fit with train data\n",
    "m.fit(x=X_train, y=y_train, epochs=30, batch_size=4, validation_split=0.2)"
   ]
  },
  {
   "cell_type": "markdown",
   "id": "ed6304da-1dc6-4432-a868-2bfd42d2a21a",
   "metadata": {},
   "source": [
    "### Evaluation avec Test"
   ]
  },
  {
   "cell_type": "code",
   "execution_count": 23,
   "id": "fb0da8cd-7192-48c5-85b3-48c7b6339b33",
   "metadata": {},
   "outputs": [
    {
     "name": "stdout",
     "output_type": "stream",
     "text": [
      "1.0963082313537598  |  0.3644999861717224 \n",
      "Test loss: 1.0963082313537598\n",
      "Test accuracy: 0.3644999861717224\n"
     ]
    }
   ],
   "source": [
    "# Evaluation \n",
    "score = m.evaluate(X_test, y_test, verbose=0) # score = test_loss, test_accuracy\n",
    "print(f'{score[0]}  |  {score[1]} ')\n",
    "print('Test loss:', score[0])\n",
    "print('Test accuracy:', score[1])"
   ]
  },
  {
   "cell_type": "markdown",
   "id": "0d50badc-4a40-4f0d-a18b-8f19c79d82e9",
   "metadata": {},
   "source": [
    "## Visualisation de la transformation"
   ]
  },
  {
   "cell_type": "code",
   "execution_count": 24,
   "id": "2ca248a5-d5bc-4f44-a577-cbce757f26a6",
   "metadata": {},
   "outputs": [],
   "source": [
    "# fig = plt.figure()\n",
    "# ax = fig.add_subplot(projection='3d')\n",
    "# # génération d'une grille pour couvrir l'ensemble des paramètres possibles\n",
    "# # x -> poids de EN\n",
    "# # y -> poids de TH\n",
    "# X = np.arange(-6, 6, .1)\n",
    "# Y = np.arange(-6, 6, .1)\n",
    "# # X = np.arange(-0.2, 0.2, .05)\n",
    "# # Y = np.arange(-0.2, 0.2, .05)\n",
    "# X, Y = np.meshgrid(X, Y)\n",
    "\n",
    "# Z = np.ones_like(X)/2 # plan qui marque la frontière entre deu et eng (0.5)\n",
    "# ax.plot_surface(X,Y,Z, alpha=0.5)\n",
    "\n",
    "# # valeurs calculées par le modèle pour chaque document\n",
    "# for label, marker in [('eng', '.'), ('deu', '^')]:\n",
    "#     xs = [d['en'] for d in data if d['label'] == label]\n",
    "#     ys = [d['th'] for d in data if d['label'] == label]\n",
    "#     zs = m(tf.constant([(x,y) for x,y in zip(xs,ys)]))\n",
    "#     ax.scatter(xs, ys, zs, marker=marker, alpha=0.3)\n",
    "\n",
    "# ax.set_xlabel('proportion EN')\n",
    "# ax.set_ylabel('proportion TH')\n",
    "# ax.set_zlabel('sortie du modèle')\n",
    "# plt.show()"
   ]
  },
  {
   "cell_type": "markdown",
   "id": "23af2eb3-c94b-4770-b334-b5492e4072df",
   "metadata": {},
   "source": [
    "Il est possible d'accéder aux paramètres appris par notre modèle :"
   ]
  },
  {
   "cell_type": "code",
   "execution_count": 25,
   "id": "9f9d1cde-6bdf-4648-923a-235abc64434a",
   "metadata": {},
   "outputs": [
    {
     "name": "stdout",
     "output_type": "stream",
     "text": [
      "[array([[ 0.23675954, -1.1793194 ],\n",
      "       [-0.07358301, -1.0998557 ]], dtype=float32), array([ 2.2406828e-09, -2.2406850e-09], dtype=float32), array([[-1.0040481],\n",
      "       [ 0.8674661]], dtype=float32), array([-2.0025521e-09], dtype=float32), array([[-0.32486886, -0.7606686 , -0.32411557]], dtype=float32), array([-0.19495879,  0.28299338, -0.08803535], dtype=float32)]\n",
      "[array([[-1.0040481],\n",
      "       [ 0.8674661]], dtype=float32), array([-2.0025521e-09], dtype=float32)]\n"
     ]
    }
   ],
   "source": [
    "print(m.get_weights()) # tous les paramètres\n",
    "print(m.layers[1].get_weights()) # les paramètres de la première couche"
   ]
  },
  {
   "cell_type": "markdown",
   "id": "7e1b6e6f-db66-4c87-960f-de5b1f451e24",
   "metadata": {},
   "source": [
    "# Travaux pratiques\n",
    "\n",
    "1- Mettre en place une évaluation plus propre (train/valid/test) -> \n",
    "- train test split - cellule ``4.2.1``\n",
    "- Evaluation avec  - cellule ``4.4.1``\n",
    "\n",
    "2- Pour chacune des questions suivantes, essayez avec différentes tailles de corpus d'entrainements (10,50,100,1 000,10 000 instances)\n",
    "  - observer les différences avec et sans standardisation:\n",
    "\n",
    "    ``Sans Standardisation``\n",
    "    | Taille corpus | Loss | Accuracy| \n",
    "    |:--------:|:--------:|:--------:|\n",
    "    | 10 | 0.6970933675765991 | 0.0 |\n",
    "    | 50 | 0.7024222612380981 | 0.4000000059604645 |\n",
    "    | 100 | 0.6908783912658691 | 0.4000000059604645 |\n",
    "    | 1000 | 0.6910524368286133 | 0.5133928656578064 | \n",
    "    | 10000 | 0.6803659796714783 | 0.9722222089767456 |\n",
    "\n",
    "\n",
    "  \n",
    "  - ``Avec Standardisation`` : nette amélioration du loss avec une plus grande taille de données, 0,6135 pour 10 à 0,09 pour 50000\n",
    "   \n",
    "    | Taille corpus | Loss | Accuracy |\n",
    "    |:--------:|:--------:|:--------:|\n",
    "    | 10 | 0.6135030388832092 | 0.5 |     \n",
    "    | 50 | 0.5463719367980957 | 0.699999988079071 |     \n",
    "    | 100 | 0.3262638449668884 | 0.8999999761581421 |    \n",
    "    | 1000 | 0.11785353720188141 | 0.9776785969734192 |\n",
    "    | 10000 | 0.09020660072565079 | 0.9697420597076416 |\n",
    "\n",
    "\n",
    "    ``Les exercises suivantes ont été effectué AVEC le corpus normalisé``\n",
    "  - observer l'effet de l'ajout d'un **biais** au perceptron\n",
    "\n",
    "    | Taille corpus | Loss | Accuracy| \n",
    "    |:--------:|:--------:|:--------:|\n",
    "    | 10 | 0.16709698736667633 | 1.0 |\n",
    "    | 50 | 0.8203665018081665 | 0.20000000298023224 |\n",
    "    | 100 | 0.32248497009277344 | 0.8999999761581421 |\n",
    "    | 1000 | 0.12533913552761078 | 0.9776785969734192 | \n",
    "    | 10000 | 0.07409726828336716 | 0.9756944179534912 |\n",
    "\n",
    "    \n",
    "        \n",
    "  - ajouter une autre **couche dense**\n",
    "\n",
    "    | Taille corpus | Loss | Accuracy| \n",
    "    |:--------:|:--------:|:--------:|\n",
    "    | 10 | 1.0668373107910156  |  0.0 |\n",
    "    | 50 | 0.607202410697937  |  0.699999988079071 |\n",
    "    | 100 | 0.8366473317146301  |  0.4000000059604645 |\n",
    "    | 1000 | 0.23607423901557922  |  0.9732142686843872 | \n",
    "    | 10000 | 0.0805223360657692  |  0.9756944179534912  |\n",
    "\n",
    "        \n",
    "  - ajouter la prise en compte d'un autre bigramme de lettres de votre choix\n",
    "  - \n",
    "        - ``bigramme as et ch``\n",
    "\n",
    "    | Taille corpus | Loss | Accuracy| \n",
    "    |:--------:|:--------:|:--------:|\n",
    "    | 10 | 0.5040704607963562  |  1.0 |\n",
    "    | 50 | 0.6425744295120239  |  0.6000000238418579 |\n",
    "    | 100 | 0.8252568244934082  |  0.4000000059604645 |\n",
    "    | 1000 | 0.4571268558502197  |  0.875 | \n",
    "    | 10000 |  0.25273796916007996  |  0.9047619104385376 |\n",
    "\n",
    "    \n",
    "  - proposer une façon de classifier 3 langues (données disponibles pour le français).\n",
    "  - toujours avec le bigramme ``es`` et ``ch`` , avec ``categorical_crossentropy`` au lieu de binary:\n",
    "\n",
    "    | Taille corpus | Loss | Accuracy| \n",
    "    |:--------:|:--------:|:--------:|\n",
    "    | 10 | 1.6972601413726807  |  0.0 |\n",
    "    | 50 | 1.08754563331604  |  0.6000000238418579 |\n",
    "    | 100 | 1.0741987228393555  |  0.4000000059604645 |\n",
    "    | 1000 | 1.0978223085403442  |  0.3050000071525574 | \n",
    "    | 10000 | 1.097686767578125  |  0.32749998569488525  |\n",
    "\n",
    "à chaque changement, on regardera notamment:\n",
    "- le nombre de paramètres du modèle (est-ce bien ce que l'on attend ?)\n",
    "- la vitesse d'entraînement\n",
    "\n",
    "Ajoutez vos réponses ci-dessous\n",
    "\n",
    "\n",
    "`` Avec les plusieurs essais, nous observons que trop peu de données donnent soit parfois une fausse accuracy haute, soit trop peu d'accuracy. Alors qu'un général, les meilleurs résultats sont obtenus avec des données normalisés et avec 1000 et 10000 données. ``\n",
    "\n",
    "``Pour la partie classification multi-categorie , je ne suis pas sûre d'avoir bien les «shape», l'aspect le plus important et le plus difficile. Même avec 10000 instances, nous n'avons des mauvais résultats. Peut-être avec l'ajout de d'autres bigrammes ou une meilleure prétraitement, nous aurons des meilleurs résultats.``"
   ]
  }
 ],
 "metadata": {
  "kernelspec": {
   "display_name": "Python 3 (ipykernel)",
   "language": "python",
   "name": "python3"
  },
  "language_info": {
   "codemirror_mode": {
    "name": "ipython",
    "version": 3
   },
   "file_extension": ".py",
   "mimetype": "text/x-python",
   "name": "python",
   "nbconvert_exporter": "python",
   "pygments_lexer": "ipython3",
   "version": "3.11.7"
  },
  "toc-autonumbering": true,
  "toc-showmarkdowntxt": false
 },
 "nbformat": 4,
 "nbformat_minor": 5
}
