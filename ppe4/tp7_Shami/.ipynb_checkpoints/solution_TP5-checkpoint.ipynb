{
 "cells": [
  {
   "cell_type": "code",
   "execution_count": 3,
   "id": "b4c87f6f-2996-401e-8543-b682d17c7ee7",
   "metadata": {},
   "outputs": [
    {
     "name": "stderr",
     "output_type": "stream",
     "text": [
      "2024-03-15 11:07:16.588906: E external/local_xla/xla/stream_executor/cuda/cuda_dnn.cc:9261] Unable to register cuDNN factory: Attempting to register factory for plugin cuDNN when one has already been registered\n",
      "2024-03-15 11:07:16.589058: E external/local_xla/xla/stream_executor/cuda/cuda_fft.cc:607] Unable to register cuFFT factory: Attempting to register factory for plugin cuFFT when one has already been registered\n",
      "2024-03-15 11:07:16.658256: E external/local_xla/xla/stream_executor/cuda/cuda_blas.cc:1515] Unable to register cuBLAS factory: Attempting to register factory for plugin cuBLAS when one has already been registered\n",
      "2024-03-15 11:07:16.760935: I tensorflow/core/platform/cpu_feature_guard.cc:182] This TensorFlow binary is optimized to use available CPU instructions in performance-critical operations.\n",
      "To enable the following instructions: AVX2 FMA, in other operations, rebuild TensorFlow with the appropriate compiler flags.\n",
      "2024-03-15 11:07:17.990516: W tensorflow/compiler/tf2tensorrt/utils/py_utils.cc:38] TF-TRT Warning: Could not find TensorRT\n"
     ]
    }
   ],
   "source": [
    "import keras\n",
    "import tensorflow as tf\n",
    "import utils_TP4 as utils\n",
    "import solution_TP4 as solution"
   ]
  },
  {
   "cell_type": "markdown",
   "id": "0b41f198-bf2d-4fce-8911-12fd49d6f0ee",
   "metadata": {},
   "source": [
    "# Utilisation de Dataset (en gardant les anciens modèle et TextVectorizationLayer)"
   ]
  },
  {
   "cell_type": "code",
   "execution_count": 4,
   "id": "52859290-c295-4b4c-9222-150641025670",
   "metadata": {},
   "outputs": [
    {
     "name": "stdout",
     "output_type": "stream",
     "text": [
      "Found 3501 files belonging to 7 classes.\n",
      "Using 2451 files for training.\n",
      "Using 1050 files for validation.\n"
     ]
    }
   ],
   "source": [
    "ds_train, ds_valid = keras.utils.text_dataset_from_directory(\n",
    "    \"Corpus\",\n",
    "    seed=42,\n",
    "    validation_split=0.3,\n",
    "    subset='both')"
   ]
  },
  {
   "cell_type": "markdown",
   "id": "d1d35a66-f44e-4517-b0b8-a3f680c5eb32",
   "metadata": {},
   "source": [
    "### Récupération et affichage d'une instance dans le corpus pour vérification"
   ]
  },
  {
   "cell_type": "code",
   "execution_count": 5,
   "id": "3931b5b7-dc5c-4c9a-b3b2-6d1bd8cba143",
   "metadata": {},
   "outputs": [
    {
     "data": {
      "text/plain": [
       "(<tf.Tensor: shape=(), dtype=string, numpy=b'   Les Voisins de Laval est un des noms utilis\\xc3\\xa9s par la franchise de\\n   hockey sur glace qui a jou\\xc3\\xa9 dans la Ligue de hockey junior majeur du\\n   Qu\\xc3\\xa9bec (\\xc3\\xa9galement connue sous le sigle LHJMQ) \\xc3\\xa0 Laval au Qu\\xc3\\xa9bec entre\\n   les ann\\xc3\\xa9es 1971 et 1998 . Les diff\\xc3\\xa9rents noms port\\xc3\\xa9s par la franchise\\n   sont :\\n\\n   Les Voisins de Laval est un des noms utilis\\xc3\\xa9s par la franchise de\\n   hockey sur glace qui a jou\\xc3\\xa9 dans la Ligue de hockey junior majeur du\\n   Qu\\xc3\\xa9bec (\\xc3\\xa9galement connue sous le sigle LHJMQ) \\xc3\\xa0 Laval au Qu\\xc3\\xa9bec entre\\n   les ann\\xc3\\xa9es 1971 et 1998 . Les diff\\xc3\\xa9rents noms port\\xc3\\xa9s par la franchise\\n   sont :\\n\\n'>,\n",
       " <tf.Tensor: shape=(), dtype=int32, numpy=1>)"
      ]
     },
     "execution_count": 5,
     "metadata": {},
     "output_type": "execute_result"
    }
   ],
   "source": [
    "un_elem = ds_train.unbatch().take(1).get_single_element()\n",
    "un_elem"
   ]
  },
  {
   "cell_type": "markdown",
   "id": "b491a3d0-de75-4290-8ca1-8ad51cef618d",
   "metadata": {},
   "source": [
    "### Vectorisation du corpus\n",
    "\n",
    "On `adapt()` le text_vectorizer en laissant de côté les `y` avec la fonction lambda"
   ]
  },
  {
   "cell_type": "code",
   "execution_count": 7,
   "id": "01b8d196-3147-4285-89ac-cd25a610311a",
   "metadata": {},
   "outputs": [],
   "source": [
    "tv = solution.get_text_vectorizer_from_config(solution.ExpeConfig(\"whitespace\",None,1000))"
   ]
  },
  {
   "cell_type": "code",
   "execution_count": 8,
   "id": "305a0e93-ad5e-4a1f-aa11-e414cfc0e06e",
   "metadata": {},
   "outputs": [],
   "source": [
    "tv.adapt(ds_train.map(lambda x,y: x))"
   ]
  },
  {
   "cell_type": "markdown",
   "id": "016f8c13-4615-4bfc-9494-b6e2d870ba4e",
   "metadata": {},
   "source": [
    "#### Vérification des structures de données obtenues (on vérifie les types et les shapes)"
   ]
  },
  {
   "cell_type": "code",
   "execution_count": 9,
   "id": "40704ba0-ca58-4385-abf7-23b7679317f9",
   "metadata": {},
   "outputs": [
    {
     "data": {
      "text/plain": [
       "(<tf.Tensor: shape=(32, 1000), dtype=int64, numpy=\n",
       " array([[ 4,  2,  0, ...,  0,  0,  0],\n",
       "        [14,  4,  1, ...,  0,  0,  0],\n",
       "        [28,  0,  0, ...,  0,  0,  0],\n",
       "        ...,\n",
       "        [15,  7,  0, ...,  0,  0,  0],\n",
       "        [ 7,  2,  1, ...,  0,  0,  0],\n",
       "        [53, 11,  8, ...,  0,  0,  0]])>,\n",
       " <tf.Tensor: shape=(32,), dtype=int32, numpy=\n",
       " array([6, 6, 2, 2, 6, 0, 6, 6, 0, 6, 0, 3, 6, 2, 3, 6, 0, 3, 6, 6, 1, 3,\n",
       "        6, 1, 6, 0, 4, 1, 6, 6, 6, 5], dtype=int32)>)"
      ]
     },
     "execution_count": 9,
     "metadata": {},
     "output_type": "execute_result"
    }
   ],
   "source": [
    "ds_train.map(lambda x,y: (tv(x),y)).take(1).get_single_element()"
   ]
  },
  {
   "cell_type": "markdown",
   "id": "bb96588e-67d6-4d07-9b2f-685cc2211eba",
   "metadata": {},
   "source": [
    "### Création et entraînement du modèle\n",
    "(et fonction de preprocessing qui peut remplacer la lambda)"
   ]
  },
  {
   "cell_type": "code",
   "execution_count": 10,
   "id": "9ed752a7-9b84-432d-8ef3-6eb1f96ba6b8",
   "metadata": {},
   "outputs": [],
   "source": [
    "model = utils.PerceptronModelSparseCategorical(tv, list(range(7)))"
   ]
  },
  {
   "cell_type": "code",
   "execution_count": 11,
   "id": "eead739d-47ea-40c0-a56a-2b29dd462e31",
   "metadata": {},
   "outputs": [],
   "source": [
    "def preproc(x,y):\n",
    "    return tv(x),y"
   ]
  },
  {
   "cell_type": "code",
   "execution_count": 12,
   "id": "a91705c9-9c66-4729-be60-4f43313c6917",
   "metadata": {},
   "outputs": [
    {
     "name": "stdout",
     "output_type": "stream",
     "text": [
      "Epoch 1/10\n",
      "\u001b[1m77/77\u001b[0m \u001b[32m━━━━━━━━━━━━━━━━━━━━\u001b[0m\u001b[37m\u001b[0m \u001b[1m1s\u001b[0m 4ms/step - accuracy: 0.5429 - loss: 1.5429 - val_accuracy: 0.8448 - val_loss: 0.7486\n",
      "Epoch 2/10\n",
      "\u001b[1m77/77\u001b[0m \u001b[32m━━━━━━━━━━━━━━━━━━━━\u001b[0m\u001b[37m\u001b[0m \u001b[1m0s\u001b[0m 3ms/step - accuracy: 0.8630 - loss: 0.6416 - val_accuracy: 0.8762 - val_loss: 0.5385\n",
      "Epoch 3/10\n",
      "\u001b[1m77/77\u001b[0m \u001b[32m━━━━━━━━━━━━━━━━━━━━\u001b[0m\u001b[37m\u001b[0m \u001b[1m0s\u001b[0m 3ms/step - accuracy: 0.8944 - loss: 0.4437 - val_accuracy: 0.8810 - val_loss: 0.4858\n",
      "Epoch 4/10\n",
      "\u001b[1m77/77\u001b[0m \u001b[32m━━━━━━━━━━━━━━━━━━━━\u001b[0m\u001b[37m\u001b[0m \u001b[1m0s\u001b[0m 3ms/step - accuracy: 0.9139 - loss: 0.3668 - val_accuracy: 0.8781 - val_loss: 0.4722\n",
      "Epoch 5/10\n",
      "\u001b[1m77/77\u001b[0m \u001b[32m━━━━━━━━━━━━━━━━━━━━\u001b[0m\u001b[37m\u001b[0m \u001b[1m0s\u001b[0m 3ms/step - accuracy: 0.9226 - loss: 0.3013 - val_accuracy: 0.8829 - val_loss: 0.4591\n",
      "Epoch 6/10\n",
      "\u001b[1m77/77\u001b[0m \u001b[32m━━━━━━━━━━━━━━━━━━━━\u001b[0m\u001b[37m\u001b[0m \u001b[1m0s\u001b[0m 3ms/step - accuracy: 0.9392 - loss: 0.2538 - val_accuracy: 0.8857 - val_loss: 0.4595\n",
      "Epoch 7/10\n",
      "\u001b[1m77/77\u001b[0m \u001b[32m━━━━━━━━━━━━━━━━━━━━\u001b[0m\u001b[37m\u001b[0m \u001b[1m0s\u001b[0m 3ms/step - accuracy: 0.9479 - loss: 0.2195 - val_accuracy: 0.8838 - val_loss: 0.4563\n",
      "Epoch 8/10\n",
      "\u001b[1m77/77\u001b[0m \u001b[32m━━━━━━━━━━━━━━━━━━━━\u001b[0m\u001b[37m\u001b[0m \u001b[1m0s\u001b[0m 3ms/step - accuracy: 0.9570 - loss: 0.1936 - val_accuracy: 0.8876 - val_loss: 0.4579\n",
      "Epoch 9/10\n",
      "\u001b[1m77/77\u001b[0m \u001b[32m━━━━━━━━━━━━━━━━━━━━\u001b[0m\u001b[37m\u001b[0m \u001b[1m0s\u001b[0m 3ms/step - accuracy: 0.9578 - loss: 0.1757 - val_accuracy: 0.8819 - val_loss: 0.4596\n",
      "Epoch 10/10\n",
      "\u001b[1m77/77\u001b[0m \u001b[32m━━━━━━━━━━━━━━━━━━━━\u001b[0m\u001b[37m\u001b[0m \u001b[1m0s\u001b[0m 4ms/step - accuracy: 0.9657 - loss: 0.1473 - val_accuracy: 0.8819 - val_loss: 0.4587\n"
     ]
    },
    {
     "data": {
      "text/plain": [
       "<keras.src.callbacks.history.History at 0x7fa43c7801d0>"
      ]
     },
     "execution_count": 12,
     "metadata": {},
     "output_type": "execute_result"
    }
   ],
   "source": [
    "model.fit(ds_train.map(preproc), validation_data=ds_valid.map(preproc), epochs=10)"
   ]
  },
  {
   "cell_type": "code",
   "execution_count": null,
   "id": "6ddf0ab8-2e47-45fc-acb1-c9f3bc116746",
   "metadata": {},
   "outputs": [],
   "source": [
    "tv.vocabulary_size"
   ]
  },
  {
   "cell_type": "code",
   "execution_count": 13,
   "id": "7c85d284-5136-4297-93fb-ef2d137bc2ed",
   "metadata": {},
   "outputs": [
    {
     "data": {
      "text/html": [
       "<pre style=\"white-space:pre;overflow-x:auto;line-height:normal;font-family:Menlo,'DejaVu Sans Mono',consolas,'Courier New',monospace\"><span style=\"font-weight: bold\">Model: \"functional_1\"</span>\n",
       "</pre>\n"
      ],
      "text/plain": [
       "\u001b[1mModel: \"functional_1\"\u001b[0m\n"
      ]
     },
     "metadata": {},
     "output_type": "display_data"
    },
    {
     "data": {
      "text/html": [
       "<pre style=\"white-space:pre;overflow-x:auto;line-height:normal;font-family:Menlo,'DejaVu Sans Mono',consolas,'Courier New',monospace\">┏━━━━━━━━━━━━━━━━━━━━━━━━━━━━━━━━━┳━━━━━━━━━━━━━━━━━━━━━━━━━━━┳━━━━━━━━━━━━┓\n",
       "┃<span style=\"font-weight: bold\"> Layer (type)                    </span>┃<span style=\"font-weight: bold\"> Output Shape              </span>┃<span style=\"font-weight: bold\">    Param # </span>┃\n",
       "┡━━━━━━━━━━━━━━━━━━━━━━━━━━━━━━━━━╇━━━━━━━━━━━━━━━━━━━━━━━━━━━╇━━━━━━━━━━━━┩\n",
       "│ tokens_count (<span style=\"color: #0087ff; text-decoration-color: #0087ff\">InputLayer</span>)       │ (<span style=\"color: #00d7ff; text-decoration-color: #00d7ff\">None</span>, <span style=\"color: #00af00; text-decoration-color: #00af00\">1000</span>)              │          <span style=\"color: #00af00; text-decoration-color: #00af00\">0</span> │\n",
       "├─────────────────────────────────┼───────────────────────────┼────────────┤\n",
       "│ normalizer (<span style=\"color: #0087ff; text-decoration-color: #0087ff\">Normalization</span>)      │ (<span style=\"color: #00d7ff; text-decoration-color: #00d7ff\">None</span>, <span style=\"color: #00af00; text-decoration-color: #00af00\">1000</span>)              │      <span style=\"color: #00af00; text-decoration-color: #00af00\">2,001</span> │\n",
       "├─────────────────────────────────┼───────────────────────────┼────────────┤\n",
       "│ hidden (<span style=\"color: #0087ff; text-decoration-color: #0087ff\">Dense</span>)                  │ (<span style=\"color: #00d7ff; text-decoration-color: #00d7ff\">None</span>, <span style=\"color: #00af00; text-decoration-color: #00af00\">14</span>)                │     <span style=\"color: #00af00; text-decoration-color: #00af00\">14,014</span> │\n",
       "├─────────────────────────────────┼───────────────────────────┼────────────┤\n",
       "│ sortie (<span style=\"color: #0087ff; text-decoration-color: #0087ff\">Dense</span>)                  │ (<span style=\"color: #00d7ff; text-decoration-color: #00d7ff\">None</span>, <span style=\"color: #00af00; text-decoration-color: #00af00\">7</span>)                 │        <span style=\"color: #00af00; text-decoration-color: #00af00\">105</span> │\n",
       "└─────────────────────────────────┴───────────────────────────┴────────────┘\n",
       "</pre>\n"
      ],
      "text/plain": [
       "┏━━━━━━━━━━━━━━━━━━━━━━━━━━━━━━━━━┳━━━━━━━━━━━━━━━━━━━━━━━━━━━┳━━━━━━━━━━━━┓\n",
       "┃\u001b[1m \u001b[0m\u001b[1mLayer (type)                   \u001b[0m\u001b[1m \u001b[0m┃\u001b[1m \u001b[0m\u001b[1mOutput Shape             \u001b[0m\u001b[1m \u001b[0m┃\u001b[1m \u001b[0m\u001b[1m   Param #\u001b[0m\u001b[1m \u001b[0m┃\n",
       "┡━━━━━━━━━━━━━━━━━━━━━━━━━━━━━━━━━╇━━━━━━━━━━━━━━━━━━━━━━━━━━━╇━━━━━━━━━━━━┩\n",
       "│ tokens_count (\u001b[38;5;33mInputLayer\u001b[0m)       │ (\u001b[38;5;45mNone\u001b[0m, \u001b[38;5;34m1000\u001b[0m)              │          \u001b[38;5;34m0\u001b[0m │\n",
       "├─────────────────────────────────┼───────────────────────────┼────────────┤\n",
       "│ normalizer (\u001b[38;5;33mNormalization\u001b[0m)      │ (\u001b[38;5;45mNone\u001b[0m, \u001b[38;5;34m1000\u001b[0m)              │      \u001b[38;5;34m2,001\u001b[0m │\n",
       "├─────────────────────────────────┼───────────────────────────┼────────────┤\n",
       "│ hidden (\u001b[38;5;33mDense\u001b[0m)                  │ (\u001b[38;5;45mNone\u001b[0m, \u001b[38;5;34m14\u001b[0m)                │     \u001b[38;5;34m14,014\u001b[0m │\n",
       "├─────────────────────────────────┼───────────────────────────┼────────────┤\n",
       "│ sortie (\u001b[38;5;33mDense\u001b[0m)                  │ (\u001b[38;5;45mNone\u001b[0m, \u001b[38;5;34m7\u001b[0m)                 │        \u001b[38;5;34m105\u001b[0m │\n",
       "└─────────────────────────────────┴───────────────────────────┴────────────┘\n"
      ]
     },
     "metadata": {},
     "output_type": "display_data"
    },
    {
     "data": {
      "text/html": [
       "<pre style=\"white-space:pre;overflow-x:auto;line-height:normal;font-family:Menlo,'DejaVu Sans Mono',consolas,'Courier New',monospace\"><span style=\"font-weight: bold\"> Total params: </span><span style=\"color: #00af00; text-decoration-color: #00af00\">44,360</span> (173.29 KB)\n",
       "</pre>\n"
      ],
      "text/plain": [
       "\u001b[1m Total params: \u001b[0m\u001b[38;5;34m44,360\u001b[0m (173.29 KB)\n"
      ]
     },
     "metadata": {},
     "output_type": "display_data"
    },
    {
     "data": {
      "text/html": [
       "<pre style=\"white-space:pre;overflow-x:auto;line-height:normal;font-family:Menlo,'DejaVu Sans Mono',consolas,'Courier New',monospace\"><span style=\"font-weight: bold\"> Trainable params: </span><span style=\"color: #00af00; text-decoration-color: #00af00\">14,119</span> (55.15 KB)\n",
       "</pre>\n"
      ],
      "text/plain": [
       "\u001b[1m Trainable params: \u001b[0m\u001b[38;5;34m14,119\u001b[0m (55.15 KB)\n"
      ]
     },
     "metadata": {},
     "output_type": "display_data"
    },
    {
     "data": {
      "text/html": [
       "<pre style=\"white-space:pre;overflow-x:auto;line-height:normal;font-family:Menlo,'DejaVu Sans Mono',consolas,'Courier New',monospace\"><span style=\"font-weight: bold\"> Non-trainable params: </span><span style=\"color: #00af00; text-decoration-color: #00af00\">2,001</span> (7.82 KB)\n",
       "</pre>\n"
      ],
      "text/plain": [
       "\u001b[1m Non-trainable params: \u001b[0m\u001b[38;5;34m2,001\u001b[0m (7.82 KB)\n"
      ]
     },
     "metadata": {},
     "output_type": "display_data"
    },
    {
     "data": {
      "text/html": [
       "<pre style=\"white-space:pre;overflow-x:auto;line-height:normal;font-family:Menlo,'DejaVu Sans Mono',consolas,'Courier New',monospace\"><span style=\"font-weight: bold\"> Optimizer params: </span><span style=\"color: #00af00; text-decoration-color: #00af00\">28,240</span> (110.32 KB)\n",
       "</pre>\n"
      ],
      "text/plain": [
       "\u001b[1m Optimizer params: \u001b[0m\u001b[38;5;34m28,240\u001b[0m (110.32 KB)\n"
      ]
     },
     "metadata": {},
     "output_type": "display_data"
    }
   ],
   "source": [
    "model.summary()"
   ]
  },
  {
   "cell_type": "markdown",
   "id": "e5169c2b-bef2-4b00-a10d-7b03b51444c6",
   "metadata": {},
   "source": [
    "# Utilisation de plongements (Embeddings)"
   ]
  },
  {
   "cell_type": "code",
   "execution_count": 17,
   "id": "93c49fed-05a6-4eaf-b041-d5b4de8fa430",
   "metadata": {},
   "outputs": [],
   "source": [
    "tv_int = text_vectorizer = keras.layers.TextVectorization(\n",
    "    max_tokens=3000, # taille du vocabulaire conservé\n",
    "    output_sequence_length=100, # taille des séquences (tronquées ou en ajoutant du padding)\n",
    "    standardize=\"lower_and_strip_punctuation\",\n",
    "    split=\"whitespace\",\n",
    "    ngrams=None,\n",
    "    output_mode=\"int\") # changement : \"int\" au lieu de \"count\" pour un encodage un token -> un entier"
   ]
  },
  {
   "cell_type": "code",
   "execution_count": 18,
   "id": "ac09df1c-b122-4d22-97dd-0a4faeffe885",
   "metadata": {},
   "outputs": [],
   "source": [
    "tv_int.adapt(ds_train.map(lambda x,y:x))"
   ]
  },
  {
   "cell_type": "code",
   "execution_count": 19,
   "id": "fc9b41bf-9324-41b3-817f-5179759d1fc8",
   "metadata": {},
   "outputs": [
    {
     "data": {
      "text/plain": [
       "<tf.Tensor: shape=(100,), dtype=int64, numpy=\n",
       "array([   1, 1734,    5,    8,  573,    2,    3,  524,  309,  564,  525,\n",
       "         35,  282,  268,  585,  268,  562,   74,  123,    2,  448,  375,\n",
       "        591,  561,  247,  582,   11,  592,  600,  590,  601,   11,  282,\n",
       "        589,  586,  402,  233,  501,  427,  569,  587,  346,   47,  403,\n",
       "         10,  117,  433,  426,  439,    3, 1734,    1,   44,  867,   18,\n",
       "          3,    1,  203,  568, 2921,    1, 1734,  173,   15,  368,  110,\n",
       "        474,   10, 1734,   24,    1,    2,  111,   60, 1507,   52,    1,\n",
       "       1589,  474,  240,    3,  610,  205,  484,    3,   13,    1,  446,\n",
       "         72,    1,  528,    3,  205,    7,   14,  409,    1,  805,   15,\n",
       "       2420])>"
      ]
     },
     "execution_count": 19,
     "metadata": {},
     "output_type": "execute_result"
    }
   ],
   "source": [
    "one_x = ds_train.unbatch().map(lambda x,y:x).map(tv_int).take(1).get_single_element()\n",
    "one_x"
   ]
  },
  {
   "cell_type": "markdown",
   "id": "511d871c-c121-4207-bbfe-05a40cb14a40",
   "metadata": {},
   "source": [
    "### On peut vérifier qu'on est capable de réencoder un document pour voir si tout se passe comme prévu"
   ]
  },
  {
   "cell_type": "code",
   "execution_count": 20,
   "id": "fac71808-3f6d-4ceb-b705-5fb044329a5c",
   "metadata": {},
   "outputs": [],
   "source": [
    "vocab = tv_int.get_vocabulary()"
   ]
  },
  {
   "cell_type": "code",
   "execution_count": 21,
   "id": "78102d24-4f91-47f8-86b3-183a4390e530",
   "metadata": {
    "scrolled": true
   },
   "outputs": [
    {
     "data": {
      "text/plain": [
       "['[UNK]',\n",
       " 'lincoln',\n",
       " 'est',\n",
       " 'un',\n",
       " 'astéroïde',\n",
       " 'de',\n",
       " 'la',\n",
       " 'ceinture',\n",
       " 'principale',\n",
       " 'demigrand',\n",
       " 'axe',\n",
       " 'a',\n",
       " 'périhélie',\n",
       " 'q',\n",
       " 'aphélie',\n",
       " 'q',\n",
       " 'excentricité',\n",
       " 'e',\n",
       " 'période',\n",
       " 'de',\n",
       " 'révolution',\n",
       " 'p',\n",
       " 'rév',\n",
       " 'inclinaison',\n",
       " 'i',\n",
       " 'longitude',\n",
       " 'du',\n",
       " 'nœud',\n",
       " 'ascendant',\n",
       " 'Ω',\n",
       " 'argument',\n",
       " 'du',\n",
       " 'périhélie',\n",
       " 'ω',\n",
       " 'anomalie',\n",
       " 'moyenne',\n",
       " 'm',\n",
       " '0',\n",
       " 'catégorie',\n",
       " 'magnitude',\n",
       " 'absolue',\n",
       " 'h',\n",
       " 'date',\n",
       " 'découvert',\n",
       " 'par',\n",
       " 'lieu',\n",
       " 'nommé',\n",
       " 'daprès',\n",
       " 'désignation',\n",
       " 'la',\n",
       " 'lincoln',\n",
       " '[UNK]',\n",
       " 'série',\n",
       " 'el',\n",
       " 'dans',\n",
       " 'la',\n",
       " '[UNK]',\n",
       " 'constructeur',\n",
       " 'parfois',\n",
       " 'surnommée',\n",
       " '[UNK]',\n",
       " 'lincoln',\n",
       " 'était',\n",
       " 'une',\n",
       " 'automobile',\n",
       " 'américaine',\n",
       " 'produite',\n",
       " 'par',\n",
       " 'lincoln',\n",
       " 'il',\n",
       " '[UNK]',\n",
       " 'de',\n",
       " 'sa',\n",
       " 'première',\n",
       " 'génération',\n",
       " 'd',\n",
       " '[UNK]',\n",
       " 'nouvelles',\n",
       " 'produite',\n",
       " 'après',\n",
       " 'la',\n",
       " 'seconde',\n",
       " 'guerre',\n",
       " 'mondiale',\n",
       " 'la',\n",
       " 'production',\n",
       " '[UNK]',\n",
       " 'ayant',\n",
       " 'été',\n",
       " '[UNK]',\n",
       " 'pendant',\n",
       " 'la',\n",
       " 'guerre',\n",
       " 'et',\n",
       " 'les',\n",
       " 'modèles',\n",
       " '[UNK]',\n",
       " 'étant',\n",
       " 'une',\n",
       " 'reprise']"
      ]
     },
     "execution_count": 21,
     "metadata": {},
     "output_type": "execute_result"
    }
   ],
   "source": [
    "[vocab[i] for i in one_x]"
   ]
  },
  {
   "cell_type": "markdown",
   "id": "b7214b3a-780d-4219-8bfe-7e2f98a07584",
   "metadata": {},
   "source": [
    "# Une couche d'embeddings"
   ]
  },
  {
   "cell_type": "code",
   "execution_count": 6,
   "id": "2d025b6f-79e1-4138-9073-43906ac79057",
   "metadata": {
    "scrolled": true
   },
   "outputs": [
    {
     "ename": "NameError",
     "evalue": "name 'tv_int' is not defined",
     "output_type": "error",
     "traceback": [
      "\u001b[0;31m---------------------------------------------------------------------------\u001b[0m",
      "\u001b[0;31mNameError\u001b[0m                                 Traceback (most recent call last)",
      "Cell \u001b[0;32mIn[6], line 2\u001b[0m\n\u001b[1;32m      1\u001b[0m embeddings \u001b[38;5;241m=\u001b[39m keras\u001b[38;5;241m.\u001b[39mlayers\u001b[38;5;241m.\u001b[39mEmbedding(\n\u001b[0;32m----> 2\u001b[0m     \u001b[43mtv_int\u001b[49m\u001b[38;5;241m.\u001b[39mvocabulary_size(),\n\u001b[1;32m      3\u001b[0m     \u001b[38;5;241m3\u001b[39m, \u001b[38;5;66;03m# longueur des vecteurs\u001b[39;00m\n\u001b[1;32m      4\u001b[0m     mask_zero\u001b[38;5;241m=\u001b[39m\u001b[38;5;28;01mTrue\u001b[39;00m \u001b[38;5;66;03m# important si padding\u001b[39;00m\n\u001b[1;32m      5\u001b[0m )\n\u001b[1;32m      6\u001b[0m embeddings(one_x)\n",
      "\u001b[0;31mNameError\u001b[0m: name 'tv_int' is not defined"
     ]
    }
   ],
   "source": [
    "embeddings = keras.layers.Embedding(\n",
    "    tv_int.vocabulary_size(),\n",
    "    3, # longueur des vecteurs\n",
    "    mask_zero=True # important si padding\n",
    ")\n",
    "embeddings(one_x)"
   ]
  },
  {
   "cell_type": "markdown",
   "id": "24c95782-c1c3-4f1d-92fa-e9a86b3eb7b1",
   "metadata": {},
   "source": [
    "# Un modèle avec une couche d'embeddings"
   ]
  },
  {
   "cell_type": "code",
   "execution_count": 28,
   "id": "1c1ef4f5-ccd0-4694-861a-e18598b232ef",
   "metadata": {},
   "outputs": [],
   "source": [
    "def build_model(tv, emb_dim, nb_classes):\n",
    "    inputs = keras.layers.Input(shape=(100,))\n",
    "    embeddings = keras.layers.Embedding(\n",
    "        tv.vocabulary_size(),\n",
    "        emb_dim,\n",
    "        mask_zero=True,\n",
    "        name=\"emb\"\n",
    "    )(inputs)\n",
    "    embeddings = keras.layers.Dropout(rate=0.2)(embeddings)\n",
    "    pooling = keras.layers.GlobalMaxPooling1D()(embeddings)\n",
    "    classif = keras.layers.Dense(nb_classes, activation=\"softmax\", use_bias=True)(pooling)\n",
    "    model = keras.Model(inputs=inputs, outputs=classif)\n",
    "    model.compile(optimizer='adam', loss='sparse_categorical_crossentropy', metrics=[\"accuracy\"])\n",
    "    return model\n",
    "    "
   ]
  },
  {
   "cell_type": "code",
   "execution_count": 29,
   "id": "a4e749c5-a78d-48e7-aa21-22f8797c5123",
   "metadata": {},
   "outputs": [
    {
     "name": "stderr",
     "output_type": "stream",
     "text": [
      "/home/pierre/venv3.11/lib/python3.11/site-packages/keras/src/layers/layer.py:862: UserWarning: Layer 'global_max_pooling1d' (of type GlobalMaxPooling1D) was passed an input with a mask attached to it. However, this layer does not support masking and will therefore destroy the mask information. Downstream layers will not see the mask.\n",
      "  warnings.warn(\n"
     ]
    }
   ],
   "source": [
    "model = build_model(tv_int, 300, 7)"
   ]
  },
  {
   "cell_type": "code",
   "execution_count": 30,
   "id": "1e13a2b0-c0fb-4acb-a87f-5fae3e9c95a6",
   "metadata": {},
   "outputs": [
    {
     "data": {
      "text/html": [
       "<pre style=\"white-space:pre;overflow-x:auto;line-height:normal;font-family:Menlo,'DejaVu Sans Mono',consolas,'Courier New',monospace\"><span style=\"font-weight: bold\">Model: \"functional_3\"</span>\n",
       "</pre>\n"
      ],
      "text/plain": [
       "\u001b[1mModel: \"functional_3\"\u001b[0m\n"
      ]
     },
     "metadata": {},
     "output_type": "display_data"
    },
    {
     "data": {
      "text/html": [
       "<pre style=\"white-space:pre;overflow-x:auto;line-height:normal;font-family:Menlo,'DejaVu Sans Mono',consolas,'Courier New',monospace\">┏━━━━━━━━━━━━━━━━━━━━━━━━━━━━━━━━━┳━━━━━━━━━━━━━━━━━━━━━━━━━━━┳━━━━━━━━━━━━┓\n",
       "┃<span style=\"font-weight: bold\"> Layer (type)                    </span>┃<span style=\"font-weight: bold\"> Output Shape              </span>┃<span style=\"font-weight: bold\">    Param # </span>┃\n",
       "┡━━━━━━━━━━━━━━━━━━━━━━━━━━━━━━━━━╇━━━━━━━━━━━━━━━━━━━━━━━━━━━╇━━━━━━━━━━━━┩\n",
       "│ input_layer (<span style=\"color: #0087ff; text-decoration-color: #0087ff\">InputLayer</span>)        │ (<span style=\"color: #00d7ff; text-decoration-color: #00d7ff\">None</span>, <span style=\"color: #00af00; text-decoration-color: #00af00\">100</span>)               │          <span style=\"color: #00af00; text-decoration-color: #00af00\">0</span> │\n",
       "├─────────────────────────────────┼───────────────────────────┼────────────┤\n",
       "│ emb (<span style=\"color: #0087ff; text-decoration-color: #0087ff\">Embedding</span>)                 │ (<span style=\"color: #00d7ff; text-decoration-color: #00d7ff\">None</span>, <span style=\"color: #00af00; text-decoration-color: #00af00\">100</span>, <span style=\"color: #00af00; text-decoration-color: #00af00\">300</span>)          │    <span style=\"color: #00af00; text-decoration-color: #00af00\">900,000</span> │\n",
       "├─────────────────────────────────┼───────────────────────────┼────────────┤\n",
       "│ dropout (<span style=\"color: #0087ff; text-decoration-color: #0087ff\">Dropout</span>)               │ (<span style=\"color: #00d7ff; text-decoration-color: #00d7ff\">None</span>, <span style=\"color: #00af00; text-decoration-color: #00af00\">100</span>, <span style=\"color: #00af00; text-decoration-color: #00af00\">300</span>)          │          <span style=\"color: #00af00; text-decoration-color: #00af00\">0</span> │\n",
       "├─────────────────────────────────┼───────────────────────────┼────────────┤\n",
       "│ global_max_pooling1d            │ (<span style=\"color: #00d7ff; text-decoration-color: #00d7ff\">None</span>, <span style=\"color: #00af00; text-decoration-color: #00af00\">300</span>)               │          <span style=\"color: #00af00; text-decoration-color: #00af00\">0</span> │\n",
       "│ (<span style=\"color: #0087ff; text-decoration-color: #0087ff\">GlobalMaxPooling1D</span>)            │                           │            │\n",
       "├─────────────────────────────────┼───────────────────────────┼────────────┤\n",
       "│ dense (<span style=\"color: #0087ff; text-decoration-color: #0087ff\">Dense</span>)                   │ (<span style=\"color: #00d7ff; text-decoration-color: #00d7ff\">None</span>, <span style=\"color: #00af00; text-decoration-color: #00af00\">7</span>)                 │      <span style=\"color: #00af00; text-decoration-color: #00af00\">2,107</span> │\n",
       "└─────────────────────────────────┴───────────────────────────┴────────────┘\n",
       "</pre>\n"
      ],
      "text/plain": [
       "┏━━━━━━━━━━━━━━━━━━━━━━━━━━━━━━━━━┳━━━━━━━━━━━━━━━━━━━━━━━━━━━┳━━━━━━━━━━━━┓\n",
       "┃\u001b[1m \u001b[0m\u001b[1mLayer (type)                   \u001b[0m\u001b[1m \u001b[0m┃\u001b[1m \u001b[0m\u001b[1mOutput Shape             \u001b[0m\u001b[1m \u001b[0m┃\u001b[1m \u001b[0m\u001b[1m   Param #\u001b[0m\u001b[1m \u001b[0m┃\n",
       "┡━━━━━━━━━━━━━━━━━━━━━━━━━━━━━━━━━╇━━━━━━━━━━━━━━━━━━━━━━━━━━━╇━━━━━━━━━━━━┩\n",
       "│ input_layer (\u001b[38;5;33mInputLayer\u001b[0m)        │ (\u001b[38;5;45mNone\u001b[0m, \u001b[38;5;34m100\u001b[0m)               │          \u001b[38;5;34m0\u001b[0m │\n",
       "├─────────────────────────────────┼───────────────────────────┼────────────┤\n",
       "│ emb (\u001b[38;5;33mEmbedding\u001b[0m)                 │ (\u001b[38;5;45mNone\u001b[0m, \u001b[38;5;34m100\u001b[0m, \u001b[38;5;34m300\u001b[0m)          │    \u001b[38;5;34m900,000\u001b[0m │\n",
       "├─────────────────────────────────┼───────────────────────────┼────────────┤\n",
       "│ dropout (\u001b[38;5;33mDropout\u001b[0m)               │ (\u001b[38;5;45mNone\u001b[0m, \u001b[38;5;34m100\u001b[0m, \u001b[38;5;34m300\u001b[0m)          │          \u001b[38;5;34m0\u001b[0m │\n",
       "├─────────────────────────────────┼───────────────────────────┼────────────┤\n",
       "│ global_max_pooling1d            │ (\u001b[38;5;45mNone\u001b[0m, \u001b[38;5;34m300\u001b[0m)               │          \u001b[38;5;34m0\u001b[0m │\n",
       "│ (\u001b[38;5;33mGlobalMaxPooling1D\u001b[0m)            │                           │            │\n",
       "├─────────────────────────────────┼───────────────────────────┼────────────┤\n",
       "│ dense (\u001b[38;5;33mDense\u001b[0m)                   │ (\u001b[38;5;45mNone\u001b[0m, \u001b[38;5;34m7\u001b[0m)                 │      \u001b[38;5;34m2,107\u001b[0m │\n",
       "└─────────────────────────────────┴───────────────────────────┴────────────┘\n"
      ]
     },
     "metadata": {},
     "output_type": "display_data"
    },
    {
     "data": {
      "text/html": [
       "<pre style=\"white-space:pre;overflow-x:auto;line-height:normal;font-family:Menlo,'DejaVu Sans Mono',consolas,'Courier New',monospace\"><span style=\"font-weight: bold\"> Total params: </span><span style=\"color: #00af00; text-decoration-color: #00af00\">902,107</span> (3.44 MB)\n",
       "</pre>\n"
      ],
      "text/plain": [
       "\u001b[1m Total params: \u001b[0m\u001b[38;5;34m902,107\u001b[0m (3.44 MB)\n"
      ]
     },
     "metadata": {},
     "output_type": "display_data"
    },
    {
     "data": {
      "text/html": [
       "<pre style=\"white-space:pre;overflow-x:auto;line-height:normal;font-family:Menlo,'DejaVu Sans Mono',consolas,'Courier New',monospace\"><span style=\"font-weight: bold\"> Trainable params: </span><span style=\"color: #00af00; text-decoration-color: #00af00\">902,107</span> (3.44 MB)\n",
       "</pre>\n"
      ],
      "text/plain": [
       "\u001b[1m Trainable params: \u001b[0m\u001b[38;5;34m902,107\u001b[0m (3.44 MB)\n"
      ]
     },
     "metadata": {},
     "output_type": "display_data"
    },
    {
     "data": {
      "text/html": [
       "<pre style=\"white-space:pre;overflow-x:auto;line-height:normal;font-family:Menlo,'DejaVu Sans Mono',consolas,'Courier New',monospace\"><span style=\"font-weight: bold\"> Non-trainable params: </span><span style=\"color: #00af00; text-decoration-color: #00af00\">0</span> (0.00 B)\n",
       "</pre>\n"
      ],
      "text/plain": [
       "\u001b[1m Non-trainable params: \u001b[0m\u001b[38;5;34m0\u001b[0m (0.00 B)\n"
      ]
     },
     "metadata": {},
     "output_type": "display_data"
    }
   ],
   "source": [
    "model.summary()"
   ]
  },
  {
   "cell_type": "code",
   "execution_count": 31,
   "id": "46b4d97c-fa5a-43c9-9d4f-ffd148054353",
   "metadata": {},
   "outputs": [],
   "source": [
    "def preproc_int(x,y):\n",
    "    return tv_int(x),y"
   ]
  },
  {
   "cell_type": "code",
   "execution_count": 32,
   "id": "676b8bd4-6160-4b6a-abec-4bbd1e4b338b",
   "metadata": {
    "scrolled": true
   },
   "outputs": [
    {
     "name": "stdout",
     "output_type": "stream",
     "text": [
      "Epoch 1/40\n",
      "\u001b[1m77/77\u001b[0m \u001b[32m━━━━━━━━━━━━━━━━━━━━\u001b[0m\u001b[37m\u001b[0m \u001b[1m2s\u001b[0m 18ms/step - accuracy: 0.4111 - loss: 1.6249 - val_accuracy: 0.6095 - val_loss: 1.0833\n",
      "Epoch 2/40\n",
      "\u001b[1m77/77\u001b[0m \u001b[32m━━━━━━━━━━━━━━━━━━━━\u001b[0m\u001b[37m\u001b[0m \u001b[1m1s\u001b[0m 17ms/step - accuracy: 0.7084 - loss: 0.9196 - val_accuracy: 0.8724 - val_loss: 0.6549\n",
      "Epoch 3/40\n",
      "\u001b[1m77/77\u001b[0m \u001b[32m━━━━━━━━━━━━━━━━━━━━\u001b[0m\u001b[37m\u001b[0m \u001b[1m1s\u001b[0m 17ms/step - accuracy: 0.8815 - loss: 0.5388 - val_accuracy: 0.8810 - val_loss: 0.4860\n",
      "Epoch 4/40\n",
      "\u001b[1m77/77\u001b[0m \u001b[32m━━━━━━━━━━━━━━━━━━━━\u001b[0m\u001b[37m\u001b[0m \u001b[1m1s\u001b[0m 16ms/step - accuracy: 0.9070 - loss: 0.3858 - val_accuracy: 0.8990 - val_loss: 0.4161\n",
      "Epoch 5/40\n",
      "\u001b[1m77/77\u001b[0m \u001b[32m━━━━━━━━━━━━━━━━━━━━\u001b[0m\u001b[37m\u001b[0m \u001b[1m1s\u001b[0m 16ms/step - accuracy: 0.9277 - loss: 0.2971 - val_accuracy: 0.9086 - val_loss: 0.3774\n",
      "Epoch 6/40\n",
      "\u001b[1m77/77\u001b[0m \u001b[32m━━━━━━━━━━━━━━━━━━━━\u001b[0m\u001b[37m\u001b[0m \u001b[1m1s\u001b[0m 16ms/step - accuracy: 0.9382 - loss: 0.2420 - val_accuracy: 0.9152 - val_loss: 0.3534\n",
      "Epoch 7/40\n",
      "\u001b[1m77/77\u001b[0m \u001b[32m━━━━━━━━━━━━━━━━━━━━\u001b[0m\u001b[37m\u001b[0m \u001b[1m1s\u001b[0m 16ms/step - accuracy: 0.9530 - loss: 0.1997 - val_accuracy: 0.9171 - val_loss: 0.3411\n",
      "Epoch 8/40\n",
      "\u001b[1m77/77\u001b[0m \u001b[32m━━━━━━━━━━━━━━━━━━━━\u001b[0m\u001b[37m\u001b[0m \u001b[1m1s\u001b[0m 17ms/step - accuracy: 0.9562 - loss: 0.1644 - val_accuracy: 0.9124 - val_loss: 0.3316\n",
      "Epoch 9/40\n",
      "\u001b[1m77/77\u001b[0m \u001b[32m━━━━━━━━━━━━━━━━━━━━\u001b[0m\u001b[37m\u001b[0m \u001b[1m1s\u001b[0m 16ms/step - accuracy: 0.9637 - loss: 0.1449 - val_accuracy: 0.9124 - val_loss: 0.3260\n",
      "Epoch 10/40\n",
      "\u001b[1m77/77\u001b[0m \u001b[32m━━━━━━━━━━━━━━━━━━━━\u001b[0m\u001b[37m\u001b[0m \u001b[1m1s\u001b[0m 16ms/step - accuracy: 0.9703 - loss: 0.1121 - val_accuracy: 0.9086 - val_loss: 0.3219\n",
      "Epoch 11/40\n",
      "\u001b[1m77/77\u001b[0m \u001b[32m━━━━━━━━━━━━━━━━━━━━\u001b[0m\u001b[37m\u001b[0m \u001b[1m1s\u001b[0m 17ms/step - accuracy: 0.9779 - loss: 0.1008 - val_accuracy: 0.9095 - val_loss: 0.3188\n",
      "Epoch 12/40\n",
      "\u001b[1m77/77\u001b[0m \u001b[32m━━━━━━━━━━━━━━━━━━━━\u001b[0m\u001b[37m\u001b[0m \u001b[1m1s\u001b[0m 16ms/step - accuracy: 0.9849 - loss: 0.0813 - val_accuracy: 0.9105 - val_loss: 0.3178\n",
      "Epoch 13/40\n",
      "\u001b[1m77/77\u001b[0m \u001b[32m━━━━━━━━━━━━━━━━━━━━\u001b[0m\u001b[37m\u001b[0m \u001b[1m1s\u001b[0m 16ms/step - accuracy: 0.9863 - loss: 0.0683 - val_accuracy: 0.9095 - val_loss: 0.3176\n",
      "Epoch 14/40\n",
      "\u001b[1m77/77\u001b[0m \u001b[32m━━━━━━━━━━━━━━━━━━━━\u001b[0m\u001b[37m\u001b[0m \u001b[1m1s\u001b[0m 16ms/step - accuracy: 0.9872 - loss: 0.0576 - val_accuracy: 0.9086 - val_loss: 0.3181\n",
      "Epoch 15/40\n",
      "\u001b[1m77/77\u001b[0m \u001b[32m━━━━━━━━━━━━━━━━━━━━\u001b[0m\u001b[37m\u001b[0m \u001b[1m1s\u001b[0m 17ms/step - accuracy: 0.9881 - loss: 0.0511 - val_accuracy: 0.9067 - val_loss: 0.3182\n",
      "Epoch 16/40\n",
      "\u001b[1m77/77\u001b[0m \u001b[32m━━━━━━━━━━━━━━━━━━━━\u001b[0m\u001b[37m\u001b[0m \u001b[1m1s\u001b[0m 17ms/step - accuracy: 0.9932 - loss: 0.0406 - val_accuracy: 0.9057 - val_loss: 0.3204\n",
      "Epoch 17/40\n",
      "\u001b[1m77/77\u001b[0m \u001b[32m━━━━━━━━━━━━━━━━━━━━\u001b[0m\u001b[37m\u001b[0m \u001b[1m1s\u001b[0m 17ms/step - accuracy: 0.9926 - loss: 0.0358 - val_accuracy: 0.9038 - val_loss: 0.3215\n",
      "Epoch 18/40\n",
      "\u001b[1m77/77\u001b[0m \u001b[32m━━━━━━━━━━━━━━━━━━━━\u001b[0m\u001b[37m\u001b[0m \u001b[1m1s\u001b[0m 17ms/step - accuracy: 0.9970 - loss: 0.0280 - val_accuracy: 0.9038 - val_loss: 0.3241\n",
      "Epoch 19/40\n",
      "\u001b[1m77/77\u001b[0m \u001b[32m━━━━━━━━━━━━━━━━━━━━\u001b[0m\u001b[37m\u001b[0m \u001b[1m1s\u001b[0m 17ms/step - accuracy: 0.9954 - loss: 0.0260 - val_accuracy: 0.9038 - val_loss: 0.3261\n",
      "Epoch 20/40\n",
      "\u001b[1m77/77\u001b[0m \u001b[32m━━━━━━━━━━━━━━━━━━━━\u001b[0m\u001b[37m\u001b[0m \u001b[1m1s\u001b[0m 17ms/step - accuracy: 0.9965 - loss: 0.0226 - val_accuracy: 0.9038 - val_loss: 0.3282\n",
      "Epoch 21/40\n",
      "\u001b[1m77/77\u001b[0m \u001b[32m━━━━━━━━━━━━━━━━━━━━\u001b[0m\u001b[37m\u001b[0m \u001b[1m1s\u001b[0m 17ms/step - accuracy: 0.9957 - loss: 0.0197 - val_accuracy: 0.9019 - val_loss: 0.3319\n",
      "Epoch 22/40\n",
      "\u001b[1m77/77\u001b[0m \u001b[32m━━━━━━━━━━━━━━━━━━━━\u001b[0m\u001b[37m\u001b[0m \u001b[1m3s\u001b[0m 17ms/step - accuracy: 0.9968 - loss: 0.0180 - val_accuracy: 0.9029 - val_loss: 0.3332\n",
      "Epoch 23/40\n",
      "\u001b[1m77/77\u001b[0m \u001b[32m━━━━━━━━━━━━━━━━━━━━\u001b[0m\u001b[37m\u001b[0m \u001b[1m1s\u001b[0m 17ms/step - accuracy: 0.9961 - loss: 0.0167 - val_accuracy: 0.9029 - val_loss: 0.3361\n",
      "Epoch 24/40\n",
      "\u001b[1m77/77\u001b[0m \u001b[32m━━━━━━━━━━━━━━━━━━━━\u001b[0m\u001b[37m\u001b[0m \u001b[1m1s\u001b[0m 16ms/step - accuracy: 0.9953 - loss: 0.0164 - val_accuracy: 0.9019 - val_loss: 0.3392\n",
      "Epoch 25/40\n",
      "\u001b[1m77/77\u001b[0m \u001b[32m━━━━━━━━━━━━━━━━━━━━\u001b[0m\u001b[37m\u001b[0m \u001b[1m1s\u001b[0m 17ms/step - accuracy: 0.9975 - loss: 0.0141 - val_accuracy: 0.9029 - val_loss: 0.3414\n",
      "Epoch 26/40\n",
      "\u001b[1m77/77\u001b[0m \u001b[32m━━━━━━━━━━━━━━━━━━━━\u001b[0m\u001b[37m\u001b[0m \u001b[1m1s\u001b[0m 17ms/step - accuracy: 0.9957 - loss: 0.0135 - val_accuracy: 0.9019 - val_loss: 0.3448\n",
      "Epoch 27/40\n",
      "\u001b[1m77/77\u001b[0m \u001b[32m━━━━━━━━━━━━━━━━━━━━\u001b[0m\u001b[37m\u001b[0m \u001b[1m1s\u001b[0m 17ms/step - accuracy: 0.9975 - loss: 0.0122 - val_accuracy: 0.9019 - val_loss: 0.3471\n",
      "Epoch 28/40\n",
      "\u001b[1m77/77\u001b[0m \u001b[32m━━━━━━━━━━━━━━━━━━━━\u001b[0m\u001b[37m\u001b[0m \u001b[1m1s\u001b[0m 16ms/step - accuracy: 0.9972 - loss: 0.0105 - val_accuracy: 0.9019 - val_loss: 0.3499\n",
      "Epoch 29/40\n",
      "\u001b[1m77/77\u001b[0m \u001b[32m━━━━━━━━━━━━━━━━━━━━\u001b[0m\u001b[37m\u001b[0m \u001b[1m1s\u001b[0m 16ms/step - accuracy: 0.9974 - loss: 0.0100 - val_accuracy: 0.9019 - val_loss: 0.3523\n",
      "Epoch 30/40\n",
      "\u001b[1m77/77\u001b[0m \u001b[32m━━━━━━━━━━━━━━━━━━━━\u001b[0m\u001b[37m\u001b[0m \u001b[1m1s\u001b[0m 16ms/step - accuracy: 0.9968 - loss: 0.0095 - val_accuracy: 0.9019 - val_loss: 0.3549\n",
      "Epoch 31/40\n",
      "\u001b[1m77/77\u001b[0m \u001b[32m━━━━━━━━━━━━━━━━━━━━\u001b[0m\u001b[37m\u001b[0m \u001b[1m1s\u001b[0m 16ms/step - accuracy: 0.9959 - loss: 0.0101 - val_accuracy: 0.9010 - val_loss: 0.3575\n",
      "Epoch 32/40\n",
      "\u001b[1m77/77\u001b[0m \u001b[32m━━━━━━━━━━━━━━━━━━━━\u001b[0m\u001b[37m\u001b[0m \u001b[1m1s\u001b[0m 15ms/step - accuracy: 0.9963 - loss: 0.0086 - val_accuracy: 0.9010 - val_loss: 0.3622\n",
      "Epoch 33/40\n",
      "\u001b[1m77/77\u001b[0m \u001b[32m━━━━━━━━━━━━━━━━━━━━\u001b[0m\u001b[37m\u001b[0m \u001b[1m1s\u001b[0m 15ms/step - accuracy: 0.9961 - loss: 0.0096 - val_accuracy: 0.9010 - val_loss: 0.3642\n",
      "Epoch 34/40\n",
      "\u001b[1m77/77\u001b[0m \u001b[32m━━━━━━━━━━━━━━━━━━━━\u001b[0m\u001b[37m\u001b[0m \u001b[1m1s\u001b[0m 15ms/step - accuracy: 0.9984 - loss: 0.0064 - val_accuracy: 0.9010 - val_loss: 0.3649\n",
      "Epoch 35/40\n",
      "\u001b[1m77/77\u001b[0m \u001b[32m━━━━━━━━━━━━━━━━━━━━\u001b[0m\u001b[37m\u001b[0m \u001b[1m1s\u001b[0m 17ms/step - accuracy: 0.9971 - loss: 0.0072 - val_accuracy: 0.9010 - val_loss: 0.3717\n",
      "Epoch 36/40\n",
      "\u001b[1m77/77\u001b[0m \u001b[32m━━━━━━━━━━━━━━━━━━━━\u001b[0m\u001b[37m\u001b[0m \u001b[1m1s\u001b[0m 17ms/step - accuracy: 0.9965 - loss: 0.0079 - val_accuracy: 0.9010 - val_loss: 0.3718\n",
      "Epoch 37/40\n",
      "\u001b[1m77/77\u001b[0m \u001b[32m━━━━━━━━━━━━━━━━━━━━\u001b[0m\u001b[37m\u001b[0m \u001b[1m1s\u001b[0m 17ms/step - accuracy: 0.9964 - loss: 0.0076 - val_accuracy: 0.9010 - val_loss: 0.3760\n",
      "Epoch 38/40\n",
      "\u001b[1m77/77\u001b[0m \u001b[32m━━━━━━━━━━━━━━━━━━━━\u001b[0m\u001b[37m\u001b[0m \u001b[1m1s\u001b[0m 18ms/step - accuracy: 0.9967 - loss: 0.0073 - val_accuracy: 0.9010 - val_loss: 0.3770\n",
      "Epoch 39/40\n",
      "\u001b[1m77/77\u001b[0m \u001b[32m━━━━━━━━━━━━━━━━━━━━\u001b[0m\u001b[37m\u001b[0m \u001b[1m1s\u001b[0m 16ms/step - accuracy: 0.9963 - loss: 0.0069 - val_accuracy: 0.9010 - val_loss: 0.3805\n",
      "Epoch 40/40\n",
      "\u001b[1m77/77\u001b[0m \u001b[32m━━━━━━━━━━━━━━━━━━━━\u001b[0m\u001b[37m\u001b[0m \u001b[1m1s\u001b[0m 16ms/step - accuracy: 0.9964 - loss: 0.0068 - val_accuracy: 0.9010 - val_loss: 0.3838\n"
     ]
    },
    {
     "data": {
      "text/plain": [
       "<keras.src.callbacks.history.History at 0x7fa4020d5350>"
      ]
     },
     "execution_count": 32,
     "metadata": {},
     "output_type": "execute_result"
    }
   ],
   "source": [
    "model.fit(ds_train.map(preproc_int),  validation_data=ds_valid.map(preproc_int), epochs=40)"
   ]
  },
  {
   "cell_type": "markdown",
   "id": "809aa427-630f-4cf3-97e9-cdd85cd31dd1",
   "metadata": {},
   "source": [
    "# visualisation\n",
    "\n",
    "création de fichiers tsv prêts à être chargés sur https://projector.tensorflow.org/ \n",
    "(cf le code dans utils_TP5.py pour l'extraction des poids qui correspondent aux vecteurs)"
   ]
  },
  {
   "cell_type": "code",
   "execution_count": 36,
   "id": "7da5f852-90d9-432e-9bec-bd51db5dac63",
   "metadata": {},
   "outputs": [],
   "source": [
    "from utils_TP5 import write_vectors_proj_format"
   ]
  },
  {
   "cell_type": "code",
   "execution_count": 37,
   "id": "5ad0ed69-8eed-4319-82c7-0f740f307de4",
   "metadata": {},
   "outputs": [],
   "source": [
    "write_vectors_proj_format(model, tv_int)"
   ]
  },
  {
   "cell_type": "code",
   "execution_count": null,
   "id": "397eddf3-5ef9-4f52-9fd2-57efe1d67c8c",
   "metadata": {},
   "outputs": [],
   "source": []
  }
 ],
 "metadata": {
  "kernelspec": {
   "display_name": "Python 3 (ipykernel)",
   "language": "python",
   "name": "python3"
  },
  "language_info": {
   "codemirror_mode": {
    "name": "ipython",
    "version": 3
   },
   "file_extension": ".py",
   "mimetype": "text/x-python",
   "name": "python",
   "nbconvert_exporter": "python",
   "pygments_lexer": "ipython3",
   "version": "3.11.2"
  }
 },
 "nbformat": 4,
 "nbformat_minor": 5
}
