{
 "cells": [
  {
   "cell_type": "markdown",
   "id": "206c2c40-68f9-4f1c-9c58-9d34f255b0c6",
   "metadata": {},
   "source": [
    "# PyTorch to Keras  \n",
    "### Import des bibliothèques"
   ]
  },
  {
   "cell_type": "code",
   "execution_count": 1,
   "id": "763c9dec-6e5e-42b0-8c8d-85e63062bfd9",
   "metadata": {},
   "outputs": [
    {
     "name": "stderr",
     "output_type": "stream",
     "text": [
      "2024-02-24 15:43:37.002753: I external/local_tsl/tsl/cuda/cudart_stub.cc:31] Could not find cuda drivers on your machine, GPU will not be used.\n",
      "2024-02-24 15:43:37.047502: E external/local_xla/xla/stream_executor/cuda/cuda_dnn.cc:9261] Unable to register cuDNN factory: Attempting to register factory for plugin cuDNN when one has already been registered\n",
      "2024-02-24 15:43:37.047539: E external/local_xla/xla/stream_executor/cuda/cuda_fft.cc:607] Unable to register cuFFT factory: Attempting to register factory for plugin cuFFT when one has already been registered\n",
      "2024-02-24 15:43:37.048674: E external/local_xla/xla/stream_executor/cuda/cuda_blas.cc:1515] Unable to register cuBLAS factory: Attempting to register factory for plugin cuBLAS when one has already been registered\n",
      "2024-02-24 15:43:37.055816: I tensorflow/core/platform/cpu_feature_guard.cc:182] This TensorFlow binary is optimized to use available CPU instructions in performance-critical operations.\n",
      "To enable the following instructions: AVX2 FMA, in other operations, rebuild TensorFlow with the appropriate compiler flags.\n",
      "2024-02-24 15:43:37.984356: W tensorflow/compiler/tf2tensorrt/utils/py_utils.cc:38] TF-TRT Warning: Could not find TensorRT\n"
     ]
    }
   ],
   "source": [
    "import numpy as np\n",
    "import matplotlib.pyplot as plt\n",
    "import pandas\n",
    "\n",
    "\n",
    "import torch\n",
    "import torch.nn as nn\n",
    "import torch.nn.functional as F\n",
    "from PIL import Image\n",
    "import torchvision.datasets as datasets\n",
    "import torchvision.transforms as transforms\n",
    "from torchvision.transforms import ToTensor\n",
    "\n",
    "\n",
    "import tensorflow as tf\n",
    "from tensorflow import keras\n",
    "from keras.models import Sequential\n",
    "from keras.layers import Dense, Activation, Flatten, Conv2D, MaxPooling2D, Input\n",
    "from keras import layers, Model\n",
    "from keras.preprocessing import image\n",
    "from keras.preprocessing.image import ImageDataGenerator\n",
    "from keras.datasets import mnist\n"
   ]
  },
  {
   "cell_type": "markdown",
   "id": "d2ffb9f9-9dda-40c2-b8e8-2c01241810f0",
   "metadata": {},
   "source": [
    "### "
   ]
  },
  {
   "cell_type": "code",
   "execution_count": 2,
   "id": "4cc369cd-a89d-46fd-955a-93a0f8627374",
   "metadata": {},
   "outputs": [],
   "source": [
    "# model Keras\n",
    "def Model1():\n",
    "    inputs = keras.layers.Input(shape=(7,), name=\"entrée\")\n",
    "    neuron = keras.layers.Dense(units=2,activation=\"relu\", use_bias=True, name=\"couche1\")(inputs)\n",
    "    model = keras.Model(inputs=inputs, outputs=neuron)\n",
    "    model.compile(optimizer=\"sgd\", loss='mean_squared_error', metrics=[\"accuracy\"])\n",
    "    \n",
    "    return model\n"
   ]
  },
  {
   "cell_type": "code",
   "execution_count": 3,
   "id": "f6f23cb0-d8a2-4415-b8c1-74fa02edddf9",
   "metadata": {},
   "outputs": [
    {
     "name": "stdout",
     "output_type": "stream",
     "text": [
      "Model: \"model\"\n",
      "_________________________________________________________________\n",
      " Layer (type)                Output Shape              Param #   \n",
      "=================================================================\n",
      " entrée (InputLayer)         [(None, 7)]               0         \n",
      "                                                                 \n",
      " couche1 (Dense)             (None, 2)                 16        \n",
      "                                                                 \n",
      "=================================================================\n",
      "Total params: 16 (64.00 Byte)\n",
      "Trainable params: 16 (64.00 Byte)\n",
      "Non-trainable params: 0 (0.00 Byte)\n",
      "_________________________________________________________________\n"
     ]
    }
   ],
   "source": [
    "model = Model1()\n",
    "model.summary()"
   ]
  },
  {
   "cell_type": "code",
   "execution_count": 4,
   "id": "fcacec1a-0692-4b0f-ab2f-4396953437de",
   "metadata": {},
   "outputs": [
    {
     "name": "stdout",
     "output_type": "stream",
     "text": [
      "['Mathematiques', 'Physiques', 'Informatique', 'LV1', 'LV2', 'Biologie', 'Chimie']\n",
      "[[14.3 13.8 15.7 14.1 12.5 16.2 14.6]\n",
      " [13.9 14.2 15.4 13.7 13.2 15.9 14.8]\n",
      " [16.5 15.7 17.3 16.1 15.2 16.4 16.9]\n",
      " [17.2 16.8 15.9 16.3 15.9 16.7 15.4]\n",
      " [13.5 12.9 14.3 13.2 11.8 13.9 13.1]\n",
      " [15.6 15.5 16.7 15.4 14.7 16.1 15.8]\n",
      " [14.1 13.6 15.2 12.9 13.4 15.  14.3]\n",
      " [16.3 16.9 16.1 16.4 16.6 16.2 16.8]\n",
      " [14.8 14.4 14.8 14.5 13.8 14.7 14.5]\n",
      " [16.7 16.1 16.8 15.8 16.3 16.9 16.3]\n",
      " [13.2 13.7 13.1 13.3 12.2 13.5 13.7]\n",
      " [15.2 15.9 14.7 15.6 15.5 15.8 15.2]\n",
      " [16.1 16.6 16.  15.7 15.8 16.5 16.1]\n",
      " [14.  12.8 13.5 12.6 11.3 13.3 13.5]\n",
      " [15.9 15.5 15.8 15.3 14.9 16.  15.6]\n",
      " [12.6 13.4 13.  13.1 12.8 13.7 12.9]\n",
      " [15.  14.7 15.6 15.2 13.7 15.9 15. ]\n",
      " [12.9 13.5 12.8 12.3 11.7 13.2 12.5]\n",
      " [16.9 16.8 17.6 16.9 16.5 17.2 17. ]\n",
      " [15.7 15.6 15.8 15.1 15.6 15.9 15.7]]\n"
     ]
    }
   ],
   "source": [
    "# chager fichier notes \n",
    "MyData=pandas.read_csv('notes.csv')\n",
    "MyData.pop('Eleves')\n",
    "Matieres = list(MyData.keys())\n",
    "print(Matieres)\n",
    "\n",
    "Notes=MyData.to_numpy()\n",
    "print(Notes)\n",
    "# chager fichier notes "
   ]
  },
  {
   "cell_type": "markdown",
   "id": "7a770d56-5dfb-4d55-842f-fdae59c52c74",
   "metadata": {},
   "source": [
    "#### Prediction Notes PyTorch"
   ]
  },
  {
   "cell_type": "code",
   "execution_count": 5,
   "id": "1810b1b5-854d-42c5-8b78-cfd2dee6c756",
   "metadata": {},
   "outputs": [
    {
     "name": "stdout",
     "output_type": "stream",
     "text": [
      "tensor([[4.9200, 3.3000],\n",
      "        [4.8400, 3.4500],\n",
      "        [6.5600, 5.6500],\n",
      "        [6.4000, 6.1000],\n",
      "        [3.5400, 2.5000],\n",
      "        [5.9400, 5.0500],\n",
      "        [4.4400, 3.1500],\n",
      "        [6.4600, 6.5000],\n",
      "        [4.6400, 4.1500],\n",
      "        [6.5600, 6.0500],\n",
      "        [3.4400, 2.7500],\n",
      "        [5.3600, 5.5500],\n",
      "        [6.2600, 5.7500],\n",
      "        [3.4200, 1.9500],\n",
      "        [5.7600, 5.1000],\n",
      "        [3.1200, 2.9500],\n",
      "        [5.2400, 4.4500],\n",
      "        [2.9800, 2.0000],\n",
      "        [7.1000, 6.7000],\n",
      "        [5.7400, 5.3500]], dtype=torch.float64, grad_fn=<ReluBackward0>)\n"
     ]
    }
   ],
   "source": [
    "\n",
    "## Avec PyTorch ##\n",
    "Notes_pt=torch.tensor(Notes, dtype=torch.float64)\n",
    "# defintion de la fonction d'activation ReLU\n",
    "act_func_relu=torch.nn.ReLU()\n",
    "# definition de la couche dense et de ses parametres\n",
    "act_func_relu=torch.nn.ReLU()\n",
    "\n",
    "# definition de la couche dense et de ses parametres\n",
    "lin_filter=torch.nn.Linear(7, 2, bias=True)\n",
    "lin_filter.weight.data=torch.tensor([[0.2,0.2,0.2,0,0,0.2,0.2],[0.0,0.0,0.0,0.5,0.5,0., 0.]], dtype=torch.float64)\n",
    "lin_filter.bias.data=torch.tensor([-10,-10], dtype=torch.float64)\n",
    "\n",
    "filtered_data=act_func_relu(lin_filter(Notes_pt[:,:]))\n",
    "# results\n",
    "print(filtered_data)\n"
   ]
  },
  {
   "cell_type": "markdown",
   "id": "6e8ec20e-a2a8-41ee-ac1a-3e60d5028d1f",
   "metadata": {},
   "source": [
    "#### Prediction de notes TensorFlow"
   ]
  },
  {
   "cell_type": "code",
   "execution_count": 6,
   "id": "e56e17ac-9ce9-4c57-a02b-bee2bbc01442",
   "metadata": {},
   "outputs": [
    {
     "name": "stdout",
     "output_type": "stream",
     "text": [
      "Nous allons faire la même chose avec Keras\n",
      "Model: \"model_1\"\n",
      "_________________________________________________________________\n",
      " Layer (type)                Output Shape              Param #   \n",
      "=================================================================\n",
      " entrée (InputLayer)         [(None, 7)]               0         \n",
      "                                                                 \n",
      " couche1 (Dense)             (None, 2)                 16        \n",
      "                                                                 \n",
      "=================================================================\n",
      "Total params: 16 (64.00 Byte)\n",
      "Trainable params: 16 (64.00 Byte)\n",
      "Non-trainable params: 0 (0.00 Byte)\n",
      "_________________________________________________________________\n",
      "None\n",
      "1/1 [==============================] - 0s 69ms/step\n",
      "[[4.92      3.3000002]\n",
      " [4.84      3.4499998]\n",
      " [6.5599995 5.6499996]\n",
      " [6.4000015 6.0999985]\n",
      " [3.54      2.5      ]\n",
      " [5.9400005 5.049999 ]\n",
      " [4.4399996 3.1499996]\n",
      " [6.460001  6.5      ]\n",
      " [4.6399994 4.1499996]\n",
      " [6.5599995 6.049999 ]\n",
      " [3.4400005 2.75     ]\n",
      " [5.3599997 5.55     ]\n",
      " [6.26      5.75     ]\n",
      " [3.42      1.9500008]\n",
      " [5.76      5.1000004]\n",
      " [3.1200008 2.9500008]\n",
      " [5.24      4.45     ]\n",
      " [2.9799995 2.       ]\n",
      " [7.1000004 6.700001 ]\n",
      " [5.7400007 5.3500004]]\n",
      "tensor([[4.9200, 3.3000],\n",
      "        [4.8400, 3.4500],\n",
      "        [6.5600, 5.6500],\n",
      "        [6.4000, 6.1000],\n",
      "        [3.5400, 2.5000],\n",
      "        [5.9400, 5.0500],\n",
      "        [4.4400, 3.1500],\n",
      "        [6.4600, 6.5000],\n",
      "        [4.6400, 4.1500],\n",
      "        [6.5600, 6.0500],\n",
      "        [3.4400, 2.7500],\n",
      "        [5.3600, 5.5500],\n",
      "        [6.2600, 5.7500],\n",
      "        [3.4200, 1.9500],\n",
      "        [5.7600, 5.1000],\n",
      "        [3.1200, 2.9500],\n",
      "        [5.2400, 4.4500],\n",
      "        [2.9800, 2.0000],\n",
      "        [7.1000, 6.7000],\n",
      "        [5.7400, 5.3500]], dtype=torch.float64, grad_fn=<ReluBackward0>)\n"
     ]
    }
   ],
   "source": [
    "print(\"Nous allons faire la même chose avec Keras\")\n",
    "\n",
    "## call def Model1\n",
    "model = Model1()\n",
    "# Definition poids et biais pour couche dense\n",
    "weights = np.array([[0.2,0.2,0.2,0,0,0.2,0.2],[0.0,0.0,0.0,0.5,0.5,0.,0.]], dtype=np.float64)\n",
    "bias = np.array([-10, -10], dtype=np.float64)\n",
    "\n",
    "model.set_weights([weights.T, bias])\n",
    "print(model.summary())\n",
    "\n",
    "keras_filtered_data = model.predict(Notes[:,:])\n",
    "print(keras_filtered_data)\n",
    "print(filtered_data)\n"
   ]
  },
  {
   "cell_type": "markdown",
   "id": "928d3d79-a72a-4925-a943-6bec95c00bc0",
   "metadata": {},
   "source": [
    "# Partie 2 \n",
    "### Prediction images MNIST dataset\n",
    "#### Code video"
   ]
  },
  {
   "cell_type": "code",
   "execution_count": 7,
   "id": "aac7c306-7af9-48f0-b943-57cccd00a174",
   "metadata": {},
   "outputs": [],
   "source": [
    "def get_with_PyTorch():\n",
    "    image = Image.open(\"car.jpg\").convert('L')  # 'L' mode converts the image to grayscale\n",
    "    transform = transforms.Compose([\n",
    "        transforms.Resize((28, 28)),  \n",
    "        transforms.ToTensor()])\n",
    "    # Apply transformations to the image\n",
    "    image = transform(image)\n",
    "    image = image.unsqueeze(0)\n",
    "    # apply filters\n",
    "    conv_filter=torch.nn.Conv2d(1, 2,3, bias=True)\n",
    "    conv_filter.weight.data=torch.tensor([[[[-1.,0.,1.], [-1.,0.,1.], [-1.,0.,1.]]]])/3.\n",
    "    conv_filter.bias.data=torch.tensor([-0.1])\n",
    "    filtered_image=conv_filter(image)\n",
    "    processed_image_np = filtered_image.squeeze(0).detach().numpy()\n",
    "    # Visualize the processed image\n",
    "    plt.imshow(np.transpose(processed_image_np, (1, 2, 0)), cmap='gray')\n",
    "    plt.title('PyTorch Processed Image')\n",
    "    plt.axis('off')\n",
    "    plt.show()\n",
    "    plt.close()"
   ]
  },
  {
   "cell_type": "code",
   "execution_count": 8,
   "id": "e7d87c8c-b696-4285-a7d3-bf267b8729f4",
   "metadata": {},
   "outputs": [
    {
     "data": {
      "image/png": "[encoded data removed]",
      "text/plain": [
       "<Figure size 640x480 with 1 Axes>"
      ]
     },
     "metadata": {},
     "output_type": "display_data"
    }
   ],
   "source": [
    "# Transformation image voiture avec PyTorch\n",
    "get_with_PyTorch()"
   ]
  },
  {
   "cell_type": "markdown",
   "id": "0c43b348-19b7-4178-9c48-f15bc62a5eef",
   "metadata": {},
   "source": [
    "#### Transformation avec Keras"
   ]
  },
  {
   "cell_type": "code",
   "execution_count": 9,
   "id": "3b773077-4335-45e5-a452-ba9e073bdc85",
   "metadata": {},
   "outputs": [],
   "source": [
    "## Transformation avec Keras     \n",
    "def get_with_Keras():\n",
    "    # Load the image\n",
    "    img = image.load_img(\"car.jpg\", target_size=(28, 28), color_mode=\"grayscale\")    \n",
    "    img_array = image.img_to_array(img)\n",
    "    img_array = np.expand_dims(img_array, axis=0)\n",
    "    img_array = np.expand_dims(img_array, axis=-1)\n",
    "    img_array = img_array / 255.0\n",
    "    \n",
    "    model = KerasModel1()\n",
    "    weights = np.array([[[[-1., 0., 1.], [-1., 0., 1.], [-1., 0., 1.]]]], dtype=np.float32) / 3.\n",
    "    bias = np.array([-0.1], dtype=np.float32)\n",
    "    model.layers[1].set_weights([weights.T, bias])\n",
    "    filtered_image = model.predict(img_array)\n",
    "    # Visualize the processed image\n",
    "    plt.imshow(np.squeeze(filtered_image), cmap='gray',vmin=0, vmax=1)\n",
    "    plt.title('Keras Processed Image')\n",
    "    plt.axis('off')\n",
    "    plt.show()\n",
    "    plt.close()\n",
    "        "
   ]
  },
  {
   "cell_type": "code",
   "execution_count": 10,
   "id": "97a2ae68-1355-47ab-a09c-03671b61857e",
   "metadata": {},
   "outputs": [
    {
     "name": "stdout",
     "output_type": "stream",
     "text": [
      "Model: \"model_1\"\n",
      "_________________________________________________________________\n",
      " Layer (type)                Output Shape              Param #   \n",
      "=================================================================\n",
      " entrée (InputLayer)         [(None, 7)]               0         \n",
      "                                                                 \n",
      " couche1 (Dense)             (None, 2)                 16        \n",
      "                                                                 \n",
      "=================================================================\n",
      "Total params: 16 (64.00 Byte)\n",
      "Trainable params: 16 (64.00 Byte)\n",
      "Non-trainable params: 0 (0.00 Byte)\n",
      "_________________________________________________________________\n",
      "None\n"
     ]
    }
   ],
   "source": [
    "print(model.summary())\n"
   ]
  },
  {
   "cell_type": "code",
   "execution_count": 11,
   "id": "411970bb-d5d1-43ef-b4d0-93289a8b5a80",
   "metadata": {},
   "outputs": [],
   "source": [
    "# Transformation Code video en Keras\n",
    "def KerasModel1():\n",
    "    inputs = tf.keras.layers.Input(shape=(None, None, 1), name=\"input\")\n",
    "    # Add Conv2D layer\n",
    "    conv_layer = Conv2D(filters=1, kernel_size=(3, 3), activation=\"relu\", use_bias=True, name=\"conv_layer\")(inputs)\n",
    "    model = keras.Model(inputs=inputs, outputs=conv_layer)\n",
    "    model.compile(optimizer=\"sgd\", loss='mean_squared_error', metrics=[\"accuracy\"])\n",
    "\n",
    "    \n",
    "    return model\n",
    "\n"
   ]
  },
  {
   "cell_type": "code",
   "execution_count": null,
   "id": "9496c7d8-e058-4b98-a10c-a7173ef5df19",
   "metadata": {},
   "outputs": [],
   "source": []
  },
  {
   "cell_type": "code",
   "execution_count": 12,
   "id": "bfc86c23-94ba-48a9-89d6-b20d7458ac78",
   "metadata": {},
   "outputs": [
    {
     "name": "stdout",
     "output_type": "stream",
     "text": [
      "1/1 [==============================] - 0s 39ms/step\n"
     ]
    },
    {
     "data": {
      "image/png": "[encoded data removed]",
      "text/plain": [
       "<Figure size 640x480 with 1 Axes>"
      ]
     },
     "metadata": {},
     "output_type": "display_data"
    }
   ],
   "source": [
    "# Transformation image avec Keras\n",
    "get_with_Keras()\n"
   ]
  },
  {
   "cell_type": "markdown",
   "id": "c3b41db2-9ef2-46ae-aecb-0ad35fd5e723",
   "metadata": {},
   "source": [
    "### PyTorch Images MNIST dataset"
   ]
  },
  {
   "cell_type": "code",
   "execution_count": 13,
   "id": "75d6e91b-6f18-4a20-8722-c4426a3b3978",
   "metadata": {},
   "outputs": [],
   "source": [
    "\n",
    "class PyTorchCNN(nn.Module):\n",
    "    \n",
    "    def __init__(self):\n",
    "        \n",
    "        super(PyTorchCNN, self).__init__()\n",
    "        \n",
    "        #Convolution/ReLU/MaxPooling layers definition\n",
    "        self.conv1=nn.Conv2d(1,2, kernel_size=2, stride=1, padding=1) # 1 to 2 channels\n",
    "        self.pool1 = nn.MaxPool2d(kernel_size=2, stride=2) # 32x32 to 16x16 pixels\n",
    "        self.conv2=nn.Conv2d(2,4, kernel_size=2, stride=1, padding=1) # 2 to 4 channels\n",
    "        self.pool2 = nn.MaxPool2d(kernel_size=2, stride=2) # 16x16 to 8x8 pixels\n",
    "        self.conv3=nn.Conv2d(4,8, kernel_size=2, stride=1, padding=1) # 4 to 8 channels\n",
    "        self.pool3=nn.MaxPool2d(kernel_size=2, stride=2) # 8x8 to 4x4 pixels\n",
    "        \n",
    "        # Dense layers definition\n",
    "        self.fc1=nn.Linear(8*4*4, 32)\n",
    "        self.fc2=nn.Linear(32,10)\n",
    "        \n",
    "    def forward(self, x):\n",
    "        x = F.relu(self.conv1(x))\n",
    "        x= self.pool1(x)\n",
    "        x= F.relu(self.conv2(x))\n",
    "        x= self.pool2(x)    \n",
    "        x= F.relu(self.conv3(x))\n",
    "        x= self.pool3(x)\n",
    "        x= x.view(-1, 8*4*4)\n",
    "        x= F.relu(self.fc1(x))\n",
    "        x= self.fc2(x)\n",
    "        \n",
    "        return x"
   ]
  },
  {
   "cell_type": "code",
   "execution_count": 14,
   "id": "33076014-d77f-4301-80d5-1bcbe99151e2",
   "metadata": {},
   "outputs": [],
   "source": [
    "def mnist_transform_PyTorch():\n",
    "    transform = ToTensor()\n",
    "    # Load MNIST dataset\n",
    "    mnist_dataset = datasets.MNIST(root='./data', train=True, download=True, transform=transform)\n",
    "    X, y = mnist_dataset[11] # doit donner 6\n",
    "    X = X.unsqueeze(0)  # Add batch dimension\n",
    "    PyTorchCNN_model = PyTorchCNN()\n",
    "    pred = PyTorchCNN_model(X)\n",
    "    predicted_class = torch.argmax(pred)\n",
    "    image = X.squeeze(0).numpy()\n",
    "\n",
    "    # Visualize\n",
    "    plt.imshow(image.squeeze(0), cmap='gray')  # Squeeze the batch dimension for visualization\n",
    "    plt.title(f'Predicted with Pytorch Model: {predicted_class}')\n",
    "    plt.axis('off')\n",
    "    plt.show()\n",
    "    plt.close()\n",
    "    "
   ]
  },
  {
   "cell_type": "code",
   "execution_count": 15,
   "id": "11588071-2a0a-48d6-b2ec-e1f35ccf840b",
   "metadata": {},
   "outputs": [
    {
     "data": {
      "image/png": "[encoded data removed]",
      "text/plain": [
       "<Figure size 640x480 with 1 Axes>"
      ]
     },
     "metadata": {},
     "output_type": "display_data"
    }
   ],
   "source": [
    "# @title Layers\n",
    "mnist_transform_PyTorch()\n"
   ]
  },
  {
   "cell_type": "markdown",
   "id": "69fbaa11-c8dd-4974-9fde-46e08093154c",
   "metadata": {},
   "source": [
    "#### Equivalent en Keras "
   ]
  },
  {
   "cell_type": "code",
   "execution_count": 16,
   "id": "432693c0-b219-4316-8713-288936deaa6f",
   "metadata": {},
   "outputs": [],
   "source": [
    "def KerasCNN():\n",
    "    # Define input layer\n",
    "    inputs = Input(shape=(28, 28, 1))\n",
    "\n",
    "    # Convolutional layers\n",
    "    x = Conv2D(2, kernel_size=(2, 2), strides=1, padding='same', activation='relu')(inputs)\n",
    "    x = MaxPooling2D(pool_size=(2, 2), strides=2)(x)\n",
    "    x = Conv2D(4, kernel_size=(2, 2), strides=1, padding='same', activation='relu')(x)\n",
    "    x = MaxPooling2D(pool_size=(2, 2), strides=2)(x)\n",
    "    x = Conv2D(8, kernel_size=(2, 2), strides=1, padding='same', activation='relu')(x)\n",
    "    x = MaxPooling2D(pool_size=(2, 2), strides=2)(x)\n",
    "    x = Flatten()(x)\n",
    "    x = Dense(32, activation='relu')(x)\n",
    "    predictions = Dense(10, activation='softmax')(x)\n",
    "    model = Model(inputs=inputs, outputs=predictions)\n",
    "    \n",
    "    model.summary()  \n",
    "    \n",
    "    return model"
   ]
  },
  {
   "cell_type": "code",
   "execution_count": 17,
   "id": "8319856f-ea38-4e27-96c4-9476dd41c356",
   "metadata": {},
   "outputs": [],
   "source": [
    "### Prediction avec Keras\n",
    "\n",
    "def mnist_transform_Keras():\n",
    "     # chargement des données MNIST \n",
    "    (X_train, y_train), (_, _) = mnist.load_data()\n",
    "    X = X_train[9]  # should give 6\n",
    "    X = np.expand_dims(X, axis=0)  # Add batch dimension\n",
    "    X = X.astype('float32') / 255\n",
    "    kerasCNN_model = KerasCNN()\n",
    "    # prediction\n",
    "    pred = kerasCNN_model.predict(X)\n",
    "    predicted_class = np.argmax(pred)\n",
    "\n",
    "    # Visualisation\n",
    "    plt.imshow(X.squeeze(0), cmap='gray')  # Squeeze the batch dimension for visualization\n",
    "    plt.title(f'Predicted with Keras Model: {predicted_class}')\n",
    "    plt.axis('off')\n",
    "    plt.show()\n",
    "    plt.close()\n",
    "    "
   ]
  },
  {
   "cell_type": "code",
   "execution_count": 18,
   "id": "a560dbd3-c2f0-41d0-980d-03ee3c37f68f",
   "metadata": {},
   "outputs": [
    {
     "name": "stdout",
     "output_type": "stream",
     "text": [
      "Model: \"model_3\"\n",
      "_________________________________________________________________\n",
      " Layer (type)                Output Shape              Param #   \n",
      "=================================================================\n",
      " input_1 (InputLayer)        [(None, 28, 28, 1)]       0         \n",
      "                                                                 \n",
      " conv2d (Conv2D)             (None, 28, 28, 2)         10        \n",
      "                                                                 \n",
      " max_pooling2d (MaxPooling2  (None, 14, 14, 2)         0         \n",
      " D)                                                              \n",
      "                                                                 \n",
      " conv2d_1 (Conv2D)           (None, 14, 14, 4)         36        \n",
      "                                                                 \n",
      " max_pooling2d_1 (MaxPoolin  (None, 7, 7, 4)           0         \n",
      " g2D)                                                            \n",
      "                                                                 \n",
      " conv2d_2 (Conv2D)           (None, 7, 7, 8)           136       \n",
      "                                                                 \n",
      " max_pooling2d_2 (MaxPoolin  (None, 3, 3, 8)           0         \n",
      " g2D)                                                            \n",
      "                                                                 \n",
      " flatten (Flatten)           (None, 72)                0         \n",
      "                                                                 \n",
      " dense (Dense)               (None, 32)                2336      \n",
      "                                                                 \n",
      " dense_1 (Dense)             (None, 10)                330       \n",
      "                                                                 \n",
      "=================================================================\n",
      "Total params: 2848 (11.12 KB)\n",
      "Trainable params: 2848 (11.12 KB)\n",
      "Non-trainable params: 0 (0.00 Byte)\n",
      "_________________________________________________________________\n",
      "1/1 [==============================] - 0s 63ms/step\n"
     ]
    },
    {
     "data": {
      "image/png": "[encoded data removed]",
      "text/plain": [
       "<Figure size 640x480 with 1 Axes>"
      ]
     },
     "metadata": {},
     "output_type": "display_data"
    }
   ],
   "source": [
    " mnist_transform_Keras()"
   ]
  },
  {
   "cell_type": "markdown",
   "id": "984ed797-961f-4750-84d3-70453d268d8a",
   "metadata": {},
   "source": [
    "```Je pense avoir mal transposé le modèle Keras, beaucoup de mauvaise prédiction```"
   ]
  }
 ],
 "metadata": {
  "kernelspec": {
   "display_name": "Python 3 (ipykernel)",
   "language": "python",
   "name": "python3"
  },
  "language_info": {
   "codemirror_mode": {
    "name": "ipython",
    "version": 3
   },
   "file_extension": ".py",
   "mimetype": "text/x-python",
   "name": "python",
   "nbconvert_exporter": "python",
   "pygments_lexer": "ipython3",
   "version": "3.11.7"
  }
 },
 "nbformat": 4,
 "nbformat_minor": 5
}
