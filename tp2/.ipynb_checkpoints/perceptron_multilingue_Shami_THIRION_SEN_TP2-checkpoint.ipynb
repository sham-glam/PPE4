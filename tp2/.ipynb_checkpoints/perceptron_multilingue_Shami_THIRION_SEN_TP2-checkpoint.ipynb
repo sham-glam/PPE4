{
 "cells": [
  {
   "cell_type": "markdown",
   "id": "0700daf5-cb84-47a4-aec5-9a9740c24921",
   "metadata": {},
   "source": [
    "# Perceptron Multilingue"
   ]
  },
  {
   "cell_type": "markdown",
   "id": "69d3d3bf-d6a7-460d-9fc0-f1e13fbc1cd9",
   "metadata": {},
   "source": [
    "### Import des fonctions du fichiers utils"
   ]
  },
  {
   "cell_type": "code",
   "execution_count": 1,
   "id": "81f0ba4b-6de5-43dd-8bde-c5b40907c28e",
   "metadata": {},
   "outputs": [
    {
     "name": "stderr",
     "output_type": "stream",
     "text": [
      "2024-02-14 14:20:15.210828: I external/local_tsl/tsl/cuda/cudart_stub.cc:31] Could not find cuda drivers on your machine, GPU will not be used.\n",
      "2024-02-14 14:20:15.248116: E external/local_xla/xla/stream_executor/cuda/cuda_dnn.cc:9261] Unable to register cuDNN factory: Attempting to register factory for plugin cuDNN when one has already been registered\n",
      "2024-02-14 14:20:15.248150: E external/local_xla/xla/stream_executor/cuda/cuda_fft.cc:607] Unable to register cuFFT factory: Attempting to register factory for plugin cuFFT when one has already been registered\n",
      "2024-02-14 14:20:15.249065: E external/local_xla/xla/stream_executor/cuda/cuda_blas.cc:1515] Unable to register cuBLAS factory: Attempting to register factory for plugin cuBLAS when one has already been registered\n",
      "2024-02-14 14:20:15.254581: I external/local_tsl/tsl/cuda/cudart_stub.cc:31] Could not find cuda drivers on your machine, GPU will not be used.\n",
      "2024-02-14 14:20:15.255261: I tensorflow/core/platform/cpu_feature_guard.cc:182] This TensorFlow binary is optimized to use available CPU instructions in performance-critical operations.\n",
      "To enable the following instructions: AVX2 FMA, in other operations, rebuild TensorFlow with the appropriate compiler flags.\n",
      "2024-02-14 14:20:16.290196: W tensorflow/compiler/tf2tensorrt/utils/py_utils.cc:38] TF-TRT Warning: Could not find TensorRT\n"
     ]
    }
   ],
   "source": [
    "# import des fonctions du fichiers utils\n",
    "%matplotlib widget \n",
    "from utils import *"
   ]
  },
  {
   "cell_type": "markdown",
   "id": "77963c4d-7c01-44f1-9193-ec102034627f",
   "metadata": {},
   "source": [
    "### Charger et diviser les données\n",
    "#### Avec ou sans normalisation"
   ]
  },
  {
   "cell_type": "code",
   "execution_count": 2,
   "id": "fac11249-a544-4d20-9939-bdf86107b4c0",
   "metadata": {},
   "outputs": [
    {
     "name": "stdout",
     "output_type": "stream",
     "text": [
      "data length : 96125\n"
     ]
    },
    {
     "data": {
      "text/plain": [
       "(77860, 8652, 9613)"
      ]
     },
     "execution_count": 2,
     "metadata": {},
     "output_type": "execute_result"
    }
   ],
   "source": [
    "# valider avant et après normalisation\n",
    "data = load_data(normalise=True) # normalise=True or False(by default)\n",
    "print(f'data length : {len(data)}') # del\n",
    "\n",
    "train, valid, test = split_dataset(data)\n",
    "len(train), len(valid), len(test)"
   ]
  },
  {
   "cell_type": "markdown",
   "id": "ee98406a-ba0c-4c2f-ac03-1d10f5e8a29d",
   "metadata": {},
   "source": [
    "#### Définir la taille des jeu de données "
   ]
  },
  {
   "cell_type": "code",
   "execution_count": 3,
   "id": "6d707a32-950d-4921-ab1f-bc8e29a69c23",
   "metadata": {},
   "outputs": [],
   "source": [
    "train_length = 1000 #77860\n",
    "valid_length = 100 #8652\n",
    "test_length = 100 #9613\n"
   ]
  },
  {
   "cell_type": "markdown",
   "id": "f9266df5-c521-415b-965d-014f693cb30c",
   "metadata": {},
   "source": [
    "#### Transformation en tensors (pour l'entraînement)"
   ]
  },
  {
   "cell_type": "code",
   "execution_count": 4,
   "id": "16fc7a16-8aef-4949-a99b-c50728f46240",
   "metadata": {},
   "outputs": [
    {
     "name": "stderr",
     "output_type": "stream",
     "text": [
      "/home/shamglam/miniconda3/envs/ml/lib/python3.11/site-packages/sklearn/preprocessing/_encoders.py:868: FutureWarning: `sparse` was renamed to `sparse_output` in version 1.2 and will be removed in 1.4. `sparse_output` is ignored unless you leave `sparse` to its default value.\n",
      "  warnings.warn(\n"
     ]
    }
   ],
   "source": [
    "X_tr, Y_tr = dataset_to_tensors(train[:train_length])"
   ]
  },
  {
   "cell_type": "code",
   "execution_count": 5,
   "id": "d922a84c-240c-45a6-94e0-52098e66eef7",
   "metadata": {},
   "outputs": [
    {
     "name": "stdout",
     "output_type": "stream",
     "text": [
      "(1000, 6) (1000, 6)\n"
     ]
    }
   ],
   "source": [
    "print(X_tr.shape, Y_tr.shape)"
   ]
  },
  {
   "cell_type": "markdown",
   "id": "4b6a9d37-8fc0-417d-aed5-6f7192c70060",
   "metadata": {},
   "source": [
    "### Creation de modèle\n"
   ]
  },
  {
   "cell_type": "code",
   "execution_count": 6,
   "id": "ed3a87a1-792a-4a86-aaf4-9d6aef746ef3",
   "metadata": {},
   "outputs": [
    {
     "data": {
      "text/html": [
       "<pre style=\"white-space:pre;overflow-x:auto;line-height:normal;font-family:Menlo,'DejaVu Sans Mono',consolas,'Courier New',monospace\"><span style=\"font-weight: bold\">Model: \"sequential\"</span>\n",
       "</pre>\n"
      ],
      "text/plain": [
       "\u001b[1mModel: \"sequential\"\u001b[0m\n"
      ]
     },
     "metadata": {},
     "output_type": "display_data"
    },
    {
     "data": {
      "text/html": [
       "<pre style=\"white-space:pre;overflow-x:auto;line-height:normal;font-family:Menlo,'DejaVu Sans Mono',consolas,'Courier New',monospace\">┏━━━━━━━━━━━━━━━━━━━━━━━━━━━━━━━━━┳━━━━━━━━━━━━━━━━━━━━━━━━━━━┳━━━━━━━━━━━━┓\n",
       "┃<span style=\"font-weight: bold\"> Layer (type)                    </span>┃<span style=\"font-weight: bold\"> Output Shape              </span>┃<span style=\"font-weight: bold\">    Param # </span>┃\n",
       "┡━━━━━━━━━━━━━━━━━━━━━━━━━━━━━━━━━╇━━━━━━━━━━━━━━━━━━━━━━━━━━━╇━━━━━━━━━━━━┩\n",
       "│ layer1 (<span style=\"color: #0087ff; text-decoration-color: #0087ff\">Dense</span>)                  │ (<span style=\"color: #00d7ff; text-decoration-color: #00d7ff\">None</span>, <span style=\"color: #00af00; text-decoration-color: #00af00\">16</span>)                │        <span style=\"color: #00af00; text-decoration-color: #00af00\">112</span> │\n",
       "├─────────────────────────────────┼───────────────────────────┼────────────┤\n",
       "│ layer2 (<span style=\"color: #0087ff; text-decoration-color: #0087ff\">Dense</span>)                  │ (<span style=\"color: #00d7ff; text-decoration-color: #00d7ff\">None</span>, <span style=\"color: #00af00; text-decoration-color: #00af00\">8</span>)                 │        <span style=\"color: #00af00; text-decoration-color: #00af00\">136</span> │\n",
       "├─────────────────────────────────┼───────────────────────────┼────────────┤\n",
       "│ dense (<span style=\"color: #0087ff; text-decoration-color: #0087ff\">Dense</span>)                   │ (<span style=\"color: #00d7ff; text-decoration-color: #00d7ff\">None</span>, <span style=\"color: #00af00; text-decoration-color: #00af00\">6</span>)                 │         <span style=\"color: #00af00; text-decoration-color: #00af00\">54</span> │\n",
       "└─────────────────────────────────┴───────────────────────────┴────────────┘\n",
       "</pre>\n"
      ],
      "text/plain": [
       "┏━━━━━━━━━━━━━━━━━━━━━━━━━━━━━━━━━┳━━━━━━━━━━━━━━━━━━━━━━━━━━━┳━━━━━━━━━━━━┓\n",
       "┃\u001b[1m \u001b[0m\u001b[1mLayer (type)                   \u001b[0m\u001b[1m \u001b[0m┃\u001b[1m \u001b[0m\u001b[1mOutput Shape             \u001b[0m\u001b[1m \u001b[0m┃\u001b[1m \u001b[0m\u001b[1m   Param #\u001b[0m\u001b[1m \u001b[0m┃\n",
       "┡━━━━━━━━━━━━━━━━━━━━━━━━━━━━━━━━━╇━━━━━━━━━━━━━━━━━━━━━━━━━━━╇━━━━━━━━━━━━┩\n",
       "│ layer1 (\u001b[38;5;33mDense\u001b[0m)                  │ (\u001b[38;5;45mNone\u001b[0m, \u001b[38;5;34m16\u001b[0m)                │        \u001b[38;5;34m112\u001b[0m │\n",
       "├─────────────────────────────────┼───────────────────────────┼────────────┤\n",
       "│ layer2 (\u001b[38;5;33mDense\u001b[0m)                  │ (\u001b[38;5;45mNone\u001b[0m, \u001b[38;5;34m8\u001b[0m)                 │        \u001b[38;5;34m136\u001b[0m │\n",
       "├─────────────────────────────────┼───────────────────────────┼────────────┤\n",
       "│ dense (\u001b[38;5;33mDense\u001b[0m)                   │ (\u001b[38;5;45mNone\u001b[0m, \u001b[38;5;34m6\u001b[0m)                 │         \u001b[38;5;34m54\u001b[0m │\n",
       "└─────────────────────────────────┴───────────────────────────┴────────────┘\n"
      ]
     },
     "metadata": {},
     "output_type": "display_data"
    },
    {
     "data": {
      "text/html": [
       "<pre style=\"white-space:pre;overflow-x:auto;line-height:normal;font-family:Menlo,'DejaVu Sans Mono',consolas,'Courier New',monospace\"><span style=\"font-weight: bold\"> Total params: </span><span style=\"color: #00af00; text-decoration-color: #00af00\">302</span> (1.18 KB)\n",
       "</pre>\n"
      ],
      "text/plain": [
       "\u001b[1m Total params: \u001b[0m\u001b[38;5;34m302\u001b[0m (1.18 KB)\n"
      ]
     },
     "metadata": {},
     "output_type": "display_data"
    },
    {
     "data": {
      "text/html": [
       "<pre style=\"white-space:pre;overflow-x:auto;line-height:normal;font-family:Menlo,'DejaVu Sans Mono',consolas,'Courier New',monospace\"><span style=\"font-weight: bold\"> Trainable params: </span><span style=\"color: #00af00; text-decoration-color: #00af00\">302</span> (1.18 KB)\n",
       "</pre>\n"
      ],
      "text/plain": [
       "\u001b[1m Trainable params: \u001b[0m\u001b[38;5;34m302\u001b[0m (1.18 KB)\n"
      ]
     },
     "metadata": {},
     "output_type": "display_data"
    },
    {
     "data": {
      "text/html": [
       "<pre style=\"white-space:pre;overflow-x:auto;line-height:normal;font-family:Menlo,'DejaVu Sans Mono',consolas,'Courier New',monospace\"><span style=\"font-weight: bold\"> Non-trainable params: </span><span style=\"color: #00af00; text-decoration-color: #00af00\">0</span> (0.00 B)\n",
       "</pre>\n"
      ],
      "text/plain": [
       "\u001b[1m Non-trainable params: \u001b[0m\u001b[38;5;34m0\u001b[0m (0.00 B)\n"
      ]
     },
     "metadata": {},
     "output_type": "display_data"
    }
   ],
   "source": [
    "# m = PerceptronModel1()\n",
    "m = PerceptronModel2()\n",
    "# m.set_weights([np.array([[-0.09],[0.09]])]) # change to 6 weights \n",
    "m.summary()"
   ]
  },
  {
   "cell_type": "code",
   "execution_count": 7,
   "id": "5636dc5a-87ff-4eab-88a8-32068b674acd",
   "metadata": {},
   "outputs": [
    {
     "name": "stdout",
     "output_type": "stream",
     "text": [
      "len test data: (100, 6), (100, 6)\n"
     ]
    },
    {
     "name": "stderr",
     "output_type": "stream",
     "text": [
      "/home/shamglam/miniconda3/envs/ml/lib/python3.11/site-packages/sklearn/preprocessing/_encoders.py:868: FutureWarning: `sparse` was renamed to `sparse_output` in version 1.2 and will be removed in 1.4. `sparse_output` is ignored unless you leave `sparse` to its default value.\n",
      "  warnings.warn(\n",
      "/home/shamglam/miniconda3/envs/ml/lib/python3.11/site-packages/sklearn/preprocessing/_encoders.py:868: FutureWarning: `sparse` was renamed to `sparse_output` in version 1.2 and will be removed in 1.4. `sparse_output` is ignored unless you leave `sparse` to its default value.\n",
      "  warnings.warn(\n"
     ]
    }
   ],
   "source": [
    "# test data to tensors\n",
    "X_test , y_test = dataset_to_tensors(test[:test_length])\n",
    "print(f'len test data: {X_test.shape}, {y_test.shape}')\n",
    "\n",
    "X_val, y_val = dataset_to_tensors(valid[:valid_length])\n",
    "\n"
   ]
  },
  {
   "cell_type": "markdown",
   "id": "3267592f-b4db-4fb6-a9cb-7b41da23e7a0",
   "metadata": {},
   "source": [
    "#### Model Fit"
   ]
  },
  {
   "cell_type": "code",
   "execution_count": 8,
   "id": "53d84040-b585-4b43-afd6-7d78772d6cc3",
   "metadata": {},
   "outputs": [
    {
     "name": "stdout",
     "output_type": "stream",
     "text": [
      "Epoch 1/15\n",
      "250/250 - 1s - 5ms/step - accuracy: 0.1940 - loss: 1.8049 - val_accuracy: 0.3100 - val_loss: 1.7619\n",
      "Epoch 2/15\n",
      "250/250 - 0s - 832us/step - accuracy: 0.3260 - loss: 1.7350 - val_accuracy: 0.4500 - val_loss: 1.6987\n",
      "Epoch 3/15\n",
      "250/250 - 0s - 868us/step - accuracy: 0.4710 - loss: 1.6772 - val_accuracy: 0.5200 - val_loss: 1.6260\n",
      "Epoch 4/15\n",
      "250/250 - 0s - 898us/step - accuracy: 0.4860 - loss: 1.5988 - val_accuracy: 0.5200 - val_loss: 1.5335\n",
      "Epoch 5/15\n",
      "250/250 - 0s - 877us/step - accuracy: 0.4820 - loss: 1.5022 - val_accuracy: 0.5800 - val_loss: 1.4274\n",
      "Epoch 6/15\n",
      "250/250 - 0s - 851us/step - accuracy: 0.5540 - loss: 1.4002 - val_accuracy: 0.5800 - val_loss: 1.3247\n",
      "Epoch 7/15\n",
      "250/250 - 0s - 898us/step - accuracy: 0.5370 - loss: 1.3024 - val_accuracy: 0.6300 - val_loss: 1.2309\n",
      "Epoch 8/15\n",
      "250/250 - 0s - 900us/step - accuracy: 0.5870 - loss: 1.2137 - val_accuracy: 0.6100 - val_loss: 1.1474\n",
      "Epoch 9/15\n",
      "250/250 - 0s - 862us/step - accuracy: 0.5870 - loss: 1.1369 - val_accuracy: 0.5900 - val_loss: 1.0832\n",
      "Epoch 10/15\n",
      "250/250 - 0s - 857us/step - accuracy: 0.6230 - loss: 1.0753 - val_accuracy: 0.6600 - val_loss: 1.0279\n",
      "Epoch 11/15\n",
      "250/250 - 0s - 938us/step - accuracy: 0.6390 - loss: 1.0250 - val_accuracy: 0.6300 - val_loss: 0.9874\n",
      "Epoch 12/15\n",
      "250/250 - 0s - 866us/step - accuracy: 0.6490 - loss: 0.9843 - val_accuracy: 0.6400 - val_loss: 0.9583\n",
      "Epoch 13/15\n",
      "250/250 - 0s - 939us/step - accuracy: 0.6380 - loss: 0.9528 - val_accuracy: 0.6400 - val_loss: 0.9297\n",
      "Epoch 14/15\n",
      "250/250 - 0s - 830us/step - accuracy: 0.6470 - loss: 0.9253 - val_accuracy: 0.6400 - val_loss: 0.9137\n",
      "Epoch 15/15\n",
      "250/250 - 0s - 866us/step - accuracy: 0.6460 - loss: 0.9031 - val_accuracy: 0.6400 - val_loss: 0.8975\n",
      "Restoring model weights from the end of the best epoch: 15.\n"
     ]
    },
    {
     "data": {
      "text/plain": [
       "<keras.src.callbacks.history.History at 0x7f61b5780190>"
      ]
     },
     "execution_count": 8,
     "metadata": {},
     "output_type": "execute_result"
    }
   ],
   "source": [
    "# calculate loss and accuracy\n",
    "monitor = EarlyStopping(monitor='val_loss', min_delta=1e-3, \n",
    "    patience=5, verbose=1, mode='auto', restore_best_weights=True)\n",
    "\n",
    "m.fit(x=X_tr, y=Y_tr, epochs=15, batch_size=4, validation_data=(X_val, y_val), callbacks=[monitor], verbose=2 )\n"
   ]
  },
  {
   "cell_type": "code",
   "execution_count": 9,
   "id": "e2b834a3-8459-4a21-9ce6-cdb0314661be",
   "metadata": {},
   "outputs": [
    {
     "name": "stdout",
     "output_type": "stream",
     "text": [
      "0.904606282711029  |  0.6700000166893005 \n",
      "Test loss: 0.904606282711029\n",
      "Test accuracy: 0.6700000166893005\n"
     ]
    }
   ],
   "source": [
    "# Evaluation du modèle\n",
    "score = m.evaluate(X_test, y_test, verbose=0) # score = test_loss, test_accuracy\n",
    "print(f'{score[0]}  |  {score[1]} ')\n",
    "print('Test loss:', score[0])\n",
    "print('Test accuracy:', score[1])"
   ]
  },
  {
   "cell_type": "code",
   "execution_count": 10,
   "id": "65d663de-c773-4328-bc81-7c922eaaab74",
   "metadata": {},
   "outputs": [
    {
     "name": "stdout",
     "output_type": "stream",
     "text": [
      "\u001b[1m4/4\u001b[0m \u001b[32m━━━━━━━━━━━━━━━━━━━━\u001b[0m\u001b[37m\u001b[0m \u001b[1m0s\u001b[0m 9ms/step \n"
     ]
    }
   ],
   "source": [
    "\n",
    "y_pred_val = m.predict(X_test)\n",
    "# print(y_test.shape, y_test.shape)\n",
    "max_index = np.argmax(y_pred_val, axis=1)\n",
    "# print(y_test[:10], y_pred[:10])\n",
    "y_pred = np.zeros_like(y_pred_val)\n",
    "y_pred[np.arange(len(y_pred_val)), max_index] = 1\n",
    "\n",
    "# y_pred"
   ]
  },
  {
   "cell_type": "markdown",
   "id": "1fe65b91-46a4-4fc0-ab12-92b7a71c9784",
   "metadata": {},
   "source": [
    "#### Confusion Matrix"
   ]
  },
  {
   "cell_type": "code",
   "execution_count": 11,
   "id": "0548cc28-f9fa-41d6-ae0d-1fff724c5474",
   "metadata": {},
   "outputs": [
    {
     "data": {
      "application/vnd.jupyter.widget-view+json": {
       "model_id": "3d7b5d9c5b804af181e8c75aa9c279a3",
       "version_major": 2,
       "version_minor": 0
      },
      "image/png": "[encoded data removed]",
      "text/html": [
       "\n",
       "            <div style=\"display: inline-block;\">\n",
       "                <div class=\"jupyter-widgets widget-label\" style=\"text-align: center;\">\n",
       "                    Figure\n",
       "                </div>\n",
       "                <img src='data:image/png;base64,iVBORw0KGgoAAAANSUhEUgAAAyAAAAMgCAYAAADbcAZoAAAAOXRFWHRTb2Z0d2FyZQBNYXRwbG90bGliIHZlcnNpb24zLjguMCwgaHR0cHM6Ly9tYXRwbG90bGliLm9yZy81sbWrAAAACXBIWXMAAA9hAAAPYQGoP6dpAAB7vUlEQVR4nO3dd3wU1f7/8femU1NJQm+KJDRJUAxVFAKIFFEEEURBL0WvQES8CFwVldjBBlgoF1HgKohcQSSKIgioCaGDSAmhJKRAEmpINvv7I1/ib8mCEDezTPJ6Ph7zeMDZz8yeOcySfPZzzozFZrPZBAAAAAAGcHN1BwAAAACUHyQgAAAAAAxDAgIAAADAMCQgAAAAAAxDAgIAAADAMCQgAAAAAAxDAgIAAADAMCQgAAAAAAxDAgIAAADAMCQgAAAAAAxDAgIAAADAMCQgAAAAAAxDAgIAAADAMCQgAAAAAAxDAgIAAADAMCQgAAAAAAxDAgIAAADAMCQgAAAAAAxDAgIAAADAMCQgAAAAAAxDAgIAAADAMCQgAAAAAAxDAgIAAADAMCQgAAAAAAxDAgIAAADAMCQgAAAAAAxDAgIAAADAMCQgAAAAAAxDAgIAAADAMCQgAAAAAAxDAgIAAADAMCQgAAAAAAxDAgIAAADAMCQgAAAAAAxDAgIAAADAMCQgAAAAAAxDAgIAAADAMCQgAAAAAAxDAgIAAADAMCQgAAAAAAxDAgIAAADAMCQgAAAAAAxDAgIAAADAMCQgAAAAAAxDAgIAAADAMCQgAAAAAAxDAgIAAADAMCQgAAAAAAxDAgIAAADAMCQgAAAAAAxDAgIAAADAMCQgAAAAAAxDAgIAAADAMCQgAAAAAAxDAgIAAADAMCQgAAAAAAxDAgIAAADAMCQgAAAAAAxDAgIAAADAMCQgAAAAAAxDAgIAAADAMCQgAAAAAAxDAgIAAADAMCQgAAAAAAxDAgIAAADAMCQgAAAAAAxDAgIAAADAMCQgAAAAAAxDAgIAAADAMCQgAAAAAAxDAgIAAADAMCQgAAAAAAxDAgIAAADAMCQgAAAAAAxDAgIAAADAMCQgAAAAAAxDAgIAAADAMCQgAAAAAAxDAgIAAADAMCQgAAAAAAxDAgIAAADAMCQgAAAAAAxDAgIAAADAMCQgAAAAAAxDAgIAAADAMCQgAAAAAAxDAgIAAADAMCQgAAAAAAxDAgIAAADAMCQgAAAAAAxDAgIAAABDzJgxQ/Xr15ePj48iIyO1bt26y8ampKRo4MCBuummm+Tm5qYxY8Zc8diLFi2SxWJRnz59nNtpOB0JCAAAAErd4sWLNWbMGE2cOFGJiYlq3769unfvruTkZIfxubm5qlatmiZOnKgWLVpc8diHDh3SuHHj1L59+9LoOpzMYrPZbK7uBAAAAMq21q1bKyIiQjNnzixqCwsLU58+fRQbG3vFfW+//XbdfPPNmj59erHXrFarOnbsqEceeUTr1q1TVlaWli1b5uTew5mogAAAAKBUXbhwQQkJCYqOjrZrj46O1oYNG/7WsadMmaJq1app2LBhf+s4MI6HqzsAAAAAc8rNzVVubq5dm7e3t7y9ve3aMjIyZLVaFRISYtceEhKi1NTUEr//zz//rNmzZ2vLli0lPgaMRwJynWnwzpuu7kKZ0XDMJld3AUApGfT7UVd3oUxYcFNNV3ehzIgr+Nxl712Q2shl7x07a6BeeOEFu7bnnntOzz//vMN4i8Vi93ebzVas7WqdOnVKgwYN0kcffaSgoKASHQOuQQICAACAEpkwYYJiYmLs2i6tfkhSUFCQ3N3di1U70tLSilVFrtb+/fuVlJSknj17FrUVFBRIkjw8PPT777+rYcOGJTo2ShcJCAAAgIkVqMBl7+1oupUjXl5eioyMVFxcnO65556i9ri4OPXu3btE7924cWNt377drm3SpEk6deqU3n77bdWuXbtEx0XpIwEBAABAqYuJidHgwYPVqlUrRUVF6cMPP1RycrJGjBghqbCacvToUc2fP79on4trO06fPq309HRt2bJFXl5eCg8Pl4+Pj5o2bWr3Hn5+fpJUrB3XFxIQAAAAlLr+/fsrMzNTU6ZMUUpKipo2baqVK1eqbt26kgofPHjpM0FatmxZ9OeEhAR99tlnqlu3rpKSkozsOpyM54BcZ1iE7jwsQgfKLhahOweL0J3HlYvQc1MauOy9vasfcNl7w7x4DggAAAAAwzAFCwAAwMQKxGQWmAsVEAAAAACGIQEBAAAAYBimYAEAAJiYK58DApQEFRAAAAAAhqECAgAAYGJWnqgAk6ECAgAAAMAwVEAAAABMjNvwwmyogAAAAAAwDAkIAAAAAMMwBQsAAMDErEzBgslQAQEAAABgGCogAAAAJsYidJgNFRAAAAAAhiEBAQAAAGAYpmABAACYGE9Ch9lQAQEAAABgGCogAAAAJlbg6g4A14gKCAAAAADDUAEBAAAwMR5ECLOhAgIAAADAMCQgAAAAAAzDFCwAAAATszIDCyZDBQQAAACAYaiAAAAAmBi34YXZUAEBAAAAYBgSEAAAAACGYQoWAACAiVllcXUXgGtCBQQAAACAYaiAAAAAmFgBt+GFyVABAQAAAGAYEhAAAAAAhmEKFgAAgImxCB1mQwUEAAAAgGGogAAAAJgYFRCYDRUQAAAAAIahAgIAAGBiBTYqIDAXKiAAAAAADEMFBBrUrIUei7hFwZUqae+JTL300w/67djRy8bfWrOWJra/XY0CAnX8zGl9mPCbPtuxrej1z/rer9tq1S623w8HD2jY/74slXO4HvQcGa1+43orsLqfknYe0cyxc7Vj/Z7LxjfvEK7hbw5RvSa1lHnspP77+lf6+oM4u5h2fVvr4SkDVL1hiFL2H9fcSQv187JfS/tUXI6xdB7G0jkSVpzXpqXndPpEgarVcVfnxyqpTlNPh7GnTxTou9lnlLovXyeOFeiWnj7q8o9KdjGJq85r+5pcZRyySpJCb/DQ7Q9VUI2bHB+zLOGaBEAFpJzrceNNmtShk96P/0V3L/xE8UePaE6vvqpRuYrD+FpVq2pOr76KP3pEdy/8RDPif9W/O96hbg1vLIoZuWK5bv14ZtHWdcE85RcUaOW+vUadluE63t9GI6c9ooVTl2hkxHjtWL9bU1dOVLXaQQ7jQ+sF66UVE7Rj/W6NjBivhbFLNertoWrXt3VRTNhtjTRp0Vh9t2CtRtw8Tt8tWKtJi8eq8a03GHVaLsFYOg9j6Ry7fspV3Edn1Pb+Chr2jq9qN/HU4udzlJ1mdRifn2dTxapuant/RYXUd3cYk7w9T006euvB2Kp66A1fVa3mpoX/PqVTGY6PWVZwTZYOqywu24CSIAEp54a1jNTnO7frvzu3a//JE3px3Y9KOX1KDzZv4TD+waYtdOxUjl5c96P2nzyh/+7cri927dCjEa2KYrJzzyvj7NmirV2dujqXn6eVf/xuxCm5xL1j79aqOWv0zew1St5zVDPHzlP64Qz1HBntMP7uEV2UnpyhmWPnKXnPUX0ze42+nbtG/Z7qVRTTd3QPJcRt06JXlunw78e06JVlSvx+h/qO7mHUabkEY+k8jKVz/LrsvFp08dbNXX0UVNtDXf5RSVWD3LV55XmH8X4h7ooeXknN7vSWd0XHv6D1frqKInv4KKSBh4Jqu+uuf1aSrUBK2ppfmqficlyTACQSkHLN081NTYNDtC75kF37uuRDiqhew+E+LavXKBb/06EkNQsOkYeb48vp/vCm+nrv7zqXXzZ/sHp4eqhRZAMlrN5q154Qt01Nom5yuE/YbY2UELfNri3+261q1KqB3D0KvzENj2qkhDj7Y8av3qLwNo6PWRYwls7DWDqHNc+mlH35atDSfmpU/ZaeOrLHef+n5eVKBVabfKqU3W+UuSZLj1VuLtuAkuDKKaEjR45o4sSJ6tSpk8LCwhQeHq5OnTpp4sSJOnz4sKu7d1X8K1SQh5ubMs6etWvPPHtG1SpWcrhPtYoVlXn2jF1bxtmz8nR3l79PhWLxzUNCdVNQNS3eud15Hb/O+AZVkbuHu04ez7JrP3k8S/6hfg73CQj1cxjv4ekh36DC6W/+oX46eTz7kpjsyx6zLGAsnYexdI6zOTbZCqRK/vY/Liv5W3TmZIHT3ueH/5xRlUA31b+57K4B4ZoEcBGL0Etg/fr16t69u2rXrq3o6GhFR0fLZrMpLS1Ny5Yt07vvvqtvvvlGbdu2veJxcnNzlZuba9dmy8+XxcPYfxabbJe0WGS7tMku/pJoy+WOU1j9+D0jXduOp/6tPprBpWNmsVhku8JAXvqa5f8G0q65WIyDNyqDGEvnYSxLiU1y1vT3jV+c0661FzQotqo8vMpuBeQirkkAJCAlMHbsWD366KOaNm3aZV8fM2aMfvvttyseJzY2Vi+88IJdm1+3LvLv3tVpfb2Sk+fOKb+goFi1I7BiRWWcO+Nwn/SzZxV0aXyFisqzWpV13n4+tI+Hh3o2aqxpm352bsevM9kZp2TNtyrgkm/b/IJ9lXXJt3IXnUjNUkCof7H4/Lx85WSekiSdTC3+raBfsG+xb/rKEsbSeRhL56hY1SKLm4pVO85k2VTJ7+9PIti09Jw2fH5OA1+qquD6ZftHMtdk6eE5IDAbpmCVwI4dOzRixIjLvj58+HDt2LHjL48zYcIEZWdn221+Xe50ZlevKK+gQDvSjqtdnbp27e3q1NXmlGMO90lMOVYsvn2dutqedlz5BfY/oHvceJO83N217Pfdzu34dSY/L197Ew4ooktzu/aIzs21c6Pjhfe7N+1VRGf7+MjoFtobf0DW/MK74OzauFeRl8Z0aaFdG8ruYn7G0nkYS+dw97So+g0eOrglz6794JY81Wr89xKGTUvO6edF5zTghSqqfmPZTj4krkkAfyIBKYHq1atrw4YNl31948aNql69+l8ex9vbW1WrVrXbjJ5+NTsxQfc3aaZ+4U3V0D9Ak9rfrhqVq+jT7YUL+p5u005vdOlWFP/pjq2qWaWqJrbvqIb+AeoX3lT9mjTTx5vjix37/vCmWn1gX7HKSFm0ZNrX6j7sTnV9pJPqNK6pEW8NUXCdIH09a7UkaejUgRo/74mi+K9nxSm4bpCGvzlEdRrXVNdHOqnb0Dv0+ZvLi2K+fGeFIqNbqP/43qp9Uw31H99bEZ2baenbKww/PyMxls7DWDrHrX18tGV1rrauPq+Mw/mK++iMctKtirjLR5L0w7wzWv7mKbt9jh/I1/ED+bpw3qaz2QU6fiBf6cl/Llrf+MU5rf3krHqMriTfEHedPlmg0ycLdOFc2Z42xDVZOrgNL8ym7H/lUgrGjRunESNGKCEhQV26dFFISIgsFotSU1MVFxenjz/+WNOnT3d1N6/Kij9+l7+Pj/55622qVqmS9mZmaujypTp2qvCHabWKlVSjStWi+CM5ORq6fKkmtb9dg5rfrLTTZzRl7Rqt2v+H3XHr+/nrlpq19NCXXxh6Pq6y9r8bVDWwsgZNvk8B1f2VtOOwJvaYqrTkDElSYKi/guv8eZ/71KQ0TeoRqxFvDVGvUV2VeeykZoyeo/VLfymK2bVxr15+YLoefnGAhkwZoJT9qXp5wDTt+XWf4ednJMbSeRhL5wjv4K1zp2xav+j/HkRY1139n68q3+DCuzCdPmlTTrp9BXj2k39O/0ndZ9XOtRfkG+ymx+cUTifavPK8rPnS0tjTdvu1e6CCOjxYsZTPyHW4JgFIksV2pZVfuKzFixdr2rRpSkhIkNVaWAZ2d3dXZGSkYmJidP/995fouA3eedOZ3SzXGo7Z5OouACglg34/6uoulAkLbqrp6i6UGXEFn7vsvdclue6hi+3rkejh2lEBKaH+/furf//+ysvLU0ZG4Tc3QUFB8vQsu7dQBAAAAP4uEpC/ydPT86rWewAAAAAgAQEAADC1Au4pBJPhigUAAABgGCogAAAAJsbtcGE2VEAAAAAAGIYEBAAAAIBhmIIFAABgYlYb3yfDXLhiAQAAABiGCggAAICJFbAIHSZDBQQAAACAYaiAAAAAmJiV75NhMlyxAAAAAAxDAgIAAADAMEzBAgAAMDFuwwuz4YoFAAAAYBgqIAAAACZWwPfJMBmuWAAAAACGIQEBAAAAYBimYAEAAJiY1caT0GEuVEAAAAAAGIYKCAAAgInxJHSYDVcsAAAAAMNQAQEAADCxAh5ECJPhigUAAABgGBIQAAAAAIZhChYAAICJsQgdZsMVCwAAAMAwJCAAAAAmZrVZXLZdqxkzZqh+/fry8fFRZGSk1q1bd9nYlJQUDRw4UDfddJPc3Nw0ZsyYYjEfffSR2rdvL39/f/n7+6tz58769ddfr7lfMBYJCAAAAErd4sWLNWbMGE2cOFGJiYlq3769unfvruTkZIfxubm5qlatmiZOnKgWLVo4jPnxxx/1wAMP6IcfftDGjRtVp04dRUdH6+jRo6V5KvibSEAAAABQ6t566y0NGzZMjz76qMLCwjR9+nTVrl1bM2fOdBhfr149vf3223rooYfk6+vrMObTTz/VqFGjdPPNN6tx48b66KOPVFBQoO+//740TwV/E4vQAQAATKzAhd8n5+bmKjc3167N29tb3t7edm0XLlxQQkKC/vWvf9m1R0dHa8OGDU7rz9mzZ5WXl6eAgACnHRPORwUEAAAAJRIbGytfX1+7LTY2tlhcRkaGrFarQkJC7NpDQkKUmprqtP7861//Us2aNdW5c2enHRPORwUEAADAxKwufBL6hAkTFBMTY9d2afXj/2ex2C9ct9lsxdpK6rXXXtPChQv1448/ysfHxynHROkgAQEAAECJOJpu5UhQUJDc3d2LVTvS0tKKVUVK4o033tDUqVP13XffqXnz5n/7eChdTMECAAAwsQJZXLZdLS8vL0VGRiouLs6uPS4uTm3atPlb5//666/rxRdf1KpVq9SqVau/dSwYgwoIAAAASl1MTIwGDx6sVq1aKSoqSh9++KGSk5M1YsQISYXTuY4ePar58+cX7bNlyxZJ0unTp5Wenq4tW7bIy8tL4eHhkgqnXU2ePFmfffaZ6tWrV1RhqVy5sipXrmzsCeKqkYAAAACg1PXv31+ZmZmaMmWKUlJS1LRpU61cuVJ169aVVPjgwUufCdKyZcuiPyckJOizzz5T3bp1lZSUJKnwwYYXLlzQfffdZ7ffc889p+eff75UzwclRwICAABgYq5chH6tRo0apVGjRjl8bd68ecXabDbbFY93MRGBuZjnigUAAABgelRAAAAATMzK98kwGa5YAAAAAIYhAQEAAABgGKZgAQAAmFiBzTlPEgeMQgUEAAAAgGGogAAAAJgYi9BhNlyxAAAAAAxDBeQ603DMJld3ocxokUh+7QxbWxa4ugtlhkeN6q7uQpmx4CZX9wC4fhSY6EGEgEQFBAAAAICBSEAAAAAAGIYpWAAAACZmFbfhhblQAQEAAABgGCogAAAAJsYidJgNVywAAAAAw5CAAAAAADAMU7AAAABMjEXoMBsqIAAAAAAMQwUEAADAxFiEDrPhigUAAABgGCogAAAAJmalAgKT4YoFAAAAYBgSEAAAAACGYQoWAACAiRVwG16YDBUQAAAAAIahAgIAAGBiLEKH2XDFAgAAADAMCQgAAAAAwzAFCwAAwMQKbCxCh7lQAQEAAABgGCogAAAAJmbl+2SYDFcsAAAAAMOQgAAAAAAwDFOwAAAATIxF6DAbKiAAAAAADEMFBAAAwMQK+D4ZJsMVCwAAAMAwVEAAAABMzMoaEJgMFRAAAAAAhiEBAQAAAGAYpmABAACYGLfhhdlQAQEAAABgGCogAAAAJlZg4/tkmAtXLAAAAADDkIAAAAAAMAxTsAAAAEzMKhahw1yogAAAAAAwDBUQAAAAE+M2vDAbKiAAAAAADEMFBAAAwMS4DS/MhisWAAAAgGFIQAAAAAAYhilYAAAAJlbAbXhhMiQgUM+R0eo3rrcCq/spaecRzRw7VzvW77lsfPMO4Rr+5hDVa1JLmcdO6r+vf6WvP4izi2nXt7UenjJA1RuGKGX/cc2dtFA/L/u1tE/FpZK+zdC+5WnKzcpTlVo+avJwTQWGVXYYe/5knnbNP6qsA+d0JjVX9bsHqenDtexiTh0+pz2LU5V98KzOpeepyZAaatAj2IhTcTmuSefp8VA73TfiTgUEV9Whvan64Pkl2vnrgcvGN7vtBj3273tUt1GoMo9n64uZ32vlgp+LXq/TKFSDx92lG5vVVkjtQH3w3FItm/2jAWfiWlyTzsNYAmAKVjnX8f42GjntES2cukQjI8Zrx/rdmrpyoqrVDnIYH1ovWC+tmKAd63drZMR4LYxdqlFvD1W7vq2LYsJua6RJi8bquwVrNeLmcfpuwVpNWjxWjW+9wajTMtzRDSe1Y95R3dg3RB1evUkBYZX0y9QDOptxwWF8QV6BvKp66Ma+Iapat4LDGGuuTZVCvBQ2sIa8/crPdwVck87ToWdLDX++rxa9u1pPdHtNO3/drxc/GalqNfwdxofUDtCU+cO189f9eqLba1r8XpxGTLlXbe9qURTjU8FLqcmZmhv7P504nm3UqbgU16TzMJalw2qzuGwDSoIEpJy7d+zdWjVnjb6ZvUbJe45q5th5Sj+coZ4jox3G3z2ii9KTMzRz7Dwl7zmqb2av0bdz16jfU72KYvqO7qGEuG1a9MoyHf79mBa9skyJ3+9Q39E9jDotwx34Ol117ghQ3TsDVaWWj5o+XEsVgjx1aHWGw/iKwd5q+kgt1e4YIM+Kjj+GfjdUVPjgmqrZ1l9unuXnP3muSee55x+dtHrRJn27cKMO7zuuD55fqvRjJ9XjoXYO43sMbqe0oyf1wfNLdXjfcX27cKNWL96ke4ffURSzd2uyZr/0ldYu36y8C/lGnYpLcU06D2MJQCIBKdc8PD3UKLKBElZvtWtPiNumJlE3Odwn7LZGSojbZtcW/+1WNWrVQO4e7pKk8KhGSoizP2b86i0Kb+P4mGZXkF+g7ANnVa1FFbv2as2r6MTvZ1zUK3PimnQeD0933distjb/ZD+1ZfNPexTeqr7DfRpH1Csev3aPbmxeR+4e5fPHBdek8zCWAC4qnz9RDHD48GENHTrU1d24It+gKnL3cNfJ41l27SePZ8k/1M/hPgGhfg7jPTw95BtU+Au4f6ifTl4yNePk8ezLHtPsLuRYZSuQvH097dq9fT2Vm1U+viF2Fq5J56kaUKlwLNNP2bVnpZ+Sf7UqDvfxD66qrEviT6afkoenu6oGOF7PVNZxTToPY1l6CmxuLtuAkuDKKSUnTpzQf/7znyvG5ObmKicnx24rsFkN6uGfbDb7v1ssFtkubbSLt3/NYrEUP06xGAdvVNZcMkvKJluxNlwdrknncTQ2Vzrt4mN/mRfKGa5J52EsAZSfla1Otnz58iu+fuDA5e8yc1FsbKxeeOEFu7b6ClNDNflbfbta2RmnZM23KuCSb4n8gn2VdZnFpSdSsxQQ6l8sPj8vXzmZhd+cnkwt/m2WX7BvsW+oygqvqu6yuEm5WXl27Rey8+Xty0fsWnBNOk/OiTOFYxlc1a7dN6iysjJOOdznZFqO/IPtqyN+QVWUn2dVzsnyOZ2Qa9J5GMvSU8BicJgMFZAS6tOnj+655x716dPH4RYTE/OXx5gwYYKys7PttvpqbEDvC+Xn5WtvwgFFdGlu1x7Rubl2bvzd4T67N+1VRGf7+MjoFtobf0DW/MLqza6NexV5aUyXFtq1wfExzc7Nw02+DSoqfZv9L3Xp204p4KZKLuqVOXFNOk9+nlV/bD+slu3t58FHtG+sXfEHHe6zZ3OSItrb/x8U0aGx/tiWLGt+Qan19XrGNek8jCWAi0hASqh69epasmSJCgoKHG6bN2/+y2N4e3uratWqdpubxd2A3v9pybSv1X3Yner6SCfVaVxTI94aouA6Qfp61mpJ0tCpAzV+3hNF8V/PilNw3SANf3OI6jSuqa6PdFK3oXfo8zf/rAh9+c4KRUa3UP/xvVX7phrqP763Ijo309K3Vxh6bkZqcHc1JX9/QslrMnXqyHntmHdU5zLyVLdL4a0ld392TInvHbLbJzvprLKTzir/fIEu5FiVnXRWp46cL3q9IL+gKKYg36bzJ/KUnXRWZ1JzDT03o3FNOs+XH/6grg9EKbr/bap9Q4j+8dw9qlbTXys/WS9JevhfPfXU9EFF8Ss+Wa/gWv567N/3qPYNIYruf5uiB9ymJR+sKYrx8HRXg/CaahBeUx6eHgqs7qsG4TVVvZ7j26iWBVyTzsNYlo4CWVy2ASXB/JASioyM1ObNm9WnTx+Hr//VnNbrxdr/blDVwMoaNPk+BVT3V9KOw5rYY6rSkgtvHxsY6q/gOn/+YpGalKZJPWI14q0h6jWqqzKPndSM0XO0fukvRTG7Nu7Vyw9M18MvDtCQKQOUsj9VLw+Ypj2/7jP8/IxSs42/8k5ZtXdJqnJP5qtKbR+1ntBAFat5SSp88OC5S54J8tP4vUV/zj5wTkfXn1SFap7q/H7hFLzzJ/LsYvb/L137/5euwPBKavP8jQaclWtwTTrPT/9LVBX/Sho4pqsCgn2V9HuK/v3QLKUdPSlJCgiuquCaf05vOX74hP790Af6x3P3qOeQ9so8nq1Z/16in1f+eYehgBBfvb/6maK/3zfiTt034k5t2/iHnun3rnEnZyCuSedhLAFIksVmht+Sr0Pr1q3TmTNn1K1bN4evnzlzRvHx8erYseM1HbeLWz9ndA+SWiRS4HOGrS3L59Sb0uBRo7qru1Bm5B9LcXUXADtxBZ+77L0f/OUxl733p60/ctl7w7yogJRQ+/btr/h6pUqVrjn5AAAAuFYsQofZ8BUxAAAAAMNQAQEAADAxHggIs+GKBQAAAGAYEhAAAAAAhmEKFgAAgImxCB1mQwUEAAAAgGGogAAAAJgYTySH2VABAQAAAGAYKiAAAAAmxhoQmA0VEAAAAACGIQEBAAAAYBimYAEAAJgYU7BgNlRAAAAAYIgZM2aofv368vHxUWRkpNatW3fZ2JSUFA0cOFA33XST3NzcNGbMGIdxS5YsUXh4uLy9vRUeHq4vv/yylHoPZyEBAQAAMLECm8Vl27VYvHixxowZo4kTJyoxMVHt27dX9+7dlZyc7DA+NzdX1apV08SJE9WiRQuHMRs3blT//v01ePBgbd26VYMHD9b999+vX3755ZrHEcax2Gw2m6s7gT91cevn6i6UGS0Sya+dYWvLAld3oczwqFHd1V0oM/KPpbi6C4CduILPXfbePdf902Xv/b/27151bOvWrRUREaGZM2cWtYWFhalPnz6KjY294r633367br75Zk2fPt2uvX///srJydE333xT1NatWzf5+/tr4cKFV903GIvf0AAAAFAiubm5ysnJsdtyc3OLxV24cEEJCQmKjo62a4+OjtaGDRtK/P4bN24sdsyuXbv+rWOi9JGAAAAAmJgrp2DFxsbK19fXbnNUzcjIyJDValVISIhde0hIiFJTU0t87qmpqU4/Jkofd8ECAABAiUyYMEExMTF2bd7e3peNt1js143YbLZibdeqNI6J0kUCAgAAYGIFct0v297e3ldMOC4KCgqSu7t7scpEWlpasQrGtQgNDXX6MVH6mIIFAACAUuXl5aXIyEjFxcXZtcfFxalNmzYlPm5UVFSxY65evfpvHROljwoIAACAiZnlQYQxMTEaPHiwWrVqpaioKH344YdKTk7WiBEjJBVO5zp69Kjmz59ftM+WLVskSadPn1Z6erq2bNkiLy8vhYeHS5JGjx6tDh066NVXX1Xv3r311Vdf6bvvvtP69esNPz9cPRIQAAAAlLr+/fsrMzNTU6ZMUUpKipo2baqVK1eqbt26kgofPHjpM0FatmxZ9OeEhAR99tlnqlu3rpKSkiRJbdq00aJFizRp0iRNnjxZDRs21OLFi9W6dWvDzgvXjueAXGd4Dojz8BwQ5+A5IM7Dc0Cch+eA4HrjyueAdF07xmXv/W3H6S57b5gXFRAAAAATM8sULOAiviIGAAAAYBgqIAAAACZGBQRmQwUEAAAAgGFIQAAAAAAYhilYAAAAJsYULJgNFRAAAAAAhqECAgAAYGI2KiAwGSogAAAAAAxDAgIAAADAMEzBAgAAMLECMQUL5kIFBAAAAIBhqIAAAACYGLfhhdlQAQEAAABgGCogAAAAJsZteGE2VEAAAAAAGIYEBAAAAIBhmIIFAABgYixCh9lQAQEAAABgGCogAAAAJsYidJgNFRAAAAAAhiEBAQAAAGAYpmChzNrassDVXSgTvj221dVdKDO61nB1DwB7bi3DXd0FOAGL0GE2VEAAAAAAGIYKCAAAgInZbK7uAXBtqIAAAAAAMAwVEAAAABMrEGtAYC5UQAAAAAAYhgQEAAAAgGGYggUAAGBiPAkdZkMFBAAAAIBhqIAAAACYGA8ihNlQAQEAAABgGBIQAAAAAIZhChYAAICJ8SR0mA0VEAAAAACGoQICAABgYtyGF2ZDBQQAAACAYaiAAAAAmBgVEJgNFRAAAAAAhiEBAQAAAGAYpmABAACYGE9Ch9lQAQEAAABgGCogAAAAJsaDCGE2VEAAAAAAGIYEBAAAAIBhmIIFAABgYjwHBGZDBQQAAACAYaiAAAAAmBgVEJgNFRAAAAAAhqECAgAAYGLchRdmQwUEAAAAgGFIQAAAAAAYhilYAAAAJsYidJgNFRAAAAAAhqECAgAAYGasQofJUAEBAAAAYBgSEAAAAACGYQoWAACAibEIHWZDBQQAAACAYaiAAAAAmJiNRegwGSogAAAAAAxDBQQAAMDEWAMCs6ECAgAAAMAwJCAAAAAADMMULAAAADNjChZMhgoIAAAAAMNQAQEAADAxbsMLs6ECAvUcGa35+9/XirOf6v3fXlXTdo2vGN+8Q7je/+1VrTj7qebve093D+9SLKZd39b6eMc0rTj3mT7eMU1t+9xaWt2/bjCOzvPZl1Ln/lKLLtK9j0nxWy8fm5YpjZsidR8khd8uTX33ysde8b0U1tGiJyY6tcvXLa5L52AcnefufrfoP8vH6H8bJum9BcPV9OY6V4xvFlFX7y0Yrv9tmKR5X41Wj3tb2b3e/Z5IvfnxUH3xw7/0xQ//0iszHtJNTWqW5ikA+JtIQMq5jve30chpj2jh1CUaGTFeO9bv1tSVE1WtdpDD+NB6wXppxQTtWL9bIyPGa2HsUo16e6ja9W1dFBN2WyNNWjRW3y1YqxE3j9N3C9Zq0uKxanzrDUadluEYR+dZuUZ65T1p+GBp6UdSZHNp+DPSseOO4/MuSAF+0vBBUuOGVz720VTp9ZlSZPPy8XUh16VzMI7O07FLE414qpsWzvlJowbO0o7EQ3rp3UGqFurrMD6khp9eemeQdiQe0qiBs7Ro7jqNfLq72t0RVhTTPLKefvh2u8YPn6exj3ystNRsTX1/sAKrVTHqtABcIxKQcu7esXdr1Zw1+mb2GiXvOaqZY+cp/XCGeo6Mdhh/94guSk/O0Myx85S856i+mb1G385do35P9SqK6Tu6hxLitmnRK8t0+PdjWvTKMiV+v0N9R/cw6rQMxzg6z3/+K/W9S+p3t9SwnvTsP6XQatKirxzH16wuPfuk1KebVLny5Y9rtUrjX5KeeESqXaNUun7d4bp0DsbRefoOaqNvv0rUqmWbdTgpQ7PeXKX04zm6+75bHMbffe8tSkvN1qw3V+lwUoZWLdus1V8l6t7BbYtiXp20RF9//psO7E3V4aQMTX9puSwWi1re2sCo03I9mws3oARIQMoxD08PNYpsoITV9vNbEuK2qUnUTQ73CbutkRLittm1xX+7VY1aNZC7h7skKTyqkRLi7I8Zv3qLwts4PqbZMY7OcyFP2rlXanvJ7yJtb5ESd/y9Y8/4j+TvK91Xtn+/K8J16RyMo/N4eLjrxsbVlbBpn117wqb9Cm9e2+E+Yc1rKWHTfru2+E371Ci8htw9HP8K4+3jKQ8Pd53KOeecjgNwOhKQEjp37pzWr1+vXbt2FXvt/Pnzmj9/vgt6dW18g6rI3cNdJ49n2bWfPJ4l/1A/h/sEhPo5jPfw9JBvUGG52z/UTyePZ18Sk33ZY5od4+g8WdmS1WpRUIB9e6C/lHGi5MfdvF1aslJ68em/1z8z4bp0DsbRear6VZS7h7uyMs/YtWdlnpZ/oOPypX9gZWVlnr4k/ow8PNzl61fR4T5D/9lFmek52vzLAed03ARsNovLNqAkSEBKYO/evQoLC1OHDh3UrFkz3X777UpJSSl6PTs7W4888shfHic3N1c5OTl2W4HNWppdd+jSu2dYLBbZrnBLjUtfs1gsxY9TLMbBG5UxjGPpsen/zr0EzpwtnHo1ZZzk7+fMXpkD16VzMI7O43hsrjCWlzZYLh6neGy/h9qqU9emmjJusfIu5P+tfgIoPSQgJfDMM8+oWbNmSktL0++//66qVauqbdu2Sk5OvqbjxMbGytfX1247qD2l1OvisjNOyZpvVcAl37j5Bfsq65Jv5i46kZqlgFD/YvH5efnKyTwlSTqZWvybQb9g32Lf9pUVjKPz+PlK7u62YtWOEycLqyAlkXxUOppq0ahnpaZ3FG5ffSut+bnwz8lH/36/r0dcl87BODpPTtZZWfOt8g+yr3b4BlTSyUuqIheddFAd8QuopPx8q3Kyz9q13ze4jQYMba8Jj3+ig/suc9eKsoo1IDAZEpAS2LBhg6ZOnaqgoCDdcMMNWr58ubp376727dvrwIGrL/lOmDBB2dnZdlt9XfnWjs6Un5evvQkHFNGluV17ROfm2rnxd4f77N60VxGd7eMjo1tob/wBWfMLqze7Nu5V5KUxXVpo1wbHxzQ7xtF5vDylJo2kDfH27RvipZZNS3bMBnWkr+batPRjFW13tJVatyz8c2jw3+/39Yjr0jkYR+fJz7fqjz0pimhtf7u6iNYNtGvbYYf77N52RBGt7ReTR952g/buOiZrfkFR232D22rgox018YkF+mP3Med3HoBTkYCUwLlz5+ThYf8Mx/fff1+9evVSx44dtXfv3qs6jre3t6pWrWq3uVncS6PLl7Vk2tfqPuxOdX2kk+o0rqkRbw1RcJ0gfT1rtSRp6NSBGj/viaL4r2fFKbhukIa/OUR1GtdU10c6qdvQO/T5m8uLYr58Z4Uio1uo//jeqn1TDfUf31sRnZtp6dsrDD03IzGOzjPkfmnJisJtf5IU+56Ukib1/78bCL31ofTMy/b77P6jcDt7TjqZVfjnfUmFr3l7S40a2G9VKkuVKhb+2cvTwJMzGNelczCOzrN0wQZ16xOh6F4tVbtekIbHdFNwqK9WfPGbJOmRJzrr6RfuKYr/eslvCqnup3+M7ara9YIU3auluvZuqSWf/FwU0++hthoy6g699cIyHU/Jkn9gZfkHVpZPBS/Dzw/A1eFJ6CXQuHFjxcfHKywszK793Xfflc1mU69evS6z5/Vn7X83qGpgZQ2afJ8CqvsracdhTewxVWnJGZKkwFB/Bdf58173qUlpmtQjViPeGqJeo7oq89hJzRg9R+uX/lIUs2vjXr38wHQ9/OIADZkyQCn7U/XygGna8+u+Yu9fVjCOznPXHYWL0WfMl9IzpRvrS7NelWqGFr6enlmYkPz/+j765wKRnb9LX38n1Qi16fvFBnb8OsR16RyMo/OsjdupKn4V9eBjHRUQVEWH9qdp0pOfKi21cOpZQFBlu2eCHD+WpUlPLtDwp7qp5/236kT6Kc18/RutX7O7KObufrfIy8tDk18fYPden3zwgxZ8+KMh5+VqZloMPmPGDL3++utKSUlRkyZNNH36dLVv3/6y8WvXrlVMTIx27typGjVqaPz48RoxYoRdzPTp0zVz5kwlJycrKChI9913n2JjY+Xj41Pap4MSstiutIoODsXGxmrdunVauXKlw9dHjRqlWbNmqaCgwOHrV9LFrd/f7R7gVN8eu8JjyHFNutZo4eouAHbcWoa7ugtlxrcJL7jsvet98orL3jtp8L+uOnbx4sUaPHiwZsyYobZt2+qDDz7Qxx9/rF27dqlOnTrF4g8ePKimTZvqscce0/Dhw/Xzzz9r1KhRWrhwoe69915J0qeffqphw4Zpzpw5atOmjfbu3auHH35Y/fv317Rp05x2nnAuEpDrDAkIrjckIM5DAoLrDQmI87g0AZnvwgTkoatPQFq3bq2IiAjNnDmzqC0sLEx9+vRRbGxssfhnnnlGy5cv1+7df1a8RowYoa1bt2rjxo2SpCeeeEK7d+/W999/XxTz1FNP6ddff9W6detKckowAGtAAAAAUCKOHimQm5tbLO7ChQtKSEhQdHS0XXt0dLQ2bNjg8NgbN24sFt+1a1fFx8crLy9PktSuXTslJCTo119/lSQdOHBAK1euVI8e5eSpsyZFAgIAAIAScfRIAUfVjIyMDFmtVoWEhNi1h4SEKDU11eGxU1NTHcbn5+crI6NwDdaAAQP04osvql27dvL09FTDhg3VqVMn/etfV1+ZgfFYhA4AAGBqrluEPmHCBMXExNi1eXt7XzbecslTZW02W7G2v4r//9t//PFHvfzyy5oxY4Zat26tffv2afTo0apevbomT558TecC45CAAAAAoES8vb2vmHBcFBQUJHd392LVjrS0tGJVjotCQ0Mdxnt4eCgwMFCSNHnyZA0ePFiPPvqoJKlZs2Y6c+aM/vGPf2jixIlyc2Oyz/WIfxUAAAAzM8GT0L28vBQZGam4uDi79ri4OLVp08bhPlFRUcXiV69erVatWsnTs/AhTmfPni2WZLi7u8tms4n7LF2/SEAAAABQ6mJiYvTxxx9rzpw52r17t8aOHavk5OSi53pMmDBBDz30UFH8iBEjdOjQIcXExGj37t2aM2eOZs+erXHjxhXF9OzZUzNnztSiRYt08OBBxcXFafLkyerVq5fc3Y19uDOuHlOwAAAAzMwkX/T3799fmZmZmjJlilJSUtS0aVOtXLlSdevWlSSlpKQoOTm5KL5+/fpauXKlxo4dq/fff181atTQO++8U/QMEEmaNGmSLBaLJk2apKNHj6patWrq2bOnXn75ZcPPD1eP54BcZ3gOCK43PAfEeXgOCK43PAfEeVz6HJB5r7rsvZMefsZl7w3zYgoWAAAAAMMwBQsAAMDMbK67DS9QElRAAAAAABiGCggAAICJsZoXZkMFBAAAAIBhSEAAAAAAGIYpWAAAAGbGFCyYDBUQAAAAAIahAgIAAGBm3IYXJkMFBAAAAIBhSEAAAAAAGIYpWAAAACZmYRE6TIYKCAAAAADDUAEBAAAwMyogMBkqIAAAAAAMQwUEAADAzLgNL0yGCggAAAAAw5CAAAAAADBMmZ+CtXz58quO7dWrVyn2BAAAoBSwCB0mU+YTkD59+lxVnMVikdVqLd3OAAAAAOVcmU9ACgoKXN0FAACA0kMFBCbDGhAAAAAAhinzFZBLnTlzRmvXrlVycrIuXLhg99qTTz7pol4BAAAA5UO5SkASExN111136ezZszpz5owCAgKUkZGhihUrKjg4mAQEAACYD1OwYDLlagrW2LFj1bNnT504cUIVKlTQpk2bdOjQIUVGRuqNN95wdfcAAACAMq9cJSBbtmzRU089JXd3d7m7uys3N1e1a9fWa6+9pmeffdbV3QMAALh2NovrNqAEylUC4unpKYul8MMSEhKi5ORkSZKvr2/RnwEAAACUnnK1BqRly5aKj49Xo0aN1KlTJ/373/9WRkaGPvnkEzVr1szV3QMAALhmFtaAwGTKVQVk6tSpql69uiTpxRdfVGBgoEaOHKm0tDR9+OGHLu4dAAAAUPaVqwpIq1ativ5crVo1rVy50oW9AQAAAMqfcpWAAAAAlDlMwYLJlKsEpH79+kWL0B05cOCAgb0BAAAAyp9ylYCMGTPG7u95eXlKTEzUqlWr9PTTT7umUwAAAEA5Uq4SkNGjRztsf//99xUfH29wbwAAAIDyp1zdBetyunfvriVLlri6GwAAAECZV64qIJfzxRdfKCAgwNXdAAAAuGY8BwRmU64SkJYtW9otQrfZbEpNTVV6erpmzJjhwp4BAAAA5UO5SkB69+5tl4C4ubmpWrVquv3229W4cWMX9gy4fnXv8YCru1BmvJE0x9VdKDPG1bvN1V0Arh+2y9/hE7gelasE5Pnnn3d1FwAAAIByrVwtQnd3d1daWlqx9szMTLm7u7ugRwAAAH+TzYUbUALlKgGx2Rx/UnJzc+Xl5WVwbwAAAIDyp1xMwXrnnXckSRaLRR9//LEqV65c9JrVatVPP/3EGhAAAADAAOUiAZk2bZqkwgrIrFmz7KZbeXl5qV69epo1a5arugcAAFByTIWCyZSLBOTgwYOSpE6dOmnp0qXy9/d3cY8AAACA8qlcJCAX/fDDD67uAgAAgFPxIEKYTblahH7ffffplVdeKdb++uuvq1+/fi7oEQAAAFC+lKsEZO3aterRo0ex9m7duumnn35yQY8AAACA8qVcTcE6ffq0w9vtenp6KicnxwU9AgAA+JuYggWTKVcVkKZNm2rx4sXF2hctWqTw8HAX9AgAAAAoX8pVBWTy5Mm69957tX//ft1xxx2SpO+//16fffaZvvjiCxf3DgAAoASogMBkylUC0qtXLy1btkxTp07VF198oQoVKqhFixZas2aNqlat6uruAQAAAGVeuUpAJKlHjx5FC9GzsrL06aefasyYMdq6dausVquLewcAAHBtuA0vzKZcrQG5aM2aNRo0aJBq1Kih9957T3fddZfi4+Nd3S0AAACgzCs3FZAjR45o3rx5mjNnjs6cOaP7779feXl5WrJkCQvQAQAAAIOUiwrIXXfdpfDwcO3atUvvvvuujh07pnfffdfV3QIAAPj7bBbXbUAJlIsKyOrVq/Xkk09q5MiRuvHGG13dHQAAAKDcKhcVkHXr1unUqVNq1aqVWrdurffee0/p6emu7hYAAMDfZ3PhBpRAuUhAoqKi9NFHHyklJUXDhw/XokWLVLNmTRUUFCguLk6nTp1ydRcBAACAcqFcJCAXVaxYUUOHDtX69eu1fft2PfXUU3rllVcUHBysXr16ubp7AAAAQJlXrhKQ/99NN92k1157TUeOHNHChQtd3R0AAIASsdhctwElUW4TkIvc3d3Vp08fLV++3NVdAQAAAMq8cnEXLAAAgDKLSgRMptxXQAAAAAAYhwoIAACAibEWA2ZDBQQAAACAYUhAAAAAABiGKVgAAABmxhQsmAwVEAAAAACGoQICAABgZlRAYDJUQAAAAAAYhgQEAAAAgGGYggUAAGBiPAcEZkMFBAAAAIBhSEAAAAAAGIYEBAAAAIBhSEAAAAAAGIZF6AAAAGbGInSYDBUQAAAAGGLGjBmqX7++fHx8FBkZqXXr1l0xfu3atYqMjJSPj48aNGigWbNmFYvJysrS448/rurVq8vHx0dhYWFauXJlaZ0CnIAKCAAAgImZ5Ta8ixcv1pgxYzRjxgy1bdtWH3zwgbp3765du3apTp06xeIPHjyou+66S4899pgWLFign3/+WaNGjVK1atV07733SpIuXLigLl26KDg4WF988YVq1aqlw4cPq0qVKkafHq4BCQgAAABK3VtvvaVhw4bp0UcflSRNnz5d3377rWbOnKnY2Nhi8bNmzVKdOnU0ffp0SVJYWJji4+P1xhtvFCUgc+bM0YkTJ7RhwwZ5enpKkurWrWvMCaHEmIIFAABgZjbXbbm5ucrJybHbcnNzi3XxwoULSkhIUHR0tF17dHS0NmzY4PC0Nm7cWCy+a9euio+PV15eniRp+fLlioqK0uOPP66QkBA1bdpUU6dOldVqverhg/FIQAAAAFAisbGx8vX1tdscVTMyMjJktVoVEhJi1x4SEqLU1FSHx05NTXUYn5+fr4yMDEnSgQMH9MUXX8hqtWrlypWaNGmS3nzzTb388stOOkOUBqZgQT1HRqvfuN4KrO6npJ1HNHPsXO1Yv+ey8c07hGv4m0NUr0ktZR47qf++/pW+/iDOLqZd39Z6eMoAVW8YopT9xzV30kL9vOzX0j4Vl2Icnefufreo3+C2CgiqrEMH0jXrjW+0Y0vyZeObRdTV8JhuqtugmjLTT+nz+T9rxZL4ote73xOpzj1aqG7DYEnSvt3HNPf97/X7zqOlfi6u9u1yDy3/3ENZmRbVqmfTwyMvKKxZgcPYk5nS/A+8dOAPN6Uetah7n3w9PCrPLuaXde76cqGHUo+5yWqVQmvY1PO+PHXoUra/beTz7Tx8vsuWCRMmKCYmxq7N29v7svEWi8Xu7zabrVjbX8X//+0FBQUKDg7Whx9+KHd3d0VGRurYsWN6/fXX9e9///uazgXGoQJSznW8v41GTntEC6cu0ciI8dqxfremrpyoarWDHMaH1gvWSysmaMf63RoZMV4LY5dq1NtD1a5v66KYsNsaadKisfpuwVqNuHmcvluwVpMWj1XjW28w6rQMxzg6T8cuTTTiqW5aOOcnjRo4SzsSD+mldwepWqivw/iQGn566Z1B2pF4SKMGztKiues08unuandHWFFM88h6+uHb7Ro/fJ7GPvKx0lKzNfX9wQqsVrYXKW740V3zZnqq7wN5enXmeYU1tWrqs97KSHP8wz4vz6Kqvjb1HZinug0cr2qtXNWmvgPz9dLb5/X6B+fVqWu+ZrzhpS2/ld0fJ3y+nYfPdylx4RQsb29vVa1a1W5zlIAEBQXJ3d29WLUjLS2tWJXjotDQUIfxHh4eCgwMlCRVr15djRo1kru7e1FMWFiYUlNTdeHChb8eO7hE2f2Jgaty79i7tWrOGn0ze42S9xzVzLHzlH44Qz1HRjuMv3tEF6UnZ2jm2HlK3nNU38xeo2/nrlG/p3oVxfQd3UMJcdu06JVlOvz7MS16ZZkSv9+hvqN7GHVahmMcnafvoDb69qtErVq2WYeTMjTrzVVKP56ju++7xWH83ffeorTUbM16c5UOJ2Vo1bLNWv1Vou4d3LYo5tVJS/T157/pwN5UHU7K0PSXlstisajlrQ2MOi2X+HqJh+7olq8777KqVl2bHh6Vp6BqNq3+n+Pid3CoTY88nqeOXayqWMlxAtKkRYFubVd4vNAaNt3VN191G9i0Z6e7w/iygM+38/D5Lr+8vLwUGRmpuDj7SmBcXJzatGnjcJ+oqKhi8atXr1arVq2KFpy3bdtW+/btU0HBn5XdvXv3qnr16vLy8nLyWcBZSEDKMQ9PDzWKbKCE1Vvt2hPitqlJ1E0O9wm7rZES4rbZtcV/u1WNWjWQu0fhLyDhUY2UEGd/zPjVWxTexvExzY5xdB4PD3fd2Li6Ejbts2tP2LRf4c1rO9wnrHktJWzab9cWv2mfGoXXkLuH4//ivH085eHhrlM555zT8etQfp50YK+bWkTaT7dqHmnV7zud81+/zSZt3+ymY0csCm9WNqdg8fl2Hj7fpcdic912LWJiYvTxxx9rzpw52r17t8aOHavk5GSNGDFCUuF0roceeqgofsSIETp06JBiYmK0e/duzZkzR7Nnz9a4ceOKYkaOHKnMzEyNHj1ae/fu1YoVKzR16lQ9/vjjThlblA7WgJRjvkFV5O7hrpPHs+zaTx7Pkn+on8N9AkL9FO8g3sPTQ75BVXQitXDfk8ezL4nJvuwxzY5xdJ6qfhXl7uGurMwzdu1ZmaflH1jZ4T7+gZWVlXn6kvgz8vBwl69fRZ3IOF1sn6H/7KLM9Bxt/uWA8zp/ncnJtqigwCJff/vfEHz9bco6efn51lfj7Blp+IAKys+T3NykYU9eUPNIx+tKzI7Pt/Pw+Ub//v2VmZmpKVOmKCUlRU2bNtXKlSuLbpubkpKi5OQ/1wPVr19fK1eu1NixY/X++++rRo0aeuedd4puwStJtWvX1urVqzV27Fg1b95cNWvW1OjRo/XMM88Yfn64eiQgJbR7925t2rRJUVFRaty4sfbs2aO3335bubm5GjRokO64446/PEZubm6xW9UV2Kxysxg7lcF2yTcYFoulaJGX43j71y4uBLNrLhbj4I3KGMbReRyPzRXG8tIGy8XjFI/t91BbderaVE//Y57yLuT/rX6aQbG1nTYHbdfIp4L0+qzzOn9O2p7orvmzvBRSPVdNWpTNJETi8+1MfL7Lt1GjRmnUqFEOX5s3b16xto4dO2rz5s1XPGZUVJQ2bdrkjO7BIEzBKoFVq1bp5ptv1rhx49SyZUutWrVKHTp00L59+5ScnKyuXbtqzZo1f3kcR7euO6jL31XF2bIzTsmab1XAJd+4+QX7KuuSb+YuOpGapYBQ/2Lx+Xn5ysk8JUk6mVr8m0G/YN9i3/aVFYyj8+RknZU13yr/IPtvQ30DKunkJd+aXnTSwbenfgGVlJ9vVU72Wbv2+wa30YCh7TXh8U90cN9x53b+OlPV1yY3N5uyTthnG9lZFvn6/b1fct3cpNCaNtW7waae/fJ1W3urli30/FvHvF7x+XYePt+lyIWL0IGSIAEpgSlTpujpp59WZmam5s6dq4EDB+qxxx5TXFycvvvuO40fP16vvPLKXx5nwoQJys7Ottvqq7EBZ1AoPy9fexMOKKJLc7v2iM7NtXPj7w732b1pryI628dHRrfQ3vgDsuYXzgHftXGvIi+N6dJCuzY4PqbZMY7Ok59v1R97UhTRuqFde0TrBtq17bDDfXZvO6KI1vaLTSNvu0F7dx2TNf/Pb+TvG9xWAx/tqIlPLNAfu485v/PXGQ9PqUGjAm3bbP/f/LbN7rqpiXMrFTZJeXl/GWZKfL6dh883gItIQEpg586devjhhyVJ999/v06dOmU3H/GBBx7Qtm3bLrP3nxzdus7o6VdLpn2t7sPuVNdHOqlO45oa8dYQBdcJ0tezVkuShk4dqPHzniiK/3pWnILrBmn4m0NUp3FNdX2kk7oNvUOfv7m8KObLd1YoMrqF+o/vrdo31VD/8b0V0bmZlr69wtBzMxLj6DxLF2xQtz4Riu7VUrXrBWl4TDcFh/pqxRe/SZIeeaKznn7hnqL4r5f8ppDqfvrH2K6qXS9I0b1aqmvvllryyc9FMf0eaqsho+7QWy8s0/GULPkHVpZ/YGX5VCjbd0i5+958ff+Nh9ascteRQxbNm+mpjDSLutxdODXls9meeu9V+zFI2mdR0j6Lzp8rXEeStM+iI4f+rKJ8udBD2xLcdDzFoqPJFn39hYd+inNX+zvL7nQXPt/Ow+e7dJhlETpwEWtA/iY3Nzf5+PjIz8+vqK1KlSrKzjZHGX3tfzeoamBlDZp8nwKq+ytpx2FN7DFVacmFTxgNDPVXcJ0/73WfmpSmST1iNeKtIeo1qqsyj53UjNFztH7pL0Uxuzbu1csPTNfDLw7QkCkDlLI/VS8PmKY9v+4r9v5lBePoPGvjdqqKX0U9+FhHBQRV0aH9aZr05KdKSy38TAUEVbZ7ZsDxY1ma9OQCDX+qm3ref6tOpJ/SzNe/0fo1u4ti7u53i7y8PDT59QF27/XJBz9owYc/GnJertDmdqtO5eRpyQJPnTxhUe16Nk14OVfVQgp/aziZaSn2TJDxIysU/fnAH9L6NR6qFlKg9xeclyTlnrfo43e8lJlhkZe3VLN2gf75rwtqc3vZvAuWxOfbmfh8A5Aki+1Kq+jgUIsWLfTqq6+qW7dukqQdO3aocePG8vAozOfWr1+vhx56SAcOXPsdOLq49XNqX4G/y61luKu7UGa89uUcV3ehzBhX7zZXd6FM4PPtPN8mvOCy9w6fOM1l773r5bEue2+YFxWQEhg5cqSs1j+/7WvatKnd6998881V3QULAAAAKG9IQErg4gNzLufll182qCcAAACAuZCAAAAAmBmT6WEy3AULAAAAgGGogAAAAJgYt8OF2VABAQAAAGAYEhAAAAAAhmEKFgAAgJkxBQsmQwUEAAAAgGGogAAAAJgZFRCYDBUQAAAAAIahAgIAAGBi3IYXZkMFBAAAAIBhSEAAAAAAGIYpWAAAAGbGFCyYDBUQAAAAAIahAgIAAGBiLEKH2VABAQAAAGAYEhAAAAAAhmEKFgAAgJkxBQsmQwUEAAAAgGGogAAAAJgZFRCYDBUQAAAAAIahAgIAAGBiFld3ALhGVEAAAAAAGIYEBAAAAIBhmIIFAABgZixCh8lQAQEAAABgGCogAAAAJmahAgKToQICAAAAwDAkIAAAAAAMwxQsAAAAM2MKFkyGCggAAAAAw1ABAQAAMDMqIDAZKiAAAAAADEMFBAAAwMS4DS/MhgoIAAAAAMOQgAAAAAAwDFOwAAAAzIwpWDAZKiAAAAAADEMFBAAAwMRYhA6zoQICAAAAwDAkIAAAAAAMwxQsAAAAM2MKFkyGCggAAAAAw1ABAQAAMDEWocNsqIAAAAAAMAwVkOtMzoNRru5CmVH1042u7kKZUJC4y9VdKDPG1bvN1V0oM45/FebqLpQJ1Z93dQ/gFFRAYDJUQAAAAAAYhgQEAAAAgGGYggUAAGBmTMGCyVABAQAAAGAYKiAAAAAmxm14YTZUQAAAAAAYhgQEAAAAgGGYggUAAGBmTMGCyVABAQAAAGAYKiAAAAAmZrFRAoG5UAEBAAAAYBgSEAAAAACGYQoWAACAmTEDCyZDBQQAAACAYaiAAAAAmBhPQofZUAEBAAAAYBgqIAAAAGZGBQQmQwUEAAAAgGFIQAAAAAAYhilYAAAAJsYidJgNFRAAAAAAhqECAgAAYGZUQGAyVEAAAAAAGIYEBAAAAIBhSEAAAABMzGJz3XatZsyYofr168vHx0eRkZFat27dFePXrl2ryMhI+fj4qEGDBpo1a9ZlYxctWiSLxaI+ffpce8dgKBIQAAAAlLrFixdrzJgxmjhxohITE9W+fXt1795dycnJDuMPHjyou+66S+3bt1diYqKeffZZPfnkk1qyZEmx2EOHDmncuHFq3759aZ8GnIAEBAAAwMxsLtyuwVtvvaVhw4bp0UcfVVhYmKZPn67atWtr5syZDuNnzZqlOnXqaPr06QoLC9Ojjz6qoUOH6o033rCLs1qtevDBB/XCCy+oQYMG19YpuAQJCAAAAEokNzdXOTk5dltubm6xuAsXLighIUHR0dF27dHR0dqwYYPDY2/cuLFYfNeuXRUfH6+8vLyitilTpqhatWoaNmyYE84IRiABAQAAMDFXrgGJjY2Vr6+v3RYbG1usjxkZGbJarQoJCbFrDwkJUWpqqsPzSk1NdRifn5+vjIwMSdLPP/+s2bNn66OPPnLSaMIIPAcEAAAAJTJhwgTFxMTYtXl7e1823mKx2P3dZrMVa/ur+Ivtp06d0qBBg/TRRx8pKCjoWrsOFyIBAQAAQIl4e3tfMeG4KCgoSO7u7sWqHWlpacWqHBeFhoY6jPfw8FBgYKB27typpKQk9ezZs+j1goICSZKHh4d+//13NWzY8FpPCQZgChYAAICZ2Wyu266Sl5eXIiMjFRcXZ9ceFxenNm3aONwnKiqqWPzq1avVqlUreXp6qnHjxtq+fbu2bNlStPXq1UudOnXSli1bVLt27WsfSxiCCggAAABKXUxMjAYPHqxWrVopKipKH374oZKTkzVixAhJhdO5jh49qvnz50uSRowYoffee08xMTF67LHHtHHjRs2ePVsLFy6UJPn4+Khp06Z27+Hn5ydJxdpxfSEBAQAAMLGSPBDQFfr376/MzExNmTJFKSkpatq0qVauXKm6detKklJSUuyeCVK/fn2tXLlSY8eO1fvvv68aNWronXfe0b333uuqU4CTWGy2a6ifodS1HvyWq7tQZlT9dKOruwCglBz/KszVXSgTqj9/+cW/uDbfJrzgsveOGvimy95742dPuey9YV6sAQEAAABgGKZgAQAAmBlzWWAyVEAAAAAAGIYKCAAAgIlZClzdA+DaUAEBAAAAYBgqIAAAAGbGGhCYDBUQAAAAAIYhAQEAAABgGKZgAQAAmJhZnoQOXEQCAt17ZwsN6tFKgb6VdPBopqYt+FFb9h69bHzLxrU0ZmBH1a8ZqIys0/pkRby+XLPNYWyX227SS4/30NqEfRo/fXlpncJ1oefIaPUb11uB1f2UtPOIZo6dqx3r91w2vnmHcA1/c4jqNamlzGMn9d/Xv9LXH8TZxbTr21oPTxmg6g1DlLL/uOZOWqifl/1a2qficoyl8zCWztG/7i16+IZ2CvKurP2n0vXazm+0+cShy8ZHBtbT0+Hd1LBKNaWfP6W5+9fr80PxRa97WNw07IYO6lX7ZgX7VFHS6UxN371aP6fvM+J0XOrufreo3+C2CgiqrEMH0jXrjW+0Y0vyZeObRdTV8JhuqtugmjLTT+nz+T9rxZI/x7L7PZHq3KOF6jYMliTt231Mc9//Xr/vvPzPMQCuxRSscq5z60YaO+h2zf3qFz00eYG2/H5U056+RyGBVRzGV69WVdPG3aMtvx/VQ5MXaN7yX/XU4E7q1OrGYrGhgVX05AMdlLjnSGmfhst1vL+NRk57RAunLtHIiPHasX63pq6cqGq1gxzGh9YL1ksrJmjH+t0aGTFeC2OXatTbQ9Wub+uimLDbGmnSorH6bsFajbh5nL5bsFaTFo9V41tvMOq0XIKxdB7G0jm61miq8U2766M/1ur+n2Zq84lDmtF6kEIr+DqMr1nBTzNuHaTNJw7p/p9m6uN9P+lfTe9S5+rhRTFPNL5T99VtpdgdK9Tnx/f0+aHfNO2WB9S4aqhRp+USHbs00YinumnhnJ80auAs7Ug8pJfeHaRqoY7HMqSGn156Z5B2JB7SqIGztGjuOo18urva3RFWFNM8sp5++Ha7xg+fp7GPfKy01GxNfX+wAqs5/jlWJtlsrtuAEiABcSKbCT+ID3SP1PK1O7R87Q4lHTuhaZ/+qOOZp3TvnS0cxve9o4VSM3I07dMflXTshJav3aH/rd2hB++KtItzs1g0ZeRd+nDpRh1NzzbiVFzq3rF3a9WcNfpm9hol7zmqmWPnKf1whnqOjHYYf/eILkpPztDMsfOUvOeovpm9Rt/OXaN+T/Uqiuk7uocS4rZp0SvLdPj3Y1r0yjIlfr9DfUf3MOq0XIKxdB7G0jkeatBGXyZv1tLkzTp4OkOv7fxGqedydH/dWxzG96t3i1LOZeu1nd/o4OkMLU3erC+TEzWkQduimLtrtdDH+37S+rQ/dPTsSf330G/akL5PDzVs6/CYZUXfQW307VeJWrVssw4nZWjWm6uUfjxHd9/neCzvvvcWpaVma9abq3Q4KUOrlm3W6q8Sde/gP8fp1UlL9PXnv+nA3lQdTsrQ9JeWy2KxqOWtDYw6LQDXiATEiby9vbV7925Xd+Oqebi7qXG9EP2y3X4awa87DqnZjTUc7tPshur6dYd9/KbthxRWP0Tu7n9eTsPuuU0nT53T/9bucH7HrzMenh5qFNlACau32rUnxG1Tk6ibHO4TdlsjJcTZT1uL/3arGrVqIHcPd0lSeFQjJcTZHzN+9RaFt3F8zLKAsXQextI5PCzuCvOtrg3p++3aN6bv080BdRzu08K/tjZeMpVqQ/o+hfvVkIel8P9JLzcPXbDm28XkWvPU8jLHLAs8PNx1Y+PqSthkPzYJm/YrvHlth/uENa+lhE32Yx+/aZ8ahdeQu4fjX2G8fTzl4eGuUznnnNNxAE7HGpASiImJcdhutVr1yiuvKDAwUJL01ltvGdmta+ZXpYI83N10IueMXXtm9lnd5lvR4T6BvpWUmX3Wru1Ezhl5eLjLr3IFZWafUfMba6hXx6YaNPGTUuv79cQ3qIrcPdx18niWXfvJ41nyD/VzuE9AqJ/iHcR7eHrIN6iKTqQW7nvyePYlMdmXPWZZwFg6D2PpHP5eFeXh5q7M3NN27Zm5ZxTkXdnhPoHelZWZe8n/q7mn5enmLj+visrIPa0Nafs0uGEbJZxI0uEzJ9U6qIFuD20s9zL8vWBVv4py93BXVqb92GRlnpZ/oOOx9A+srKzM05fEF/7M8fWrqBMZp4vtM/SfXZSZnqPNvxxwXuevcyxCh9mQgJTA9OnT1aJFC/n5+dm122w27d69W5UqVZLFYvnL4+Tm5io3N9eurcCaLzd3Y/9ZLp05ZrH81bRO+xctsvxfq00VfTz1wsjumjo7Ttmnzzu3o9e54uNoueK0vEtfu3jN2DUXi3HwRmUQY+k8jKVzXHp2Fkvh/3mXj7/c/5OFXt25Us+16K2vOj0pm82mI2dP6qvkRPWu09KJvb4+Ob7GrjSWl7BcPE7x2H4PtVWnrk319D/mKe9CfvEAANcFEpASePnll/XRRx/pzTff1B133FHU7unpqXnz5ik8PPwKe/8pNjZWL7zwgl1bjWbRqtWiq1P7ezlZp84p31qgQN9Kdu0BVSvqRM5Zh/tkZp8pFu9ftaLy863KPn1eDWoGqkY1X70R06fodbf/+wXm53ljdP/4uTqaVrbWhGRnnJI136qAS74B9gv2VdZxx+d6IjVLAaH+xeLz8/KVk3lKknQytfg31X7BvsW+fS5LGEvnYSyd4+SFs8ovsBardgR4VSpW5bgoM/d08XjvSsorsCr7wtmi4475baG83Dzk51VBaedPaUxYFx09m1Uq53E9yMk6K2u+Vf5B9mPjG1BJJzMdj+VJB9URv4BKys+3KueSavx9g9towND2+tfI+Tq477hzO3+9K9v5P8qgslvrLUUTJkzQ4sWLNXLkSI0bN055eXklPk52drbdVqPpnU7u7eXlWwu0J+m4bm1qP+f41qZ1tf2PYw732b4vRbc2rWvX1rpZXe0+eFxWa4EOpZzQAxP+o8GTPina1iXuV8Luwxo86RMd/79fYsqS/Lx87U04oIguze3aIzo3186NvzvcZ/emvYrobB8fGd1Ce+MPyJpvlSTt2rhXkZfGdGmhXRscH7MsYCydh7F0jnybVbuzUxRVraFd+23VGmrLCce3jt168rBuuyS+TbWG2pV1TPm2Arv2CwX5Sjt/Sh4WN3WuHq4fUy9/i2Szy8+36o89KYpobT82Ea0baNe2ww732b3tiCJa2y8mj7ztBu3ddUzW/D/H8r7BbTXw0Y6a+MQC/bHb8c8vANcPEpASuuWWW5SQkKD09HS1atVK27dvv6ppV/8/b29vVa1a1W4zevrVwm8S1Pv2ZurZoYnq1QjQmAc7KiSwipZ+X7jIdNT97fTc8G5F8UvXbFVoUFWNHthR9WoEqGeHJurVsak+XZkgSbqQZ9WBI5l226mzuTp7/oIOHMlUvrXAYT/Mbsm0r9V92J3q+kgn1WlcUyPeGqLgOkH6etZqSdLQqQM1ft4TRfFfz4pTcN0gDX9ziOo0rqmuj3RSt6F36PM3/3xWypfvrFBkdAv1H99btW+qof7jeyuiczMtfXuF4ednJMbSeRhL55h/YIP61olQn9otVb9ykJ5u0k3VK/jq80O/SZKebNxZL9/ctyj+86TfVKOCn8aFd1P9ykHqU7ul7qkTof8c+LkopplfLd0ZGqaaFf0VEVBXM1s/JDdZNHffesPPz0hLF2xQtz4Riu7VUrXrBWl4TDcFh/pqxReFY/nIE5319Av3FMV/veQ3hVT30z/GdlXtekGK7tVSXXu31JJP/hzLfg+11ZBRd+itF5bpeEqW/AMryz+wsnwqeBl+fq5isbluA0qCKVh/Q+XKlfWf//xHixYtUpcuXWS1Wl3dpWv23S975Vu5gob2uU1BfpV04Eimxr7xpVL/r1IR6FfJ7pkgKek5GvvGlxrzYEfd17mFMrLO6M1PftAP8X+46hSuC2v/u0FVAytr0OT7FFDdX0k7Dmtij6lKS86QJAWG+iu4zp/PXkhNStOkHrEa8dYQ9RrVVZnHTmrG6Dlav/SXophdG/fq5Qem6+EXB2jIlAFK2Z+qlwdM055fy/aDyhhL52EsnePbYzvk51lBwxvdrmreVbTvVJoe/2WBUs4VTjur5lPF7pkgR89ladSvCzS+STcNqHer0nNP6ZUdK/Vdyq6iGC93Dz3R+E7Vquivs9YLWn/8Dz2buESn8sv22rm1cTtVxa+iHnysowKCqujQ/jRNevJTpaUWjmVAUGW7Z4IcP5alSU8u0PCnuqnn/bfqRPopzXz9G61f8+cdJ+/ud4u8vDw0+fUBdu/1yQc/aMGHPxpyXgCujcVmxodXXIeOHDmihIQEde7cWZUqVfrrHS6j9eDr+85ZZlL1042u7gKAUnL8q7C/DsJfqv78tVXucXnfJrzw10GlpP09b7jsvdd9Oc5l7w3zogLiJLVq1VKtWrVc3Q0AAFDe8F0yTIY1IAAAAAAMQwUEAADAxFgMDrOhAgIAAADAMCQgAAAAAAzDFCwAAAAzYwoWTIYKCAAAAADDUAEBAAAwMRahw2yogAAAAAAwDBUQAAAAMyugBAJzoQICAAAAwDAkIAAAAAAMwxQsAAAAM2MGFkyGCggAAAAAw1ABAQAAMDFuwwuzoQICAAAAwDAkIAAAAAAMwxQsAAAAM7MxBwvmQgUEAAAAgGGogAAAAJgYi9BhNlRAAAAAABiGCggAAICZUQGByVABAQAAAGAYEhAAAAAAhmEKFgAAgIlZuA0vTIYKCAAAAADDUAEBAAAwswJXdwC4NlRAAAAAABiGBAQAAACAYZiCBQAAYGIsQofZUAEBAAAAYBgqIAAAAGZGAQQmQwUEAAAAgGFIQAAAAAAYhilYAAAAZsYidJgMFRAAAAAAhqECAgAAYGIWCiAwGSogAAAAAAxDBQQAAMDMWAMCk6ECAgAAAMAwJCAAAAAADMMULAAAABOzFLi6B8C1oQICAAAAwDBUQAAAAMyMRegwGSogAAAAAAxDAgIAAADAMEzBus747cp2dRfKDNbkOUfOg1Gu7kKZwefbeUJ673J1F8qE15I2uboLZcgLrntrZmDBZKiAAAAAADAMFRAAAAATs7AIHSZDBQQAAACAYaiAAAAAmBkVEJgMFRAAAAAAhiEBAQAAAGAYpmABAACYGfedh8lQAQEAAABgGCogAAAAJsZteGE2VEAAAAAAGIYEBAAAAIaYMWOG6tevLx8fH0VGRmrdunVXjF+7dq0iIyPl4+OjBg0aaNasWXavf/TRR2rfvr38/f3l7++vzp0769dffy3NU4ATkIAAAACYmc3muu0aLF68WGPGjNHEiROVmJio9u3bq3v37kpOTnYYf/DgQd11111q3769EhMT9eyzz+rJJ5/UkiVLimJ+/PFHPfDAA/rhhx+0ceNG1alTR9HR0Tp69OjfGlKULovNxsTB60nXyOdc3YUyoyBxl6u7UCbkPBjl6i6UGX67sl3dhTKDz7dzvJG0ydVdKDNa1Dnssvfu2up5l733t/FX/96tW7dWRESEZs6cWdQWFhamPn36KDY2tlj8M888o+XLl2v37t1FbSNGjNDWrVu1ceNGh+9htVrl7++v9957Tw899NDVnwgMRQUEAADAzFxYAcnNzVVOTo7dlpubW6yLFy5cUEJCgqKjo+3ao6OjtWHDBoentXHjxmLxXbt2VXx8vPLy8hzuc/bsWeXl5SkgIKCEgwkjkIAAAACgRGJjY+Xr62u3OapmZGRkyGq1KiQkxK49JCREqampDo+dmprqMD4/P18ZGRkO9/nXv/6lmjVrqnPnziU8IxiB2/ACAACYmQsfRDhhwgTFxMTYtXl7e1823mKx2P3dZrMVa/ureEftkvTaa69p4cKF+vHHH+Xj4/OXfYfrkIAAAACgRLy9va+YcFwUFBQkd3f3YtWOtLS0YlWOi0JDQx3Ge3h4KDAw0K79jTfe0NSpU/Xdd9+pefPm13gWMBpTsAAAAFCqvLy8FBkZqbi4OLv2uLg4tWnTxuE+UVFRxeJXr16tVq1aydPTs6jt9ddf14svvqhVq1apVatWzu88nI4KCAAAgImZ5UnoMTExGjx4sFq1aqWoqCh9+OGHSk5O1ogRIyQVTuc6evSo5s+fL6nwjlfvvfeeYmJi9Nhjj2njxo2aPXu2Fi5cWHTM1157TZMnT9Znn32mevXqFVVMKleurMqVKxt/krgqJCAAAAAodf3791dmZqamTJmilJQUNW3aVCtXrlTdunUlSSkpKXbPBKlfv75WrlypsWPH6v3331eNGjX0zjvv6N577y2KmTFjhi5cuKD77rvP7r2ee+45Pf/884acF64dCQgAAICZmaQCIkmjRo3SqFGjHL42b968Ym0dO3bU5s2bL3u8pKQkJ/UMRmINCAAAAADDkIAAAAAAMAxTsAAAAMzMRFOwAIkKCAAAAAADUQEBAAAwMyogMBkqIAAAAAAMQwUEAADAzApc3QHg2lABAQAAAGAYEhAAAAAAhmEKFgAAgIlZWIQOk6ECAgAAAMAwVEAAAADMjAoITIYKCAAAAADDkIAAAAAAMAxTsAAAAMysgClYMBcqIAAAAAAMQwUEAADAzFiEDpOhAgIAAADAMFRAAAAAzIwKCEyGCggAAAAAw5CAAAAAADAMU7AAAADMjClYMBkqIAAAAAAMQwUEAADAzHgQIUyGBAS6u98t6je4rQKCKuvQgXTNeuMb7diSfNn4ZhF1NTymm+o2qKbM9FP6fP7PWrEkvuj17vdEqnOPFqrbMFiStG/3Mc19/3v9vvNoqZ+LK/UcGa1+43orsLqfknYe0cyxc7Vj/Z7LxjfvEK7hbw5RvSa1lHnspP77+lf6+oM4u5h2fVvr4SkDVL1hiFL2H9fcSQv187JfS/tUXO7eO1toUI9WCvStpINHMzVtwY/asvfy10/LxrU0ZmBH1a8ZqIys0/pkRby+XLPNYWyX227SS4/30NqEfRo/fXlpncJ1g8+3c/D5dp5vl3to+eceysq0qFY9mx4eeUFhzQocxp7MlOZ/4KUDf7gp9ahF3fvk6+FReXYxv6xz15cLPZR6zE1WqxRaw6ae9+WpQxerEacDoASYglXOdezSRCOe6qaFc37SqIGztCPxkF56d5Cqhfo6jA+p4aeX3hmkHYmHNGrgLC2au04jn+6udneEFcU0j6ynH77drvHD52nsIx8rLTVbU98frMBqVYw6LcN1vL+NRk57RAunLtHIiPHasX63pq6cqGq1gxzGh9YL1ksrJmjH+t0aGTFeC2OXatTbQ9Wub+uimLDbGmnSorH6bsFajbh5nL5bsFaTFo9V41tvMOq0XKJz60YaO+h2zf3qFz00eYG2/H5U056+RyGBjq+f6tWqatq4e7Tl96N6aPICzVv+q54a3EmdWt1YLDY0sIqefKCDEvccKe3TuC7w+XYOPt/Os+FHd82b6am+D+Tp1ZnnFdbUqqnPeisjzeIwPi/Poqq+NvUdmKe6DRx/y1+5qk19B+brpbfP6/UPzqtT13zNeMNLW37jVxzgesWns5zrO6iNvv0qUauWbdbhpAzNenOV0o/n6O77bnEYf/e9tygtNVuz3lylw0kZWrVss1Z/lah7B7ctinl10hJ9/flvOrA3VYeTMjT9peWyWCxqeWsDo07LcPeOvVur5qzRN7PXKHnPUc0cO0/phzPUc2S0w/i7R3RRenKGZo6dp+Q9R/XN7DX6du4a9XuqV1FM39E9lBC3TYteWabDvx/ToleWKfH7Heo7uodRp+USD3SP1PK1O7R87Q4lHTuhaZ/+qOOZp3TvnS0cxve9o4VSM3I07dMflXTshJav3aH/rd2hB++KtItzs1g0ZeRd+nDpRh1NzzbiVFyOz7dz8Pl2nq+XeOiObvm68y6ratW16eFReQqqZtPq/zmekBEcatMjj+epYxerKlZynIA0aVGgW9sVHi+0hk139c1X3QY27dnpXpqncn2xFbhuA0qABKQc8/Bw142Nqyth0z679oRN+xXevLbDfcKa11LCpv12bfGb9qlReA25ezi+nLx9POXh4a5TOeec0/HrjIenhxpFNlDC6q127Qlx29Qk6iaH+4Td1kgJcfZThOK/3apGrRrI3aPwh2Z4VCMlxNkfM371FoW3cXzMssDD3U2N64Xol+2H7Np/3XFIzW6s4XCfZjdU16877OM3bT+ksPohcnf/85ocds9tOnnqnP63dofzO34d4vPtHHy+nSc/Tzqw100tIu1/aW0eadXvO53z64jNJm3f7KZjRywKb8YULOB6xRoQJzh58qT+85//6I8//lD16tU1ZMgQ1a7t+Af89aSqX0W5e7grK/OMXXtW5mn5B1Z2uI9/YGVlZZ6+JP6MPDzc5etXUScyThfbZ+g/uygzPUebfzngvM5fR3yDqsjdw10nj2fZtZ88niX/UD+H+wSE+ineQbyHp4d8g6roRGrhviePZ18Sk33ZY5YFflUqyMPdTSdy7K/JzOyzus23osN9An0rKTP7rF3biZzCa9KvcgVlZp9R8xtrqFfHpho08ZNS6/v1hs+3c/D5dp6cbIsKCizy9bevZPj625R10vEUrKt19ow0fEAF5edJbm7SsCcvqHlkOfp2ntvwwmRIQEqgRo0a2r59uwIDA3Xw4EG1adNGktSsWTMtX75cb7zxhjZt2qTGjRtf8Ti5ubnKzc21aysoyJebm7H/LLZL/uOyWCySLv+fWbFXLBePUzy230Nt1alrUz39j3nKu5D/t/p5vbv0/C0WS7GxtY93NO6XHKdYjIM3KoOKj+VfnfYl4/R/F6VNNlX08dQLI7tr6uw4ZZ8+79yOmgCfb+fg8+08lktzDZuDtmvkU0F6fdZ5nT8nbU901/xZXgqpnqsmLcpREgKYCAlICaSmpspqLSztPvvss2rcuLFWrFihihUrKjc3V/fdd58mT56szz///IrHiY2N1QsvvGDX1iC0g26ocXtpdd1OTtZZWfOt8g+y/zbUN6CSTl7yrelFJx18e+oXUEn5+VblXPIt9H2D22jA0Pb618j5OrjvuHM7fx3Jzjgla75VAZd8c+kX7Kus447XGpxIzVJAqH+x+Py8fOVknpIknUwt/g2rX7BvsW9Ny5KsU+eUby1QoG8lu/aAqhV1Iuesw30ys88Ui/evWlH5+VZlnz6vBjUDVaOar96I6VP0utv//bbz87wxun/8XB1NK3tjyufbOfh8O09VX5vc3GzKOmGfbWRnWeTr9/cSLzc3KbRm4THq3ZCvo8luWrbQU01a5P7FnmUEt+GFybAG5G/65ZdfNHnyZFWsWDg9xNvbW5MmTdKmTZv+ct8JEyYoOzvbbmsQ2q60u1wkP9+qP/akKKJ1Q7v2iNYNtGvbYYf77N52RBGt7RebRt52g/buOiZr/p/fNN03uK0GPtpRE59YoD92H3N+568j+Xn52ptwQBFdmtu1R3Rurp0bf3e4z+5NexXR2T4+MrqF9sYfkDW/MLndtXGvIi+N6dJCuzY4PmZZkG8t0J6k47q1aR279lub1tX2PxxfR9v3pejWpnXt2lo3q6vdB4/Lai3QoZQTemDCfzR40idF27rE/UrYfViDJ32i4//3C2FZw+fbOfh8O4+Hp9SgUYG2bbb/1WPbZnfd1MS5lQqbpLy8vwwD4CIkICV0sZyem5urkJAQu9dCQkKUnp7+l8fw9vZW1apV7Tajp18tXbBB3fpEKLpXS9WuF6ThMd0UHOqrFV/8Jkl65InOevqFe4riv17ym0Kq++kfY7uqdr0gRfdqqa69W2rJJz8XxfR7qK2GjLpDb72wTMdTsuQfWFn+gZXlU8HL0HMz0pJpX6v7sDvV9ZFOqtO4pka8NUTBdYL09azVkqShUwdq/LwniuK/nhWn4LpBGv7mENVpXFNdH+mkbkPv0Odv/vlcii/fWaHI6BbqP763at9UQ/3H91ZE52Za+vYKw8/PSAu/SVDv25upZ4cmqlcjQGMe7KiQwCpa+n3hgt1R97fTc8O7FcUvXbNVoUFVNXpgR9WrEaCeHZqoV8em+nRlgiTpQp5VB45k2m2nzubq7PkLOnAkU/nWsjtFg8+3c/D5dp67783X9994aM0qdx05ZNG8mZ7KSLOoy92FU/g+m+2p9161v5aS9lmUtM+i8+cK15Ek7bPoyKE/qyhfLvTQtgQ3HU+x6GiyRV9/4aGf4tzV/s6yPS0QMDOmYJXQnXfeKQ8PD+Xk5Gjv3r1q0qRJ0WvJyckKCnJ8f/jrzdq4nariV1EPPtZRAUFVdGh/miY9+anSUgunAQQEVbZ7ZsDxY1ma9OQCDX+qm3ref6tOpJ/SzNe/0fo1u4ti7u53i7y8PDT59QF27/XJBz9owYc/GnJeRlv73w2qGlhZgybfp4Dq/kracVgTe0xVWnKGJCkw1F/Bdf68JlKT0jSpR6xGvDVEvUZ1Veaxk5oxeo7WL/2lKGbXxr16+YHpevjFARoyZYBS9qfq5QHTtOfXfcXevyz57pe98q1cQUP73KYgv0o6cCRTY9/4Uqn/V6kI9Ktk90yQlPQcjX3jS415sKPu69xCGVln9OYnP+iH+D9cdQrXDT7fzsHn23na3G7VqZw8LVngqZMnLKpdz6YJL+eqWkjhFKKTmZZizwQZP7JC0Z8P/CGtX+OhaiEFen9B4Zqu3PMWffyOlzIzLPLylmrWLtA//3VBbW4vR3fBKgdrh1C2WGxXWkUHhy5dt3Hbbbepa9euRX9/+umndeTIES1cuPCaj9018rm/3T8UKkjc5eoulAk5D0a5ugtlht+usju/32h8vp3jjaS/ni6Mq9OijuOpjUboXnu0y977m8Nvu+y9YV5UQErgueeunCS8/vrrBvUEAACUe3yXDJNhDQgAAAAAw5CAAAAAADAMU7AAAADMjClYMBkqIAAAAAAMQwUEAADAzArK7vOMUDZRAQEAAABgGBIQAAAAAIZhChYAAICZsQgdJkMFBAAAAIBhqIAAAACYGRUQmAwVEAAAAACGoQICAABgZgVUQGAuVEAAAAAAGIYEBAAAAIBhmIIFAABgYjYbT0KHuVABAQAAAGAYKiAAAABmxiJ0mAwVEAAAAACGIQEBAAAAYBimYAEAAJgZT0KHyVABAQAAAGAYKiAAAABmVsBteGEuVEAAAAAAGIYKCAAAgJmxBgQmQwUEAAAAgGFIQAAAAAAYhilYAAAAJmZjETpMhgoIAAAAAMNQAQEAADAzFqHDZKiAAAAAADAMCQgAAAAAwzAFCwAAwMwKmIIFc6ECAgAAAMAwVEAAAADMzMZteGEuVEAAAAAAGIYKCAAAgInZWAMCk6ECAgAAAMAwJCAAAAAADMMULAAAADNjETpMhgoIAAAAAMNQAQEAADAxFqHDbKiAAAAAwBAzZsxQ/fr15ePjo8jISK1bt+6K8WvXrlVkZKR8fHzUoEEDzZo1q1jMkiVLFB4eLm9vb4WHh+vLL78sre7DSUhAAAAAUOoWL16sMWPGaOLEiUpMTFT79u3VvXt3JScnO4w/ePCg7rrrLrVv316JiYl69tln9eSTT2rJkiVFMRs3blT//v01ePBgbd26VYMHD9b999+vX375xajTQglYbDYbdbvrSNfI51zdhTKjIHGXq7tQJuQ8GOXqLpQZfruyXd2FMoPPt3O8kbTJ1V0oM1rUOeyy9+7i1s9l7x1X8PlVx7Zu3VoRERGaOXNmUVtYWJj69Omj2NjYYvHPPPOMli9frt27dxe1jRgxQlu3btXGjRslSf3791dOTo6++eabophu3brJ399fCxcuLMkpwQBUQAAAAFAiubm5ysnJsdtyc3OLxV24cEEJCQmKjo62a4+OjtaGDRscHnvjxo3F4rt27ar4+Hjl5eVdMeZyx8T1gUXo15lvE15wdReuKDc3V7GxsZowYYK8vb1d3R1TYyydh7F0DsbReRhL52Es/9q1VCGc7fnnn9cLL9j/7vLcc8/p+eeft2vLyMiQ1WpVSEiIXXtISIhSU1MdHjs1NdVhfH5+vjIyMlS9evXLxlzumLg+UAHBNcnNzdULL7zg8NsNXBvG0nkYS+dgHJ2HsXQexvL6NmHCBGVnZ9ttEyZMuGy8xWKx+7vNZivW9lfxl7Zf6zHhelRAAAAAUCLe3t5XVZkKCgqSu7t7scpEWlpasQrGRaGhoQ7jPTw8FBgYeMWYyx0T1wcqIAAAAChVXl5eioyMVFxcnF17XFyc2rRp43CfqKioYvGrV69Wq1at5OnpecWYyx0T1wcqIAAAACh1MTExGjx4sFq1aqWoqCh9+OGHSk5O1ogRIyQVTuc6evSo5s+fL6nwjlfvvfeeYmJi9Nhjj2njxo2aPXu23d2tRo8erQ4dOujVV19V79699dVXX+m7777T+vXrXXKOuDokILgm3t7eeu6551gI6ASMpfMwls7BODoPY+k8jGXZ0b9/f2VmZmrKlClKSUlR06ZNtXLlStWtW1eSlJKSYvdMkPr162vlypUaO3as3n//fdWoUUPvvPOO7r333qKYNm3aaNGiRZo0aZImT56shg0bavHixWrdurXh54erx3NAAAAAABiGNSAAAAAADEMCAgAAAMAwJCAAAAAADEMCAgAAAMAwJCC4JjNmzFD9+vXl4+OjyMhIrVu3ztVdMp2ffvpJPXv2VI0aNWSxWLRs2TJXd8mUYmNjdcstt6hKlSoKDg5Wnz599Pvvv7u6W6Y0c+ZMNW/eXFWrVlXVqlUVFRWlb775xtXdMr3Y2FhZLBaNGTPG1V0xneeff14Wi8VuCw0NdXW3ADgJCQiu2uLFizVmzBhNnDhRiYmJat++vbp37253yzz8tTNnzqhFixZ67733XN0VU1u7dq0ef/xxbdq0SXFxccrPz1d0dLTOnDnj6q6ZTq1atfTKK68oPj5e8fHxuuOOO9S7d2/t3LnT1V0zrd9++00ffvihmjdv7uqumFaTJk2UkpJStG3fvt3VXQLgJNyGF1etdevWioiI0MyZM4vawsLC1KdPH8XGxrqwZ+ZlsVj05Zdfqk+fPq7uiumlp6crODhYa9euVYcOHVzdHdMLCAjQ66+/rmHDhrm6K6Zz+vRpRUREaMaMGXrppZd08803a/r06a7ulqk8//zzWrZsmbZs2eLqrgAoBVRAcFUuXLighIQERUdH27VHR0drw4YNLuoV8Kfs7GxJhb84o+SsVqsWLVqkM2fOKCoqytXdMaXHH39cPXr0UOfOnV3dFVP7448/VKNGDdWvX18DBgzQgQMHXN0lAE7Ck9BxVTIyMmS1WhUSEmLXHhISotTUVBf1Cihks9kUExOjdu3aqWnTpq7ujilt375dUVFROn/+vCpXrqwvv/xS4eHhru6W6SxatEibN2/Wb7/95uqumFrr1q01f/58NWrUSMePH9dLL72kNm3aaOfOnQoMDHR19wD8TSQguCYWi8Xu7zabrVgbYLQnnnhC27Zt0/r1613dFdO66aabtGXLFmVlZWnJkiUaMmSI1q5dSxJyDQ4fPqzRo0dr9erV8vHxcXV3TK179+5Ff27WrJmioqLUsGFD/ec//1FMTIwLewbAGUhAcFWCgoLk7u5erNqRlpZWrCoCGOmf//ynli9frp9++km1atVydXdMy8vLSzfccIMkqVWrVvrtt9/09ttv64MPPnBxz8wjISFBaWlpioyMLGqzWq366aef9N577yk3N1fu7u4u7KF5VapUSc2aNdMff/zh6q4AcALWgOCqeHl5KTIyUnFxcXbtcXFxatOmjYt6hfLMZrPpiSee0NKlS7VmzRrVr1/f1V0qU2w2m3Jzc13dDVO58847tX37dm3ZsqVoa9WqlR588EFt2bKF5ONvyM3N1e7du1W9enVXdwWAE1ABwVWLiYnR4MGD1apVK0VFRenDDz9UcnKyRowY4equmcrp06e1b9++or8fPHhQW7ZsUUBAgOrUqePCnpnL448/rs8++0xfffWVqlSpUlSd8/X1VYUKFVzcO3N59tln1b17d9WuXVunTp3SokWL9OOPP2rVqlWu7pqpVKlSpdgapEqVKikwMJC1Sddo3Lhx6tmzp+rUqaO0tDS99NJLysnJ0ZAhQ1zdNQBOQAKCq9a/f39lZmZqypQpSklJUdOmTbVy5UrVrVvX1V0zlfj4eHXq1Kno7xfnMw8ZMkTz5s1zUa/M5+LtoG+//Xa79rlz5+rhhx82vkMmdvz4cQ0ePFgpKSny9fVV8+bNtWrVKnXp0sXVXUM5deTIET3wwAPKyMhQtWrVdNttt2nTpk38vAHKCJ4DAgAAAMAwrAEBAAAAYBgSEAAAAACGIQEBAAAAYBgSEAAAAACGIQEBAAAAYBgSEAAAAACGIQEBAAAAYBgSEAAoBc8//7xuvvnmor8//PDD6tOnj+H9SEpKksVi0ZYtWwx/bwAAHCEBAVCuPPzww7JYLLJYLPL09FSDBg00btw4nTlzplTf9+23377qJ92TNAAAyjIPV3cAAIzWrVs3zZ07V3l5eVq3bp0effRRnTlzRjNnzrSLy8vLk6enp1Pe09fX1ynHAQDA7KiAACh3vL29FRoaqtq1a2vgwIF68MEHtWzZsqJpU3PmzFGDBg3k7e0tm82m7Oxs/eMf/1BwcLCqVq2qO+64Q1u3brU75iuvvKKQkBBVqVJFw4YN0/nz5+1ev3QKVkFBgV599VXdcMMN8vb2Vp06dfTyyy9LkurXry9JatmypSwWi26//fai/ebOnauwsDD5+PiocePGmjFjht37/Prrr2rZsqV8fHzUqlUrJSYmOnHkAAD4+6iAACj3KlSooLy8PEnSvn379N///ldLliyRu7u7JKlHjx4KCAjQypUr5evrqw8++EB33nmn9u7dq4CAAP33v//Vc889p/fff1/t27fXJ598onfeeUcNGjS47HtOmDBBH330kaZNm6Z27dopJSVFe/bskVSYRNx666367rvv1KRJE3l5eUmSPvroIz333HN677331LJlSyUmJuqxxx5TpUqVNGTIEJ05c0Z333237rjjDi1YsEAHDx7U6NGjS3n0AAC4NiQgAMq1X3/9VZ999pnuvPNOSdKFCxf0ySefqFq1apKkNWvWaPv27UpLS5O3t7ck6Y033tCyZcv0xRdf6B//+IemT5+uoUOH6tFHH5UkvfTSS/ruu++KVUEuOnXqlN5++2299957GjJkiCSpYcOGateunSQVvXdgYKBCQ0OL9nvxxRf15ptvqm/fvpIKKyW7du3SBx98oCFDhujTTz+V1WrVnDlzVLFiRTVp0kRHjhzRyJEjnT1sAACUGFOwAJQ7X3/9tSpXriwfHx9FRUWpQ4cOevfddyVJdevWLUoAJCkhIUGnT59WYGCgKleuXLQdPHhQ+/fvlyTt3r1bUVFRdu9x6d//f7t371Zubm5R0nM10tPTdfjwYQ0bNsyuHy+99JJdP1q0aKGKFSteVT8AAHAFKiAAyp1OnTpp5syZ8vT0VI0aNewWmleqVMkutqCgQNWrV9ePP/5Y7Dh+fn4lev8KFSpc8z4FBQWSCqdhtW7d2u61i1PFbDZbifoDAICRSEAAlDuVKlXSDTfccFWxERERSk1NlYeHh+rVq+cwJiwsTJs2bdJDDz1U1LZp06bLHvPGG29UhQoV9P333xdN2/r/XVzzYbVai9pCQkJUs2ZNHThwQA8++KDD44aHh+uTTz7RuXPnipKcK/UDAABXYAoWAFxB586dFRUVpT59+ujbb79VUlKSNmzYoEmTJik+Pl6SNHr0aM2ZM0dz5szR3r179dxzz2nnzp2XPaaPj4+eeeYZjR8/XvPnz9f+/fu1adMmzZ49W5IUHBysChUqaNWqVTp+/Liys7MlFT7cMDY2Vm+//bb27t2r7du3a+7cuXrrrbckSQMHDpSbm5uGDRumXbt2aeXKlXrjjTdKeYQAALg2JCAAcAUWi0UrV65Uhw4dNHToUDVq1EgDBgxQUlKSQkJCJEn9+/fXv//9bz3zzDOKjIzUoUOH/nLh9+TJk/XUU0/p3//+t8LCwtS/f3+lpaVJkjw8PPTOO+/ogw8+UI0aNdS7d29J0qOPPqqPP/5Y8+bNU7NmzdSxY0fNmzev6La9lStX1v/+9z/t2rVLLVu21MSJE/Xqq6+W4ugAAHDtLDYmDQMAAAAwCBUQAAAAAIYhAQEAAABgGBIQAAAAAIYhAQEAAABgGBIQAAAAAIYhAQEAAABgGBIQAAAAAIYhAQEAAABgGBIQAAAAAIYhAQEAAABgGBIQAAAAAIYhAQEAAABgGBIQAAAAAIYhAQEAAABgGBIQAAAAAIYhAQEAAABgGBIQAAAAAIYhAQEAAABgGBIQAAAAAIYhAQEAAABgGBIQAAAAAIYhAQEAAABgGBIQAAAAAIYhAQEAAABgGBIQAAAAAIYhAQEAAABgGBIQAAAAAIYhAQEAAABgGBIQAAAAAIYhAQEAAABgGBIQAAAAAIYhAQEAAABgGBIQAAAAAIYhAQEAAABgGBIQAAAAAIYhAQEAAABgGBIQAAAAAIYhAQEAAABgGBIQAAAAAIYhAQEAAABgGBIQAAAAAIYhAQEAAABgGBIQAAAAAIYhAQEAAABgGBIQAAAAAIYhAQEAAABgGBIQAAAAAIb5f/KIMxP1qAVLAAAAAElFTkSuQmCC' width=800.0/>\n",
       "            </div>\n",
       "        "
      ],
      "text/plain": [
       "Canvas(toolbar=Toolbar(toolitems=[('Home', 'Reset original view', 'home', 'home'), ('Back', 'Back to previous …"
      ]
     },
     "metadata": {},
     "output_type": "display_data"
    }
   ],
   "source": [
    "draw_confusion_matrix(y_test, y_pred)"
   ]
  },
  {
   "cell_type": "markdown",
   "id": "9bfb28d6-d144-48fe-9c9a-ac7e51850ef0",
   "metadata": {},
   "source": [
    "#### Calcul mse avec les prédictions\n",
    "error calculations\n",
    "    - https://github.com/jeffheaton/t81_558_deep_learning/blob/master/t81_558_class_04_3_regression.ipynb"
   ]
  },
  {
   "cell_type": "code",
   "execution_count": 12,
   "id": "d97dfdd2-64ee-40cd-93ca-ce9ec9b72c8c",
   "metadata": {},
   "outputs": [
    {
     "name": "stdout",
     "output_type": "stream",
     "text": [
      "Final score (MSE): 0.11\n"
     ]
    }
   ],
   "source": [
    "# Mean squared error with \n",
    "from sklearn import metrics\n",
    "# Measure MSE error.  \n",
    "score = metrics.mean_squared_error(y_pred,y_test)\n",
    "print(\"Final score (MSE): {}\".format(score))"
   ]
  },
  {
   "cell_type": "markdown",
   "id": "708da5e0-b4ed-4a56-a6aa-fa26e77a6886",
   "metadata": {},
   "source": [
    "### Essai avec fichier multilingue \n",
    "\n",
    "--------------------------------\n",
    "\n",
    "#### Avec tout le jeu de données train, test, valid (77860, 8652, 9613):\n",
    "\n",
    "#### Avec bigrammes `en th es`\n",
    "\n",
    "Test loss: 0.9385170340538025\\\n",
    "Test accuracy: 0.6062623262405396\n",
    "\n",
    "#### Avec 4 bigrammes `en th le es`\n",
    "Test loss\n",
    "Final score (MSE): 0.11245188806824091\n",
    "\n",
    "#### Avec 6 bigrammes `en th le es be co`\n",
    "\n",
    "\n",
    "Nous observons un progrès significatif avec une augmentation des paramètres , ex. nombre de bigrammes \n",
    "\n",
    "\n",
    "| Nombre de bigrammes | bigrammes choisis | Loss | Accuracy| MSE\n",
    "|:--------:|:--------:|:--------:|:--------:|:--------:|\n",
    "| 3 | en th es | 0.9385170340538025 | 0.6062623262405396 | (oublié de noter)\n",
    "| 4 | es th le es | 0.8471202850341797 | 0.6626443266868591 | 0.11245188806824091\n",
    "| 6 | es th es le be co | 0.6632034182548523  |  0.7276604771614075 | 0.09077984673532369\n",
    "\n",
    "( MSE 0.09077984673532369 pour 6 bigrammes)\n",
    "\n",
    "- utilisation de keras sequential\n",
    "- globalement meilleures résultats avec Adam que avec sgd\n",
    "- l'augmentation de nombres de bigrammes donne de meilleurs scores\n",
    "- C'est seulement à partir de 6 bigrammes que nous commençons à avoir des résultats à peu près fiables\n",
    "\n",
    "#### Activation\n",
    "Pour une categorisation multi-class, il nous faut des activations `sigmoid` et l'avant dernière couche `softmax`.\n",
    "\n",
    "#### Loss \n",
    "Pour deux langues nous avons utilisé `binary_crossentropy` alors qu'avec le fichier contenant six langues nous utilisons `categorical_crossentropy`. \n",
    "\n",
    "\n",
    "\n",
    "### Question pour le cours :\n",
    "``Est-ce qu'on split les données avant ou après la normalisation ?``\n",
    "\n",
    "\n",
    "P.S. J'ai fait plusieurs essais avec des paramètres et des epoch différents. \\\n",
    "Malheureusement je n'ai pas eu le temps de tout noter. "
   ]
  }
 ],
 "metadata": {
  "kernelspec": {
   "display_name": "Python 3 (ipykernel)",
   "language": "python",
   "name": "python3"
  },
  "language_info": {
   "codemirror_mode": {
    "name": "ipython",
    "version": 3
   },
   "file_extension": ".py",
   "mimetype": "text/x-python",
   "name": "python",
   "nbconvert_exporter": "python",
   "pygments_lexer": "ipython3",
   "version": "3.11.7"
  }
 },
 "nbformat": 4,
 "nbformat_minor": 5
}
