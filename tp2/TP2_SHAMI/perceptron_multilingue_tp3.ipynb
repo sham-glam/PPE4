{
 "cells": [
  {
   "cell_type": "markdown",
   "id": "0700daf5-cb84-47a4-aec5-9a9740c24921",
   "metadata": {},
   "source": [
    "# Perceptron Multilingue"
   ]
  },
  {
   "cell_type": "markdown",
   "id": "69d3d3bf-d6a7-460d-9fc0-f1e13fbc1cd9",
   "metadata": {},
   "source": [
    "### Import des fonctions du fichiers utils"
   ]
  },
  {
   "cell_type": "code",
   "execution_count": 1,
   "id": "81f0ba4b-6de5-43dd-8bde-c5b40907c28e",
   "metadata": {},
   "outputs": [
    {
     "name": "stderr",
     "output_type": "stream",
     "text": [
      "2024-02-15 12:48:59.818945: I external/local_tsl/tsl/cuda/cudart_stub.cc:31] Could not find cuda drivers on your machine, GPU will not be used.\n",
      "2024-02-15 12:48:59.855717: E external/local_xla/xla/stream_executor/cuda/cuda_dnn.cc:9261] Unable to register cuDNN factory: Attempting to register factory for plugin cuDNN when one has already been registered\n",
      "2024-02-15 12:48:59.855751: E external/local_xla/xla/stream_executor/cuda/cuda_fft.cc:607] Unable to register cuFFT factory: Attempting to register factory for plugin cuFFT when one has already been registered\n",
      "2024-02-15 12:48:59.856783: E external/local_xla/xla/stream_executor/cuda/cuda_blas.cc:1515] Unable to register cuBLAS factory: Attempting to register factory for plugin cuBLAS when one has already been registered\n",
      "2024-02-15 12:48:59.862727: I external/local_tsl/tsl/cuda/cudart_stub.cc:31] Could not find cuda drivers on your machine, GPU will not be used.\n",
      "2024-02-15 12:48:59.863358: I tensorflow/core/platform/cpu_feature_guard.cc:182] This TensorFlow binary is optimized to use available CPU instructions in performance-critical operations.\n",
      "To enable the following instructions: AVX2 FMA, in other operations, rebuild TensorFlow with the appropriate compiler flags.\n",
      "2024-02-15 12:49:00.812806: W tensorflow/compiler/tf2tensorrt/utils/py_utils.cc:38] TF-TRT Warning: Could not find TensorRT\n"
     ]
    }
   ],
   "source": [
    "# import des fonctions du fichiers utils\n",
    "%matplotlib widget \n",
    "from utils import *"
   ]
  },
  {
   "cell_type": "markdown",
   "id": "77963c4d-7c01-44f1-9193-ec102034627f",
   "metadata": {},
   "source": [
    "### Charger et diviser les données\n",
    "#### Avec ou sans normalisation"
   ]
  },
  {
   "cell_type": "code",
   "execution_count": 2,
   "id": "08406d47-0b29-48e0-8705-06ff2d4abae1",
   "metadata": {},
   "outputs": [
    {
     "name": "stdout",
     "output_type": "stream",
     "text": [
      "data length : 96125\n"
     ]
    }
   ],
   "source": [
    "# keras text vectoriser \n",
    "data = load_data(normalise=True) # normalise=True or False(by default)\n",
    "print(f'data length : {len(data)}') # del\n"
   ]
  },
  {
   "cell_type": "code",
   "execution_count": null,
   "id": "f50fa88c-be81-4b1d-b636-644d3537d2b0",
   "metadata": {},
   "outputs": [],
   "source": [
    "#### Keras Text Vectoriser\n"
   ]
  },
  {
   "cell_type": "code",
   "execution_count": 2,
   "id": "fac11249-a544-4d20-9939-bdf86107b4c0",
   "metadata": {},
   "outputs": [
    {
     "name": "stdout",
     "output_type": "stream",
     "text": [
      "data length : 96125\n"
     ]
    },
    {
     "data": {
      "text/plain": [
       "(77860, 8652, 9613)"
      ]
     },
     "execution_count": 2,
     "metadata": {},
     "output_type": "execute_result"
    }
   ],
   "source": [
    "# valider avant et après normalisation\n",
    "# data = load_data(normalise=True) # normalise=True or False(by default)\n",
    "# print(f'data length : {len(data)}') # del\n",
    "\n",
    "train, valid, test = split_dataset(data)\n",
    "len(train), len(valid), len(test)"
   ]
  },
  {
   "cell_type": "markdown",
   "id": "ee98406a-ba0c-4c2f-ac03-1d10f5e8a29d",
   "metadata": {},
   "source": [
    "#### Définir la taille des jeu de données "
   ]
  },
  {
   "cell_type": "code",
   "execution_count": 3,
   "id": "6d707a32-950d-4921-ab1f-bc8e29a69c23",
   "metadata": {},
   "outputs": [],
   "source": [
    "train_length = 1000 #77860\n",
    "valid_length = 100 #8652\n",
    "test_length = 100 #9613\n"
   ]
  },
  {
   "cell_type": "markdown",
   "id": "f9266df5-c521-415b-965d-014f693cb30c",
   "metadata": {},
   "source": [
    "#### Transformation en tensors (pour l'entraînement)"
   ]
  },
  {
   "cell_type": "code",
   "execution_count": 4,
   "id": "16fc7a16-8aef-4949-a99b-c50728f46240",
   "metadata": {},
   "outputs": [
    {
     "name": "stderr",
     "output_type": "stream",
     "text": [
      "/home/shamglam/miniconda3/envs/ml/lib/python3.11/site-packages/sklearn/preprocessing/_encoders.py:868: FutureWarning: `sparse` was renamed to `sparse_output` in version 1.2 and will be removed in 1.4. `sparse_output` is ignored unless you leave `sparse` to its default value.\n",
      "  warnings.warn(\n"
     ]
    }
   ],
   "source": [
    "X_tr, Y_tr = dataset_to_tensors(train[:train_length])"
   ]
  },
  {
   "cell_type": "code",
   "execution_count": 5,
   "id": "d922a84c-240c-45a6-94e0-52098e66eef7",
   "metadata": {},
   "outputs": [
    {
     "name": "stdout",
     "output_type": "stream",
     "text": [
      "(1000, 6) (1000, 6)\n"
     ]
    }
   ],
   "source": [
    "print(X_tr.shape, Y_tr.shape)"
   ]
  },
  {
   "cell_type": "markdown",
   "id": "4b6a9d37-8fc0-417d-aed5-6f7192c70060",
   "metadata": {},
   "source": [
    "### Creation de modèle\n"
   ]
  },
  {
   "cell_type": "code",
   "execution_count": 6,
   "id": "ed3a87a1-792a-4a86-aaf4-9d6aef746ef3",
   "metadata": {},
   "outputs": [
    {
     "data": {
      "text/html": [
       "<pre style=\"white-space:pre;overflow-x:auto;line-height:normal;font-family:Menlo,'DejaVu Sans Mono',consolas,'Courier New',monospace\"><span style=\"font-weight: bold\">Model: \"sequential\"</span>\n",
       "</pre>\n"
      ],
      "text/plain": [
       "\u001b[1mModel: \"sequential\"\u001b[0m\n"
      ]
     },
     "metadata": {},
     "output_type": "display_data"
    },
    {
     "data": {
      "text/html": [
       "<pre style=\"white-space:pre;overflow-x:auto;line-height:normal;font-family:Menlo,'DejaVu Sans Mono',consolas,'Courier New',monospace\">┏━━━━━━━━━━━━━━━━━━━━━━━━━━━━━━━━━┳━━━━━━━━━━━━━━━━━━━━━━━━━━━┳━━━━━━━━━━━━┓\n",
       "┃<span style=\"font-weight: bold\"> Layer (type)                    </span>┃<span style=\"font-weight: bold\"> Output Shape              </span>┃<span style=\"font-weight: bold\">    Param # </span>┃\n",
       "┡━━━━━━━━━━━━━━━━━━━━━━━━━━━━━━━━━╇━━━━━━━━━━━━━━━━━━━━━━━━━━━╇━━━━━━━━━━━━┩\n",
       "│ layer1 (<span style=\"color: #0087ff; text-decoration-color: #0087ff\">Dense</span>)                  │ (<span style=\"color: #00d7ff; text-decoration-color: #00d7ff\">None</span>, <span style=\"color: #00af00; text-decoration-color: #00af00\">16</span>)                │        <span style=\"color: #00af00; text-decoration-color: #00af00\">112</span> │\n",
       "├─────────────────────────────────┼───────────────────────────┼────────────┤\n",
       "│ layer2 (<span style=\"color: #0087ff; text-decoration-color: #0087ff\">Dense</span>)                  │ (<span style=\"color: #00d7ff; text-decoration-color: #00d7ff\">None</span>, <span style=\"color: #00af00; text-decoration-color: #00af00\">8</span>)                 │        <span style=\"color: #00af00; text-decoration-color: #00af00\">136</span> │\n",
       "├─────────────────────────────────┼───────────────────────────┼────────────┤\n",
       "│ dense (<span style=\"color: #0087ff; text-decoration-color: #0087ff\">Dense</span>)                   │ (<span style=\"color: #00d7ff; text-decoration-color: #00d7ff\">None</span>, <span style=\"color: #00af00; text-decoration-color: #00af00\">6</span>)                 │         <span style=\"color: #00af00; text-decoration-color: #00af00\">54</span> │\n",
       "└─────────────────────────────────┴───────────────────────────┴────────────┘\n",
       "</pre>\n"
      ],
      "text/plain": [
       "┏━━━━━━━━━━━━━━━━━━━━━━━━━━━━━━━━━┳━━━━━━━━━━━━━━━━━━━━━━━━━━━┳━━━━━━━━━━━━┓\n",
       "┃\u001b[1m \u001b[0m\u001b[1mLayer (type)                   \u001b[0m\u001b[1m \u001b[0m┃\u001b[1m \u001b[0m\u001b[1mOutput Shape             \u001b[0m\u001b[1m \u001b[0m┃\u001b[1m \u001b[0m\u001b[1m   Param #\u001b[0m\u001b[1m \u001b[0m┃\n",
       "┡━━━━━━━━━━━━━━━━━━━━━━━━━━━━━━━━━╇━━━━━━━━━━━━━━━━━━━━━━━━━━━╇━━━━━━━━━━━━┩\n",
       "│ layer1 (\u001b[38;5;33mDense\u001b[0m)                  │ (\u001b[38;5;45mNone\u001b[0m, \u001b[38;5;34m16\u001b[0m)                │        \u001b[38;5;34m112\u001b[0m │\n",
       "├─────────────────────────────────┼───────────────────────────┼────────────┤\n",
       "│ layer2 (\u001b[38;5;33mDense\u001b[0m)                  │ (\u001b[38;5;45mNone\u001b[0m, \u001b[38;5;34m8\u001b[0m)                 │        \u001b[38;5;34m136\u001b[0m │\n",
       "├─────────────────────────────────┼───────────────────────────┼────────────┤\n",
       "│ dense (\u001b[38;5;33mDense\u001b[0m)                   │ (\u001b[38;5;45mNone\u001b[0m, \u001b[38;5;34m6\u001b[0m)                 │         \u001b[38;5;34m54\u001b[0m │\n",
       "└─────────────────────────────────┴───────────────────────────┴────────────┘\n"
      ]
     },
     "metadata": {},
     "output_type": "display_data"
    },
    {
     "data": {
      "text/html": [
       "<pre style=\"white-space:pre;overflow-x:auto;line-height:normal;font-family:Menlo,'DejaVu Sans Mono',consolas,'Courier New',monospace\"><span style=\"font-weight: bold\"> Total params: </span><span style=\"color: #00af00; text-decoration-color: #00af00\">302</span> (1.18 KB)\n",
       "</pre>\n"
      ],
      "text/plain": [
       "\u001b[1m Total params: \u001b[0m\u001b[38;5;34m302\u001b[0m (1.18 KB)\n"
      ]
     },
     "metadata": {},
     "output_type": "display_data"
    },
    {
     "data": {
      "text/html": [
       "<pre style=\"white-space:pre;overflow-x:auto;line-height:normal;font-family:Menlo,'DejaVu Sans Mono',consolas,'Courier New',monospace\"><span style=\"font-weight: bold\"> Trainable params: </span><span style=\"color: #00af00; text-decoration-color: #00af00\">302</span> (1.18 KB)\n",
       "</pre>\n"
      ],
      "text/plain": [
       "\u001b[1m Trainable params: \u001b[0m\u001b[38;5;34m302\u001b[0m (1.18 KB)\n"
      ]
     },
     "metadata": {},
     "output_type": "display_data"
    },
    {
     "data": {
      "text/html": [
       "<pre style=\"white-space:pre;overflow-x:auto;line-height:normal;font-family:Menlo,'DejaVu Sans Mono',consolas,'Courier New',monospace\"><span style=\"font-weight: bold\"> Non-trainable params: </span><span style=\"color: #00af00; text-decoration-color: #00af00\">0</span> (0.00 B)\n",
       "</pre>\n"
      ],
      "text/plain": [
       "\u001b[1m Non-trainable params: \u001b[0m\u001b[38;5;34m0\u001b[0m (0.00 B)\n"
      ]
     },
     "metadata": {},
     "output_type": "display_data"
    }
   ],
   "source": [
    "# m = PerceptronModel1()\n",
    "m = PerceptronModel2()\n",
    "# m.set_weights([np.array([[-0.09],[0.09]])]) # change to 6 weights \n",
    "m.summary()"
   ]
  },
  {
   "cell_type": "code",
   "execution_count": 7,
   "id": "5636dc5a-87ff-4eab-88a8-32068b674acd",
   "metadata": {},
   "outputs": [
    {
     "name": "stdout",
     "output_type": "stream",
     "text": [
      "len test data: (100, 6), (100, 6)\n"
     ]
    },
    {
     "name": "stderr",
     "output_type": "stream",
     "text": [
      "/home/shamglam/miniconda3/envs/ml/lib/python3.11/site-packages/sklearn/preprocessing/_encoders.py:868: FutureWarning: `sparse` was renamed to `sparse_output` in version 1.2 and will be removed in 1.4. `sparse_output` is ignored unless you leave `sparse` to its default value.\n",
      "  warnings.warn(\n",
      "/home/shamglam/miniconda3/envs/ml/lib/python3.11/site-packages/sklearn/preprocessing/_encoders.py:868: FutureWarning: `sparse` was renamed to `sparse_output` in version 1.2 and will be removed in 1.4. `sparse_output` is ignored unless you leave `sparse` to its default value.\n",
      "  warnings.warn(\n"
     ]
    }
   ],
   "source": [
    "# test data to tensors\n",
    "X_test , y_test = dataset_to_tensors(test[:test_length])\n",
    "print(f'len test data: {X_test.shape}, {y_test.shape}')\n",
    "\n",
    "X_val, y_val = dataset_to_tensors(valid[:valid_length])\n",
    "\n"
   ]
  },
  {
   "cell_type": "markdown",
   "id": "3267592f-b4db-4fb6-a9cb-7b41da23e7a0",
   "metadata": {},
   "source": [
    "#### Model Fit"
   ]
  },
  {
   "cell_type": "code",
   "execution_count": 8,
   "id": "53d84040-b585-4b43-afd6-7d78772d6cc3",
   "metadata": {},
   "outputs": [
    {
     "name": "stdout",
     "output_type": "stream",
     "text": [
      "Epoch 1/15\n",
      "250/250 - 1s - 5ms/step - accuracy: 0.2060 - loss: 1.7422 - val_accuracy: 0.2500 - val_loss: 1.6916\n",
      "Epoch 2/15\n",
      "250/250 - 0s - 907us/step - accuracy: 0.3650 - loss: 1.6403 - val_accuracy: 0.4400 - val_loss: 1.5905\n",
      "Epoch 3/15\n",
      "250/250 - 0s - 856us/step - accuracy: 0.5030 - loss: 1.5295 - val_accuracy: 0.5200 - val_loss: 1.4722\n",
      "Epoch 4/15\n",
      "250/250 - 0s - 954us/step - accuracy: 0.5150 - loss: 1.4090 - val_accuracy: 0.5800 - val_loss: 1.3557\n",
      "Epoch 5/15\n",
      "250/250 - 0s - 907us/step - accuracy: 0.5260 - loss: 1.2962 - val_accuracy: 0.5900 - val_loss: 1.2527\n",
      "Epoch 6/15\n",
      "250/250 - 0s - 879us/step - accuracy: 0.5590 - loss: 1.2022 - val_accuracy: 0.5900 - val_loss: 1.1708\n",
      "Epoch 7/15\n",
      "250/250 - 0s - 893us/step - accuracy: 0.5670 - loss: 1.1283 - val_accuracy: 0.5700 - val_loss: 1.1087\n",
      "Epoch 8/15\n",
      "250/250 - 0s - 898us/step - accuracy: 0.5870 - loss: 1.0702 - val_accuracy: 0.5900 - val_loss: 1.0643\n",
      "Epoch 9/15\n",
      "250/250 - 0s - 935us/step - accuracy: 0.5890 - loss: 1.0271 - val_accuracy: 0.6200 - val_loss: 1.0312\n",
      "Epoch 10/15\n",
      "250/250 - 0s - 874us/step - accuracy: 0.5980 - loss: 0.9939 - val_accuracy: 0.6400 - val_loss: 1.0061\n",
      "Epoch 11/15\n",
      "250/250 - 0s - 897us/step - accuracy: 0.6340 - loss: 0.9676 - val_accuracy: 0.6200 - val_loss: 0.9898\n",
      "Epoch 12/15\n",
      "250/250 - 0s - 900us/step - accuracy: 0.6250 - loss: 0.9463 - val_accuracy: 0.6300 - val_loss: 0.9765\n",
      "Epoch 13/15\n",
      "250/250 - 0s - 858us/step - accuracy: 0.6380 - loss: 0.9275 - val_accuracy: 0.6400 - val_loss: 0.9657\n",
      "Epoch 14/15\n",
      "250/250 - 0s - 841us/step - accuracy: 0.6470 - loss: 0.9125 - val_accuracy: 0.6400 - val_loss: 0.9543\n",
      "Epoch 15/15\n",
      "250/250 - 0s - 896us/step - accuracy: 0.6480 - loss: 0.8970 - val_accuracy: 0.6500 - val_loss: 0.9447\n",
      "Restoring model weights from the end of the best epoch: 15.\n"
     ]
    },
    {
     "data": {
      "text/plain": [
       "<keras.src.callbacks.history.History at 0x7f48eea576d0>"
      ]
     },
     "execution_count": 8,
     "metadata": {},
     "output_type": "execute_result"
    }
   ],
   "source": [
    "# calculate loss and accuracy\n",
    "monitor = EarlyStopping(monitor='val_loss', min_delta=1e-3, \n",
    "    patience=5, verbose=1, mode='auto', restore_best_weights=True)\n",
    "\n",
    "m.fit(x=X_tr, y=Y_tr, epochs=15, batch_size=4, validation_data=(X_val, y_val), callbacks=[monitor], verbose=2 )\n"
   ]
  },
  {
   "cell_type": "code",
   "execution_count": 9,
   "id": "e2b834a3-8459-4a21-9ce6-cdb0314661be",
   "metadata": {},
   "outputs": [
    {
     "name": "stdout",
     "output_type": "stream",
     "text": [
      "0.9011863470077515  |  0.6399999856948853 \n",
      "Test loss: 0.9011863470077515\n",
      "Test accuracy: 0.6399999856948853\n"
     ]
    }
   ],
   "source": [
    "# Evaluation du modèle\n",
    "score = m.evaluate(X_test, y_test, verbose=0) # score = test_loss, test_accuracy\n",
    "print(f'{score[0]}  |  {score[1]} ')\n",
    "print('Test loss:', score[0])\n",
    "print('Test accuracy:', score[1])"
   ]
  },
  {
   "cell_type": "markdown",
   "id": "f75c436c",
   "metadata": {},
   "source": [
    "### Hinge Loss"
   ]
  },
  {
   "cell_type": "code",
   "execution_count": 10,
   "id": "38da43d2-8cdc-47dd-a4d3-29edfc270813",
   "metadata": {},
   "outputs": [
    {
     "name": "stdout",
     "output_type": "stream",
     "text": [
      "\u001b[1m4/4\u001b[0m \u001b[32m━━━━━━━━━━━━━━━━━━━━\u001b[0m\u001b[37m\u001b[0m \u001b[1m0s\u001b[0m 10ms/step\n"
     ]
    }
   ],
   "source": [
    "y_pred_val = m.predict(X_test)"
   ]
  },
  {
   "cell_type": "code",
   "execution_count": 11,
   "id": "c233562e",
   "metadata": {},
   "outputs": [],
   "source": [
    "# # Hinge Loss Categorical \n",
    "\n",
    "# h = tf.keras.losses.CategoricalHinge(\n",
    "#     reduction=\"sum_over_batch_size\", name=\"categorical_hinge\")\n",
    "\n",
    "# neg=max((1-y_test)*y_pred_val) \n",
    "# pos=sum(y_test*y_pred_val)\n"
   ]
  },
  {
   "cell_type": "code",
   "execution_count": 12,
   "id": "65d663de-c773-4328-bc81-7c922eaaab74",
   "metadata": {},
   "outputs": [],
   "source": [
    "\n",
    "\n",
    "\n",
    "# print(y_test.shape, y_test.shape)\n",
    "max_index = np.argmax(y_pred_val, axis=1)\n",
    "# print(y_test[:10], y_pred[:10])\n",
    "y_pred = np.zeros_like(y_pred_val)\n",
    "y_pred[np.arange(len(y_pred_val)), max_index] = 1\n",
    "\n",
    "# y_pred"
   ]
  },
  {
   "cell_type": "markdown",
   "id": "1fe65b91-46a4-4fc0-ab12-92b7a71c9784",
   "metadata": {},
   "source": [
    "#### Confusion Matrix"
   ]
  },
  {
   "cell_type": "code",
   "execution_count": 13,
   "id": "0548cc28-f9fa-41d6-ae0d-1fff724c5474",
   "metadata": {},
   "outputs": [
    {
     "data": {
      "application/vnd.jupyter.widget-view+json": {
       "model_id": "e71c036826654cdb87578a9515392368",
       "version_major": 2,
       "version_minor": 0
      },
      "image/png": "[encoded data removed]",
      "text/html": [
       "\n",
       "            <div style=\"display: inline-block;\">\n",
       "                <div class=\"jupyter-widgets widget-label\" style=\"text-align: center;\">\n",
       "                    Figure\n",
       "                </div>\n",
       "                <img src='data:image/png;base64,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' width=800.0/>\n",
       "            </div>\n",
       "        "
      ],
      "text/plain": [
       "Canvas(toolbar=Toolbar(toolitems=[('Home', 'Reset original view', 'home', 'home'), ('Back', 'Back to previous …"
      ]
     },
     "metadata": {},
     "output_type": "display_data"
    }
   ],
   "source": [
    "draw_confusion_matrix(y_test, y_pred)"
   ]
  },
  {
   "cell_type": "markdown",
   "id": "9bfb28d6-d144-48fe-9c9a-ac7e51850ef0",
   "metadata": {},
   "source": [
    "#### Calcul mse avec les prédictions\n",
    "error calculations\n",
    "    - https://github.com/jeffheaton/t81_558_deep_learning/blob/master/t81_558_class_04_3_regression.ipynb"
   ]
  },
  {
   "cell_type": "code",
   "execution_count": 14,
   "id": "d97dfdd2-64ee-40cd-93ca-ce9ec9b72c8c",
   "metadata": {},
   "outputs": [
    {
     "name": "stdout",
     "output_type": "stream",
     "text": [
      "Final score (MSE): 0.12\n"
     ]
    }
   ],
   "source": [
    "# Mean squared error with \n",
    "from sklearn import metrics\n",
    "# Measure MSE error.  \n",
    "score = metrics.mean_squared_error(y_pred,y_test)\n",
    "print(\"Final score (MSE): {}\".format(score))"
   ]
  },
  {
   "cell_type": "code",
   "execution_count": 15,
   "id": "6e410469",
   "metadata": {},
   "outputs": [],
   "source": [
    "# loss = maximum(1 - y_true * y_pred, 0)"
   ]
  },
  {
   "cell_type": "markdown",
   "id": "708da5e0-b4ed-4a56-a6aa-fa26e77a6886",
   "metadata": {},
   "source": [
    "### Essai avec fichier multilingue \n",
    "\n",
    "--------------------------------\n",
    "\n",
    "#### Avec tout le jeu de données train, test, valid (77860, 8652, 9613):\n",
    "\n",
    "#### Avec bigrammes `en th es`\n",
    "\n",
    "Test loss: 0.9385170340538025\\\n",
    "Test accuracy: 0.6062623262405396\n",
    "\n",
    "#### Avec 4 bigrammes `en th le es`\n",
    "Test loss\n",
    "Final score (MSE): 0.11245188806824091\n",
    "\n",
    "#### Avec 6 bigrammes `en th le es be co`\n",
    "\n",
    "\n",
    "Nous observons un progrès significatif avec une augmentation des paramètres , ex. nombre de bigrammes \n",
    "\n",
    "\n",
    "| Nombre de bigrammes | bigrammes choisis | Loss | Accuracy| MSE\n",
    "|:--------:|:--------:|:--------:|:--------:|:--------:|\n",
    "| 3 | en th es | 0.9385170340538025 | 0.6062623262405396 | (oublié de noter)\n",
    "| 4 | es th le es | 0.8471202850341797 | 0.6626443266868591 | 0.11245188806824091\n",
    "| 6 | es th es le be co | 0.6632034182548523  |  0.7276604771614075 | 0.09077984673532369\n",
    "\n",
    "( MSE 0.09077984673532369 pour 6 bigrammes)\n",
    "\n",
    "- utilisation de keras sequential\n",
    "- globalement meilleures résultats avec Adam que avec sgd\n",
    "- l'augmentation de nombres de bigrammes donne de meilleurs scores\n",
    "- C'est seulement à partir de 6 bigrammes que nous commençons à avoir des résultats à peu près fiables\n",
    "\n",
    "#### Activation\n",
    "Pour une categorisation multi-class, il nous faut des activations `sigmoid` et l'avant dernière couche `softmax`.\n",
    "\n",
    "#### Loss \n",
    "Pour deux langues nous avons utilisé `binary_crossentropy` alors qu'avec le fichier contenant six langues nous utilisons `categorical_crossentropy`. \n",
    "\n",
    "\n",
    "\n",
    "### Question pour le cours :\n",
    "``Est-ce qu'on split les données avant ou après la normalisation ?``\n",
    "\n",
    "\n",
    "P.S. J'ai fait plusieurs essais avec des paramètres et des epoch différents. \\\n",
    "Malheureusement je n'ai pas eu le temps de tout noter. \n",
    "\n",
    "\n",
    "-----------------------------------------------------------------------------------------------"
   ]
  },
  {
   "cell_type": "markdown",
   "id": "0a70e3ad-2300-4637-aa27-d421edf1ceac",
   "metadata": {},
   "source": [
    "### Corrections\n",
    "- should compute all parameters when notebook is run\n",
    "- ex. with 3 , 4 , 6 bigrammes\n",
    "- build_encoders -> sparse_categorical_crossentropy\n",
    "- 100 bigrammes les plus fréquents\n",
    "  \n",
    "\n",
    "### Devoirs\n",
    "Regarder video :\n",
    "- noter questions \n",
    "- translate Pytorch to Keras\n",
    "- keras.layers.TextVectorization(...\n",
    "- \n",
    "\n",
    "    "
   ]
  },
  {
   "cell_type": "code",
   "execution_count": null,
   "id": "7c812ee0-09b5-4fbd-8837-530f8d3db83d",
   "metadata": {},
   "outputs": [],
   "source": []
  }
 ],
 "metadata": {
  "kernelspec": {
   "display_name": "Python 3 (ipykernel)",
   "language": "python",
   "name": "python3"
  },
  "language_info": {
   "codemirror_mode": {
    "name": "ipython",
    "version": 3
   },
   "file_extension": ".py",
   "mimetype": "text/x-python",
   "name": "python",
   "nbconvert_exporter": "python",
   "pygments_lexer": "ipython3",
   "version": "3.11.7"
  }
 },
 "nbformat": 4,
 "nbformat_minor": 5
}
